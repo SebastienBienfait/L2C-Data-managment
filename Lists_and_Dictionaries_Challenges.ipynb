{
  "nbformat": 4,
  "nbformat_minor": 0,
  "metadata": {
    "colab": {
      "name": "Copy of Lists and Dictionaries Challenges.ipynb",
      "provenance": [],
      "collapsed_sections": [],
      "include_colab_link": true
    },
    "kernelspec": {
      "name": "python3",
      "display_name": "Python 3"
    },
    "language_info": {
      "name": "python"
    }
  },
  "cells": [
    {
      "cell_type": "markdown",
      "metadata": {
        "id": "view-in-github",
        "colab_type": "text"
      },
      "source": [
        "<a href=\"https://colab.research.google.com/github/SebastienBienfait/L2C-Data-managment/blob/main/Lists_and_Dictionaries_Challenges.ipynb\" target=\"_parent\"><img src=\"https://colab.research.google.com/assets/colab-badge.svg\" alt=\"Open In Colab\"/></a>"
      ]
    },
    {
      "cell_type": "markdown",
      "metadata": {
        "id": "nEJLJX3J9B2k"
      },
      "source": [
        "# Some challenges to help you become more confident with using Lists, Tuples and Dictionaries\n",
        "\n",
        "---\n",
        "\n"
      ]
    },
    {
      "cell_type": "markdown",
      "metadata": {
        "id": "JvV6htgh9Nc1"
      },
      "source": [
        "### Exercise 1 - extending a list\n",
        "\n",
        "There are three ways to extend a list in Python:  \n",
        "*  use `list_name.append(item)`, `list_name.insert(item)`\n",
        "*  concatenate two lists using the + operator (e.g. new_list = list1 + list2)\n",
        "*  use `list1_name.extend(list2_name)`\n",
        "\n",
        "The last method allows us to add all the `list2` items onto `list1` and for the new, extended list to now be `list1`.  `list2` will always be added to the end of `list1`.  \n",
        "\n",
        "If the objective is to add list2 before list1 then use `list2.extend(list1)`\n",
        "\n",
        "Write a function which will:  \n",
        "*  create a list of **years** containing the years 1960, 1970, 1980, 1990, 2000  \n",
        "*  print the list of years  \n",
        "*  calculate how long ago each year was and print the year and how long ago it was (e.g. 1990 was 30 years ago)  *(Hint:  use the datetime library to get the current year)*   \n",
        "*  create a second list, **years2** containing the years 2010 and 2020, extend `years` to include these later years\n",
        "*  create a third list, **years3** containing the years 1930, 1940 and 1950 and extend the list to include all the years between 1930 and 2020\n",
        "*  print the final list\n",
        "\n",
        "Expected output:  \n",
        "[1960, 1970, 1980, 1990]  \n",
        "1960 was 61 years ago  \n",
        "1970 was 51 years ago  \n",
        "1980 was 41 years ago  \n",
        "1990 was 31 years ago  \n",
        "2000 was 21 years ago  \n",
        "[1930, 1940, 1950, 1960, 1970, 1980, 1990, 2000, 2010, 2020] "
      ]
    },
    {
      "cell_type": "code",
      "metadata": {
        "id": "QAyTVqoO8-08",
        "colab": {
          "base_uri": "https://localhost:8080/"
        },
        "outputId": "dceee2cd-6586-4e8a-c2c9-9bdb433e7ea2"
      },
      "source": [
        "from datetime import datetime\n",
        "\n",
        "def extending_lists():\n",
        "  years = [1960,1970,1980,1990,2000]\n",
        "  current_year = int(datetime.now().strftime(\"%Y\"))\n",
        "  for i in years:\n",
        "    years_ago = current_year - i\n",
        "    print(i, \" was \",years_ago, \" years ago\")\n",
        "\n",
        "  years2 = [2010,2020]\n",
        "  years.extend(years2)\n",
        "  print(years)\n",
        "\n",
        "  years3 = [1930,1940,1950]\n",
        "  years3.extend(years)\n",
        "  print(years3)\n",
        "extending_lists()\n"
      ],
      "execution_count": 4,
      "outputs": [
        {
          "output_type": "stream",
          "name": "stdout",
          "text": [
            "1960  was  62  years ago\n",
            "1970  was  52  years ago\n",
            "1980  was  42  years ago\n",
            "1990  was  32  years ago\n",
            "2000  was  22  years ago\n",
            "[1960, 1970, 1980, 1990, 2000, 2010, 2020]\n",
            "[1930, 1940, 1950, 1960, 1970, 1980, 1990, 2000, 2010, 2020]\n"
          ]
        }
      ]
    },
    {
      "cell_type": "markdown",
      "metadata": {
        "id": "S5iPicFzBzOW"
      },
      "source": [
        "---\n",
        "### Exercise 2 - creating a dictionary from a tuple and three lists\n",
        "\n",
        "Write a function which will create a list of dictionary items using the values in a tuple as the dictionary keys and the values in three corresponding lists as the dictionary values.\n",
        "\n",
        "*  loop through the status items in the tuple called task_status\n",
        "*  for each status, loop through the list with the same name (*Hint:  you can use eval(status) to access the list with the matching name  e.g. for task in eval(status)* )\n",
        "*  each time round this second loop, create a dictionary object with the  key:value pair {status : task}\n",
        "*  add each new dictionary to a list called **project_board** that was created as an empty list before the loops  \n",
        "*  print the project_board list\n",
        "\n",
        "Expected output:  \n",
        "\n",
        "[{'assigned': 'task1'}, {'assigned': 'task2'}, {'assigned': 'task3'}, {'inprogress': 'task4'}, {'inprogress': 'task5'}, {'inprogress': 'task6'}, {'completed': 'task7'}, {'completed': 'task8'}, {'completed': 'task9'}] \n",
        "\n"
      ]
    },
    {
      "cell_type": "code",
      "metadata": {
        "id": "KXYOSHY-C7m4",
        "colab": {
          "base_uri": "https://localhost:8080/"
        },
        "outputId": "2ab43664-f5ae-4cd7-a6ed-35d2d292f0df"
      },
      "source": [
        "def create_project_board():\n",
        "  task_status = (\"assigned\", \"inprogress\", \"completed\")\n",
        "  assigned = ['task1','task2','task3']\n",
        "  inprogress = ['task4','task5','task6']\n",
        "  completed = ['task7','task8','task9']\n",
        "\n",
        "  project_board = []\n",
        "\n",
        "  for i in task_status:\n",
        "    for j in eval(i):\n",
        "      new_dict = {i:j}\n",
        "      project_board.append(new_dict)\n",
        "  return project_board\n",
        "\n",
        "\n",
        "print(create_project_board())\n"
      ],
      "execution_count": 16,
      "outputs": [
        {
          "output_type": "stream",
          "name": "stdout",
          "text": [
            "[{'assigned': 'task1'}, {'assigned': 'task2'}, {'assigned': 'task3'}, {'inprogress': 'task4'}, {'inprogress': 'task5'}, {'inprogress': 'task6'}, {'completed': 'task7'}, {'completed': 'task8'}, {'completed': 'task9'}]\n"
          ]
        }
      ]
    },
    {
      "cell_type": "markdown",
      "metadata": {
        "id": "M1BuTu9p19Ma"
      },
      "source": [
        "---\n",
        "### Exercise 3 - names and heights\n",
        "\n",
        "Write a function which will allow a user to enter the names and heights of a set of people and add each set of information as a record (dictionary) to a list. The function will stop collecting names and heights when the user enters \"STOP\" as the name.\n",
        "\n",
        "Then, the function will:  \n",
        "\n",
        "*   produce a list of names in order of the shortest person to the tallest\n",
        "*   calculate the name of the tallest person\n",
        "*   calculate the name of the shortest person\n",
        "*   calculate the average height\n",
        "*   calculate the name of the person who is closest to the average height\n",
        "\n",
        "\n",
        "\n",
        "\n"
      ]
    },
    {
      "cell_type": "code",
      "metadata": {
        "id": "reuyww3e18uv",
        "colab": {
          "base_uri": "https://localhost:8080/"
        },
        "outputId": "fe3bc855-91d1-4e39-e2ee-0e3eab4d08d3"
      },
      "source": [
        "def names_heights():\n",
        "  name_height_dictionary = {}\n",
        "  name_height_list = []\n",
        "  input_name = \"\"\n",
        "  while input_name != \"stop\":\n",
        "    input_name = input(\"Inupt name: \")\n",
        "\n",
        "    if input_name == \"stop\":\n",
        "      name_height_list.append(name_height_dictionary)\n",
        "      print(\"input list: \",name_height_list)\n",
        "\n",
        "\n",
        "      #doing the max/min values\n",
        "      max = 0\n",
        "      max_key = \"\"\n",
        "      min = 100000\n",
        "      min_key = \"\"\n",
        "      for k,v in name_height_dictionary.items():\n",
        "        if v> max:\n",
        "          max = v\n",
        "          max_key = k\n",
        "        if v< min:\n",
        "          min = v\n",
        "          min_key = k\n",
        "      print(\"Tallest person is: \",max_key)\n",
        "      print(\"Smallest person is: \",min_key)\n",
        "\n",
        "      #doing the average height\n",
        "      total_height = 0\n",
        "      for i in name_height_dictionary.values():\n",
        "        total_height += i\n",
        "      average_height = total_height/len(name_height_dictionary.values())\n",
        "\n",
        "      clostest_to_av = 100\n",
        "      average_key=\"\"\n",
        "      for k,v in name_height_dictionary.items():\n",
        "        differance = abs(v-average_height)\n",
        "\n",
        "        if differance < clostest_to_av:\n",
        "\n",
        "          clostest_to_av = differance\n",
        "          #print(clostest_to_av)\n",
        "          average_key = k\n",
        "      print(\"The average height is: \", average_height)\n",
        "      print(\"The person with the most average height is: \", average_key)\n",
        "\n",
        "\n",
        "    else:\n",
        "      input_height = int(input(\"Input height: \"))\n",
        "\n",
        "      name_height_dictionary[input_name] = input_height\n",
        "\n",
        "names_heights()"
      ],
      "execution_count": 40,
      "outputs": [
        {
          "output_type": "stream",
          "name": "stdout",
          "text": [
            "Inupt name: tim\n",
            "Input height: 12\n",
            "Inupt name: john\n",
            "Input height: 13\n",
            "Inupt name: sam\n",
            "Input height: 14\n",
            "Inupt name: stop\n",
            "[{'tim': 12, 'john': 13, 'sam': 14}]\n",
            "Tallest person is:  sam\n",
            "Smallest person is:  tim\n",
            "the differance for tim  is  1.0\n",
            "average_key changed to tim\n",
            "the differance for john  is  0.0\n",
            "average_key changed to john\n",
            "the differance for sam  is  1.0\n",
            "The average height is:  13.0\n",
            "The person with the most average height is:  john\n"
          ]
        }
      ]
    },
    {
      "cell_type": "code",
      "source": [
        ""
      ],
      "metadata": {
        "id": "r8hbXQw8sGAa"
      },
      "execution_count": null,
      "outputs": []
    }
  ]
}