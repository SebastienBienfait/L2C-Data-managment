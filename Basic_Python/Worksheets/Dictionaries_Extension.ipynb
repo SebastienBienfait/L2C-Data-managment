{
  "nbformat": 4,
  "nbformat_minor": 0,
  "metadata": {
    "colab": {
      "name": "Copy of Worksheet - Dictionaries.ipynb",
      "provenance": [],
      "collapsed_sections": [],
      "include_colab_link": true
    },
    "kernelspec": {
      "name": "python3",
      "display_name": "Python 3"
    },
    "language_info": {
      "name": "python"
    }
  },
  "cells": [
    {
      "cell_type": "markdown",
      "metadata": {
        "id": "view-in-github",
        "colab_type": "text"
      },
      "source": [
        "<a href=\"https://colab.research.google.com/github/SebastienBienfait/L2C-Data-managment/blob/main/Dictionaries_Extension.ipynb\" target=\"_parent\"><img src=\"https://colab.research.google.com/assets/colab-badge.svg\" alt=\"Open In Colab\"/></a>"
      ]
    },
    {
      "cell_type": "markdown",
      "metadata": {
        "id": "AiiF1h2X4PHP"
      },
      "source": [
        "# Dictionaries\n",
        "\n",
        "---\n",
        "\n",
        "A **dictionary** is a collection of dissimilar data stored together in one *record*. Each item of data has a  (or key) that describes its paired value.  \n",
        "\n",
        "Create a dictionary object by declaring the set of keys and values, e.g.:\n",
        "\n",
        "```\n",
        "   transport = {\n",
        "       \"type\":\"bus\",\n",
        "       \"numPassengers\":72,\n",
        "       \"colour\":\"blue\",\n",
        "       \"fuel\":\"diesel\"\n",
        "   }\n",
        "```\n",
        "\n",
        "To access a value in a dictionary, use its key:  \n",
        "\n",
        "```\n",
        "transport[\"type\"] = \"coach\"\n",
        "transport_type = transport[\"type\"]\n",
        "transport_colour = transport[\"colour\"]\n",
        "transport[\"fuel\"] = petrol\n",
        "```\n",
        "\n",
        "To add a new key/value pair to a dictionary, simply assign a value to a new key:  \n",
        "```\n",
        "transport[\"seats\"] = 54\n",
        "```\n",
        "\n",
        "The transport dictionary will now look like this:  \n",
        "```\n",
        "   transport = {\n",
        "       \"type\":\"bus\",\n",
        "       \"numPassengers\":72,\n",
        "       \"colour\":\"blue\",\n",
        "       \"fuel\":\"diesel\",\n",
        "       \"seats\":54\n",
        "   }\n",
        "```\n",
        "\n"
      ]
    },
    {
      "cell_type": "markdown",
      "metadata": {
        "id": "1uZ5kNWB6CqK"
      },
      "source": [
        "---\n",
        "### Exercise 1 - print dictionary\n",
        "\n",
        "Write a function which will:  \n",
        "\n",
        "*  create an empty dictionary for a person (name, age and postcode, with values \"\", 0 and \"\")\n",
        "*  ask the user for name, age and postcode and assign the values to the correct keys in the dictionary  \n",
        "*  print the dictionary\n",
        "\n",
        "Test input:  \n",
        "Jack Jones  \n",
        "16  \n",
        "AB5 3DF  \n",
        "\n",
        "Expected output:  \n",
        "```{'name':'Jack Jones', 'age':16, 'postcode':'AB5 3DF'}```"
      ]
    },
    {
      "cell_type": "code",
      "metadata": {
        "id": "Ac7VQTj94Mrc",
        "colab": {
          "base_uri": "https://localhost:8080/"
        },
        "outputId": "78759b87-e796-4a1a-b336-c2dde269583b"
      },
      "source": [
        "def creat_dictionary():\n",
        "  new_dictionary = {\"name\":\"\",\n",
        "                    \"age\": 0,\n",
        "                    \"post_code\":\"\"\n",
        "                    }\n",
        "  new_dictionary[\"name\"]  = input(\"enter name: \")\n",
        "  new_dictionary[\"age\"]  =  input(\"enter age: \")\n",
        "  new_dictionary[\"post_code\"]  =  input(\"enter post code: \")\n",
        "\n",
        "\n",
        "  return new_dictionary\n",
        "\n",
        "print(creat_dictionary())"
      ],
      "execution_count": null,
      "outputs": [
        {
          "output_type": "stream",
          "name": "stdout",
          "text": [
            "enter name: Jack Jones \n",
            "enter age: 16\n",
            "enter post code: AB5 3DF\n",
            "{'name': 'Jack Jones ', 'age': '16', 'post_code': 'AB5 3DF'}\n"
          ]
        }
      ]
    },
    {
      "cell_type": "markdown",
      "metadata": {
        "id": "0OtNqNKv7WKm"
      },
      "source": [
        "---\n",
        "### Exercise 2 - create a dictionary\n",
        "\n",
        "Write a function that will create two dictionaries,without values:  \n",
        "\n",
        "1.  person (with keys firstname, surname, birthdate, postcode)  \n",
        "2.  car (with key/value pairs as follows:  make - Vauxhall, model - Corsa, engineSize - 1199, fuelType - unleaded, num_doors - 4)  \n",
        "\n",
        "*   ask the user to enter the values for the person dictionary  \n",
        "*   print, on one line, the person's name from the person dictionary and the make of the car from the car dictionary.\n",
        "\n",
        "Test input:  \n",
        "Jack  \n",
        "Jones  \n",
        "2005/02/02    \n",
        "AB5 3DF  \n",
        "\n",
        "Expected output:  \n",
        "Jack Jones Vauxhall"
      ]
    },
    {
      "cell_type": "code",
      "metadata": {
        "id": "ZyqhaBCC-GdI",
        "colab": {
          "base_uri": "https://localhost:8080/"
        },
        "outputId": "bd9fb0e2-9a2d-403b-f7dd-cacb3ca05547"
      },
      "source": [
        "from datetime import datetime\n",
        "def car_person_info(fname,sname,byear,bmonth,bday,pcode):\n",
        "  person = {\n",
        "      \"firstname\":\"\",\n",
        "      \"surname\":\"\",\n",
        "      \"birthdate\":0,\n",
        "      \"postcode\":\"\"\n",
        "  }\n",
        "  car = {\n",
        "      \"make\" : \"Vauxhall\",\n",
        "      \"model\" : \"Corsa\",\n",
        "      \"engineSize\" : 1199,\n",
        "      \"fuelType\" : \"unleaded\",\n",
        "      \"num_doors\" : 4\n",
        "  }\n",
        "  person[\"firstname\"] = fname\n",
        "  person[\"surname\"] = sname\n",
        "  person[\"birthdate\"] = datetime(int(byear),int(bmonth),int(bday))\n",
        "  person[\"postcode\"] = pcode\n",
        "\n",
        "  #return person[\"firstname\"]+\" \"+person[\"surname\"]+\" \"+car[\"make\"]\n",
        "  return person, car\n",
        "print(car_person_info(\"Jack\",\"Jones\",\"2005\",\"02\",\"02\", \"AB5 3DF\"))"
      ],
      "execution_count": null,
      "outputs": [
        {
          "output_type": "stream",
          "name": "stdout",
          "text": [
            "({'firstname': 'Jack', 'surname': 'Jones', 'birthdate': datetime.datetime(2005, 2, 2, 0, 0), 'postcode': 'AB5 3DF'}, {'make': 'Vauxhall', 'model': 'Corsa', 'engineSize': 1199, 'fuelType': 'unleaded', 'num_doors': 4})\n"
          ]
        }
      ]
    },
    {
      "cell_type": "markdown",
      "metadata": {
        "id": "gYuuOUYw-G4I"
      },
      "source": [
        "---\n",
        "### Exercise 3 - check dictionary values\n",
        "\n",
        "Write a new function which will:\n",
        "\n",
        "*  set up the same two dictionaries as in Exercise 2  \n",
        "*  ask the user to enter the details to complete the person record  \n",
        "*  calculate the person's age  \n",
        "*  if the person is under 17 then print a message to say that they can't buy a car as they are too young to drive\n",
        "*  else if the person is under 25 then print a message to say that an engine size under 1200 is recommended  \n",
        "*  ask the user to enter the make of car that the person is looking for  \n",
        "*  if the user enters the same make as that stored in the car record, then print a message to say that you have one car of that make in stock and print all the details of the car that you have the record for\n",
        "*  else (if the user enters any other car make) then print a message to say sorry that you don't have any cars of that make in stock\n",
        "*  print a message to say that the user can get more details for stockist in the <user's postcode> area if they call 01234567890\n",
        "*  print a message to say \"Thank you <user's name> for using our site\"  \n",
        "\n",
        "Test input:  \n",
        "Jack  \n",
        "Jones  \n",
        "2005/02/02  \n",
        "AB5 3DF  \n",
        "Vauxhall  \n",
        "\n",
        "Expected output:  \n",
        "You are too young to drive\n",
        "\n",
        "Test input:  \n",
        "John  \n",
        "Jones  \n",
        "2003/02/02  \n",
        "AB5 3DF  \n",
        "Vauxhall \n",
        "\n",
        "Expected output:  \n",
        "An engine size under 1200 is recommended  \n",
        "We have one Vauxhall in stock, details:  \n",
        "Make - Vauxhall    \n",
        "Model - Corsa    \n",
        "Engine size - 1199  \n",
        "Fuel type - unleaded   \n",
        "Number of doors - 4  \n",
        "You can get more details of stockists near AB5 3DF on 01234567890  \n",
        "Thank you John Jones for using our site.     \n",
        "\n",
        "Test input:  \n",
        "John  \n",
        "Jones  \n",
        "2003/02/02  \n",
        "AB5 3DF  \n",
        "Ford  \n",
        "\n",
        "Expected output:  \n",
        "An engine size under 1200 is recommended  \n",
        "Sorry, we don't have any of that make in stock  \n"
      ]
    },
    {
      "cell_type": "code",
      "metadata": {
        "id": "Wp9Il2JG_hDh",
        "colab": {
          "base_uri": "https://localhost:8080/"
        },
        "outputId": "bc687e9e-f60f-455e-9903-45d99d489c6d"
      },
      "source": [
        "from datetime import datetime\n",
        "def check_age():\n",
        "\n",
        "  customer = car_person_info(\"Jack\",\"Jones\",\"2005\",\"02\",\"02\", \"AB5 3DF\")[0]\n",
        "  car = car_person_info(\"Jack\",\"Jones\",\"2005\",\"02\",\"02\", \"AB5 3DF\")[1]\n",
        "\n",
        "  current_time = datetime.now()\n",
        "  current_year = current_time.strftime(\"%Y\")\n",
        "  customer_byear = customer[\"birthdate\"].strftime(\"%Y\")\n",
        "  customer_age = int(current_year) - int(customer_byear)\n",
        "  if customer_age < 17:\n",
        "    return \"The customer is too young to buy a vehical\"\n",
        "  elif customer_age <25:\n",
        "    print(\"An engine size under 1200 is recommended\")\n",
        "  target_vehical_make = input(\"What make of vehical are you looking for? \")\n",
        "  if target_vehical_make == car[\"make\"]:\n",
        "    return print(\"Make: \",car[\"make\"], \"\\n Model: \",car[\"model\"] , \"\\n Engine Size: \",car[\"engineSize\"] , \"\\n Fuel Type: \",car[\"fuelType\"] , \"\\n Number of Doors: \",car[\"num_doors\"])\n",
        "  else:\n",
        "    return print(\"We dont have any of that modle in stock sorry\")\n",
        "\n",
        "\n",
        "check_age()"
      ],
      "execution_count": null,
      "outputs": [
        {
          "output_type": "stream",
          "name": "stdout",
          "text": [
            "An engine size under 1200 is recommended\n",
            "What make of vehical are you looking for? Vauxhall\n",
            "Make:  Vauxhall \n",
            " Model:  Corsa \n",
            " Engine Size:  1199 \n",
            " Fuel Type:  unleaded \n",
            " Number of Doors:  4\n"
          ]
        }
      ]
    },
    {
      "cell_type": "markdown",
      "metadata": {
        "id": "I6dUiRwn7Gkg"
      },
      "source": [
        "---\n",
        "### Exercise 4 - print keys and values\n",
        "\n",
        "Two dictionaries have been created below.  You can print a list of the dictionary's keys using `dictionary_name.keys()` and the values using `dictionary_name.values()`\n",
        "\n",
        "Write a function which will accept a dictionary as a parameter and will:  \n",
        "*  print the dictionary keys as a list   \n",
        "*  print the dictionary values as a list  \n",
        "\n",
        "*Hint*:  you will need to cast the keys as a list (`list(dictionary_name.keys()`)  and do the same for the values.\n",
        "\n",
        "**Expected Output**\n",
        "\n",
        "Input: English  \n",
        "Output: \n",
        "['Andy', 'Angela']  \n",
        "[95, 53]  \n",
        "\n",
        "Input: Maths  \n",
        "Output:  \n",
        "['Andy', 'Angela']  \n",
        "[58, 72] \n",
        " \n",
        "\n",
        "\n"
      ]
    },
    {
      "cell_type": "code",
      "metadata": {
        "id": "FApOckhJEsMs",
        "colab": {
          "base_uri": "https://localhost:8080/"
        },
        "outputId": "19d4bcf9-9687-4df1-d9e0-64a6a284cbc7"
      },
      "source": [
        "def display_dictionary(scores):\n",
        "  return print(list(scores.keys())[0],\" \",list(scores.values())[0],\"\\n\",list(scores.keys())[1],\" \",list(scores.values())[1])\n",
        "  \n",
        "\n",
        "\n",
        "english_scores = {'Andy': 95, 'Angela': 53}\n",
        "maths_scores = {'Andy': 58, 'Angela': 72}\n",
        "print(\"English Scores:\")\n",
        "display_dictionary(english_scores)\n",
        "print(\"Maths Scores:\")\n",
        "display_dictionary(maths_scores)"
      ],
      "execution_count": null,
      "outputs": [
        {
          "output_type": "stream",
          "name": "stdout",
          "text": [
            "English Scores:\n",
            "Andy   95 \n",
            " Angela   53\n",
            "Maths Scores:\n",
            "Andy   58 \n",
            " Angela   72\n"
          ]
        }
      ]
    },
    {
      "cell_type": "markdown",
      "metadata": {
        "id": "segSpkmBFSJl"
      },
      "source": [
        "---\n",
        "### Exercise 5 - add field\n",
        "\n",
        "Write a function which will:\n",
        "\n",
        "*  create a new dictionary called **science_scores** with values of 0 for both Andy and Angela\n",
        "*  update Andy's score for science to 73 and Angela's score to 73   \n",
        "*  create a new key/value pair by adding another learner to the `science_scores`  dictionary (George has a score of 55)    \n",
        "*  print the `science_scores` dictionary to check results  \n",
        "\n",
        "Expected Output\n",
        "\n",
        "{'Andy': 73, 'Angela': 73, 'George': 55}"
      ]
    },
    {
      "cell_type": "code",
      "metadata": {
        "id": "BL1JM-Z7Gttf",
        "colab": {
          "base_uri": "https://localhost:8080/"
        },
        "outputId": "5a2d37e0-3c32-4381-98ff-d4890d95f460"
      },
      "source": [
        "def science():\n",
        "  science_score={\"Andy\":0,\n",
        "                 \"Angela\":0}\n",
        "  science_score[\"Andy\"] = 73\n",
        "  science_score[\"Angela\"] = 73\n",
        "  science_score[\"George\"] = 55\n",
        "  return science_score\n",
        "print(science())"
      ],
      "execution_count": null,
      "outputs": [
        {
          "output_type": "stream",
          "name": "stdout",
          "text": [
            "{'Andy': 73, 'Angela': 73, 'George': 55}\n"
          ]
        }
      ]
    },
    {
      "cell_type": "markdown",
      "metadata": {
        "id": "_Vzv0zlHGt-C"
      },
      "source": [
        "---\n",
        "### Exercise 6 - loop through keys/value pairs\n",
        "\n",
        "Write a function which will use a *for* loop to print the each key/value pair in the science dictionary (recreate this dictionary in this function) \n",
        "\n",
        "*(Hint: you can iterate through the key/value pairs in the dictionary in the same way as you iterate through a loop (e.g. for record in dictionary) and print the record (which is the key) and its value)*\n",
        "\n",
        "Expected output:  \n",
        "\n",
        "Angela 72  \n",
        "Andy 72  \n",
        "George 55  "
      ]
    },
    {
      "cell_type": "code",
      "metadata": {
        "id": "JL40_-W-Hxnt",
        "colab": {
          "base_uri": "https://localhost:8080/"
        },
        "outputId": "00b8f93b-a03b-47b8-88b0-1cc175e412d4"
      },
      "source": [
        "def dict_loops():\n",
        "  science_score = science()\n",
        "  for k in science_score.keys():\n",
        "    print(k,science_score[k])\n",
        "\n",
        "  print(\"\\n\")\n",
        "\n",
        "  for k,v in science_score.items(): #.item() method is a tuple therefore it can have 2 variables which it can iterate over simultaniously and allows for seperate printing\n",
        "    print(k,v)\n",
        "\n",
        "dict_loops()"
      ],
      "execution_count": null,
      "outputs": [
        {
          "output_type": "stream",
          "name": "stdout",
          "text": [
            "Andy 73\n",
            "Angela 73\n",
            "George 55\n",
            "\n",
            "\n",
            "Andy 73\n",
            "Angela 73\n",
            "George 55\n"
          ]
        }
      ]
    },
    {
      "cell_type": "markdown",
      "metadata": {
        "id": "G9wamxzRJdrE"
      },
      "source": [
        "---\n",
        "### Exercise 7 - generate new dictionary  \n",
        "\n",
        "Write a functions which will:\n",
        "*  create a new dictionary where the keys are numbers between 1 and 15 (both included) and the values are square of keys\n",
        "*  print the dictionary\n",
        "\n",
        "Expected output:  \n",
        "{1: 1, 2: 4, 3: 9, 4: 16, 5: 25, 6: 36, 7: 49, 8: 64, 9: 81, 10: 100, 11: 121, 12: 144, 13: 169, 14: 196, 15: 225}"
      ]
    },
    {
      "cell_type": "code",
      "metadata": {
        "id": "1-LI-LVrJ--N",
        "colab": {
          "base_uri": "https://localhost:8080/"
        },
        "outputId": "540ed77b-8c8b-44ad-e823-117814ff4cee"
      },
      "source": [
        "def generate_dict():\n",
        "  square_dict = {}\n",
        "  for i in range(15):\n",
        "    square_dict[str(i+1)] = (i+1)**2\n",
        "  return print(square_dict)\n",
        "generate_dict()"
      ],
      "execution_count": null,
      "outputs": [
        {
          "output_type": "stream",
          "name": "stdout",
          "text": [
            "{'1': 1, '2': 4, '3': 9, '4': 16, '5': 25, '6': 36, '7': 49, '8': 64, '9': 81, '10': 100, '11': 121, '12': 144, '13': 169, '14': 196, '15': 225}\n"
          ]
        }
      ]
    },
    {
      "cell_type": "markdown",
      "metadata": {
        "id": "t0y4mefwJ_jQ"
      },
      "source": [
        "---\n",
        "### Exercise 8 - colour dictionary  \n",
        "\n",
        "Write a function which will:  \n",
        "*  create a new dictionary record called colour_codes with the values 'red' - '#FF0000', 'green' - '#008000', 'black' - '#000000', 'white' - '#FFFFFF'\n",
        "*  add a new colour code:  'blue' - '#0000FF'    \n",
        "*  remove the colours black and white from the dictionary  \n",
        "\n",
        "*Hint:  there is a list of methods [here](https://www.w3schools.com/python/python_ref_dictionary.asp)*  "
      ]
    },
    {
      "cell_type": "code",
      "metadata": {
        "id": "yod1mUNOMeWg",
        "colab": {
          "base_uri": "https://localhost:8080/"
        },
        "outputId": "2e6e3f8b-807a-4b35-b3b5-498557ad7a24"
      },
      "source": [
        "def colour_dict():\n",
        "  colour_names = {\n",
        "      \"red\": \"#FF0000\",\n",
        "      \"green\": \"#008000\",\n",
        "      \"black\": \"#000000\",\n",
        "      \"white\": \"#FFFFFF\"\n",
        "  }\n",
        "  colour_names[\"blue\"] = \"#0000FF\"\n",
        "  colour_names.pop(\"black\")\n",
        "  colour_names.pop(\"white\")\n",
        "  return colour_names\n",
        "colour_dict()"
      ],
      "execution_count": null,
      "outputs": [
        {
          "output_type": "execute_result",
          "data": {
            "text/plain": [
              "{'blue': '#0000FF', 'green': '#008000', 'red': '#FF0000'}"
            ]
          },
          "metadata": {},
          "execution_count": 66
        }
      ]
    },
    {
      "cell_type": "markdown",
      "metadata": {
        "id": "gjos_0vuMeyS"
      },
      "source": [
        "---\n",
        "### Exercise 9 - item tuples  \n",
        "\n",
        "Write a function which will:  \n",
        "*  create a new dictionary containing the colour codes for red, green, blue, black and white\n",
        "*  print the key/value pairs of a dictionary as a list of tuples  \n",
        "\n",
        "*Hint:  iterate through colours.items()*"
      ]
    },
    {
      "cell_type": "code",
      "metadata": {
        "id": "EzuMkUypOKTY",
        "colab": {
          "base_uri": "https://localhost:8080/"
        },
        "outputId": "326b74bc-8cf3-4586-d9b3-d1c05d99e959"
      },
      "source": [
        "def item_tuples():\n",
        "  colours = colour_dict()\n",
        "  for i in colours.items():\n",
        "    print(i)\n",
        "\n",
        "item_tuples()"
      ],
      "execution_count": null,
      "outputs": [
        {
          "output_type": "stream",
          "name": "stdout",
          "text": [
            "('red', '#FF0000')\n",
            "('green', '#008000')\n",
            "('blue', '#0000FF')\n"
          ]
        }
      ]
    },
    {
      "cell_type": "markdown",
      "metadata": {
        "id": "Jw1ot10cOc6r"
      },
      "source": [
        "---\n",
        "### Exercise 10 - check if empty\n",
        "Taken from w3resouce.com  \n",
        "\n",
        "Write a function which will check if a dictionary is empty or not\n",
        "\n",
        "*Hint:  you can use bool(dictionary_name), if the dictionary is empty then bool(dictionary_name will be false)*\n",
        "\n",
        "Test 1 sample data:\n",
        "{}\n",
        "\n",
        "Expected output:\n",
        "Dictionary is empty  \n",
        "\n",
        "Test 2 sample data:  \n",
        "{\"name\":\"Groucho\", \"occupation\":\"comedian\"}\n",
        "\n",
        "Expected output:  \n",
        "Dictionary is not empty"
      ]
    },
    {
      "cell_type": "code",
      "metadata": {
        "id": "7UdM1TfwRqnt",
        "colab": {
          "base_uri": "https://localhost:8080/"
        },
        "outputId": "7f342fb3-dd40-4fa2-a4b7-2f35e055090b"
      },
      "source": [
        "def check_empty(test_dict):\n",
        "  if bool(test_dict) == True:\n",
        "    return print( \"Dictionary is not empty\")\n",
        "  elif bool(test_dict) == False:\n",
        "    return print(\"Dictionary is empty\")\n",
        "testing = {}\n",
        "testing2 = {\"name\":\"Groucho\"}\n",
        "check_empty(testing)\n",
        "check_empty(testing2)"
      ],
      "execution_count": null,
      "outputs": [
        {
          "output_type": "stream",
          "name": "stdout",
          "text": [
            "Dictionary is empty\n",
            "Dictionary is not empty\n"
          ]
        }
      ]
    },
    {
      "cell_type": "code",
      "source": [
        ""
      ],
      "metadata": {
        "id": "u4Kr9xEYDJQb"
      },
      "execution_count": null,
      "outputs": []
    }
  ]
}