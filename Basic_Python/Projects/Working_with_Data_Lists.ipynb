{
  "nbformat": 4,
  "nbformat_minor": 0,
  "metadata": {
    "colab": {
      "name": "Copy of Working with Data Lists.ipynb",
      "provenance": [],
      "collapsed_sections": [],
      "include_colab_link": true
    },
    "kernelspec": {
      "name": "python3",
      "display_name": "Python 3"
    },
    "language_info": {
      "name": "python"
    }
  },
  "cells": [
    {
      "cell_type": "markdown",
      "metadata": {
        "id": "view-in-github",
        "colab_type": "text"
      },
      "source": [
        "<a href=\"https://colab.research.google.com/github/SebastienBienfait/L2C-Data-managment/blob/main/Working_with_Data_Lists.ipynb\" target=\"_parent\"><img src=\"https://colab.research.google.com/assets/colab-badge.svg\" alt=\"Open In Colab\"/></a>"
      ]
    },
    {
      "cell_type": "markdown",
      "metadata": {
        "id": "Z-M-RCWATK71"
      },
      "source": [
        "# Lists\n",
        "\n",
        "Often we need to store a number of single items of data together so that they can be processed together. This might be because all the data refers to one person (e.g. name, age, gender, etc) OR it might be because we have a set of data (e.g. all the items that should be displayed in a drop down list, such as all the years from this year back to 100 years ago so that someone can select their year of birth)\n",
        "\n",
        "Python has a range of data structures available including:\n",
        "*   lists  \n",
        "*   tuples  \n",
        "*   dictionaries  \n",
        "*   sets\n",
        "\n",
        "This worksheet looks at lists.\n",
        "\n",
        "## List\n",
        "A list is a set of related, individual data objects, that are indexed and can be processed as a whole, as subsets or as individual items.  Lists are stored, essentially, as contiguous items in memory so that access can be as quick as possible.  However, they are mutable (they can be changed after they have been created and stored) and so they need to have extra functionality to deal with changing list sizes.\n",
        "\n",
        "# Let's get some lists of data\n",
        "For this worksheet we are going to work with data on STEAM games.  We are going to get the data from a spreadsheet and make lists that we can find things out from.\n",
        "\n"
      ]
    },
    {
      "cell_type": "markdown",
      "source": [
        "## Creating a list\n",
        "---\n",
        "\n",
        "```\n",
        "nums = [1, 2, 3, 4, 5]\n",
        "names = [\"Tom\",\"Jerry\",\"Spike\"]\n",
        "```"
      ],
      "metadata": {
        "id": "TUvfamdEweE1"
      }
    },
    {
      "cell_type": "markdown",
      "source": [
        "## Exercise 1\n",
        "---\n",
        "Write a function **print_list()** that will create the two lists `nums` and `names`, then will print them as lists, e.g.\n",
        "\n",
        "```\n",
        "print(nums)\n",
        "```"
      ],
      "metadata": {
        "id": "TdbhgKdjw8RN"
      }
    },
    {
      "cell_type": "code",
      "source": [
        "def print_list():\n",
        "  nums = [1, 2, 3, 4, 5]\n",
        "  names = [\"Tom\",\"Jerry\",\"Spike\"]\n",
        "\n",
        "  print(nums,names)\n",
        "print_list()"
      ],
      "metadata": {
        "id": "MiigkTzM0cLT",
        "colab": {
          "base_uri": "https://localhost:8080/"
        },
        "outputId": "2c932a4b-da5c-4209-a291-1a7d06836408"
      },
      "execution_count": 65,
      "outputs": [
        {
          "output_type": "stream",
          "name": "stdout",
          "text": [
            "[1, 2, 3, 4, 5] ['Tom', 'Jerry', 'Spike']\n"
          ]
        }
      ]
    },
    {
      "cell_type": "markdown",
      "source": [
        "# Exercise 2\n",
        "---\n",
        "\n",
        "Write a function called **print_1st_3rd()** that will print the 1st and 3rd item in the names list."
      ],
      "metadata": {
        "id": "bCV4jL3mxRlx"
      }
    },
    {
      "cell_type": "code",
      "source": [
        "def print_1st_3rd():\n",
        "  nums = [1, 2, 3, 4, 5]\n",
        "  names = [\"Tom\",\"Jerry\",\"Spike\"]\n",
        "\n",
        "  return names[0], names[2]\n",
        "print(print_1st_3rd())\n"
      ],
      "metadata": {
        "id": "zRiLBj7G0HWd",
        "colab": {
          "base_uri": "https://localhost:8080/"
        },
        "outputId": "cd141d9f-bf90-4b56-896d-3065ac7e2a7b"
      },
      "execution_count": 66,
      "outputs": [
        {
          "output_type": "stream",
          "name": "stdout",
          "text": [
            "('Tom', 'Spike')\n"
          ]
        }
      ]
    },
    {
      "cell_type": "markdown",
      "source": [
        "## Exercise 3  - Print a subset of a list\n",
        "---\n",
        "\n",
        "Write a function **print_first_2()** which will create the nums list, then print print it\n"
      ],
      "metadata": {
        "id": "flklC_z_x68p"
      }
    },
    {
      "cell_type": "code",
      "source": [
        "def print_2nd():\n",
        "  nums = [1, 2, 3, 4, 5]\n",
        "  names = [\"Tom\",\"Jerry\",\"Spike\"]\n",
        "\n",
        "  return nums[:2]\n",
        "print(print_2nd())"
      ],
      "metadata": {
        "id": "Axf9WFjJ0NXE",
        "colab": {
          "base_uri": "https://localhost:8080/"
        },
        "outputId": "1d5e9df5-73c5-4d87-a7fa-96be18571fcc"
      },
      "execution_count": 67,
      "outputs": [
        {
          "output_type": "stream",
          "name": "stdout",
          "text": [
            "[1, 2]\n"
          ]
        }
      ]
    },
    {
      "cell_type": "markdown",
      "source": [
        "# List length\n",
        "\n",
        "Use the len() function to get the number of items in a list.\n",
        "\n",
        "There are 5 items in the nums list and 3 in the names list.\n",
        "\n",
        "Write a function **print_list_info()** that will:\n",
        "* create both lists\n",
        "* print the length of the nums list\n",
        "* print the length of the names list\n",
        "* concatenate (add) the two lists together to make a new list called num_names\n",
        "* print the length of the new list\n",
        "\n",
        "Expected output:\n",
        "```\n",
        "The length of the nums list is: 5\n",
        "The length of the names list is: 3\n",
        "The length of the joined list is: 8\n",
        "```\n"
      ],
      "metadata": {
        "id": "OFTklrSRuhpz"
      }
    },
    {
      "cell_type": "code",
      "source": [
        "def list_join():\n",
        "  nums = [1, 2, 3, 4, 5]\n",
        "  names = [\"Tom\",\"Jerry\",\"Spike\"]\n",
        "\n",
        "  print(\"lenght of nums list: \",len(nums),\"\\n length of names list: \",len(names))\n",
        "  num_names = nums+names\n",
        "  print(\"length of joined list is: \", len(num_names))\n",
        "list_join()"
      ],
      "metadata": {
        "id": "OLQfwEaDvPNT",
        "colab": {
          "base_uri": "https://localhost:8080/"
        },
        "outputId": "aeecb26f-da0e-4bad-b8d8-6a777d2168aa"
      },
      "execution_count": 68,
      "outputs": [
        {
          "output_type": "stream",
          "name": "stdout",
          "text": [
            "lenght of nums list:  5 \n",
            " length of names list:  3\n",
            "length of joined list is:  8\n"
          ]
        }
      ]
    },
    {
      "cell_type": "markdown",
      "source": [
        "# List methods\n",
        "\n",
        "You can get an overview of the methods you can use here: https://www.w3schools.com/python/python_lists_methods.asp\n",
        "\n",
        "Then: \n",
        "1.  Create the nums and names list again \n",
        "2.  Append the number 6 to the nums list, and print\n",
        "3.  Insert the name \"Sylvester\" before \"Jerry\" in the names list and print\n",
        "4.  Print the length of the nums list\n",
        "5.  Remove the number 4 from the nums list, and print\n",
        "6.  Print the max and min of the nums list\n",
        "7.  Create a new list called new_nums which contains the numbers 40 to 50 (use the range function)\n",
        "\n",
        "**Expected output**: \n",
        "``` \n",
        "[1, 2, 3, 4, 5, 6]\n",
        "['Tom', 'Sylvester', 'Jerry', 'Spike']\n",
        "6\n",
        "[1, 2, 3, 5, 6]\n",
        "6 1\n",
        "range(40, 51)\n",
        "```"
      ],
      "metadata": {
        "id": "tBN4Shtd12on"
      }
    },
    {
      "cell_type": "code",
      "source": [
        "def list_stuff():\n",
        "  nums = [1, 2, 3, 4, 5]\n",
        "  names = [\"Tom\",\"Jerry\",\"Spike\"]\n",
        "\n",
        "  nums.append(6)\n",
        "  print(nums)\n",
        "\n",
        "  names.insert(1,\"Sylverster\")\n",
        "  print(names)\n",
        "\n",
        "  print(max(nums),min(nums))\n",
        "\n",
        "  new_nums = range(40,51)\n",
        "  print(new_nums)\n",
        "list_stuff()"
      ],
      "metadata": {
        "id": "goe4w-yw4BVt",
        "colab": {
          "base_uri": "https://localhost:8080/"
        },
        "outputId": "9c7c3914-42d8-4751-80d8-dab76c6412f7"
      },
      "execution_count": 69,
      "outputs": [
        {
          "output_type": "stream",
          "name": "stdout",
          "text": [
            "[1, 2, 3, 4, 5, 6]\n",
            "['Tom', 'Sylverster', 'Jerry', 'Spike']\n",
            "6 1\n",
            "range(40, 51)\n"
          ]
        }
      ]
    },
    {
      "cell_type": "markdown",
      "source": [
        "# Now some real data\n",
        "---\n",
        "\n",
        "1.  Open the STEAM csv file (which we have taken from Kaggle and have reduced to make it more manageable): https://drive.google.com/file/d/1amPnoBi3uhQXjFaQbUy-L-Y-eeJ1BcxE/view?usp=sharing  \n",
        "\n",
        "2.  Open the file with Google sheets to see what is in it.  The file contains rows of data, each with a user id and a game that the user has purchased.\n",
        "\n",
        "3.  NOW, run the code in the cell below to get:  \n",
        "- users (the list of user ids in the data)\n",
        "- titles (the list of titles that have been purchased)"
      ],
      "metadata": {
        "id": "T2tA2VavJx9Q"
      }
    },
    {
      "cell_type": "code",
      "source": [
        "import pandas as pd\n",
        "\n",
        "# open the data file and get a copy of the Titles column\n",
        "def get_users_and_titles():\n",
        "  url = \"https://drive.google.com/uc?id=1rkG8-cp-KLBc1zK4YMLHIsMMyyTVk5Ju\"\n",
        "  data_table = pd.read_csv(url)\n",
        "  return data_table[\"User\"].tolist(), data_table[\"Title\"].tolist(), data_table\n",
        "\n",
        "users, titles, df = get_users_and_titles()"
      ],
      "metadata": {
        "id": "8YyBIyoCmz5s"
      },
      "execution_count": 70,
      "outputs": []
    },
    {
      "cell_type": "markdown",
      "metadata": {
        "id": "Ft0dXl7fUuaK"
      },
      "source": [
        "---\n",
        "### Exercise 1 - list head, tail and length of the titles list\n",
        "---\n",
        "\n",
        "Write a function, **describe_list()** which will:\n",
        "*  print the length of the list `titles`\n",
        "*  print the first 10 items in `titles` (the head)  \n",
        "*  print the last 5 items in `titles` (the tail)\n",
        "\n",
        "Expected output:  \n",
        "```\n",
        "129511\n",
        "['The Elder Scrolls V Skyrim', 'Fallout 4', 'Spore', 'Fallout New Vegas', 'Left 4 Dead 2', 'HuniePop', 'Path of Exile', 'Poly Bridge', 'Left 4 Dead', 'Team Fortress 2']\n",
        "['Fallen Earth', 'Magic Duels', 'Titan Souls', 'Grand Theft Auto Vice City', 'RUSH']\n",
        "```"
      ]
    },
    {
      "cell_type": "code",
      "metadata": {
        "id": "jUcZD7mmTJdA",
        "colab": {
          "base_uri": "https://localhost:8080/"
        },
        "outputId": "8dfaf0fd-fa15-4791-c030-568c281aa103"
      },
      "source": [
        "def print_info():\n",
        "  size_title = len(titles)\n",
        "  print(len(titles))\n",
        "  titels_head = titles[:10]\n",
        "  print(titels_head)\n",
        "\n",
        "  print(len(titels_head))\n",
        "\n",
        "  newlist = []\n",
        "  for i in range(size_title-5,size_title):\n",
        "    newlist.append(titles[i])\n",
        "  print(newlist)\n",
        "  titles_tail = df[\"Title\"].tail(5)\n",
        "  print(titles_tail)\n",
        "print_info()"
      ],
      "execution_count": 71,
      "outputs": [
        {
          "output_type": "stream",
          "name": "stdout",
          "text": [
            "129511\n",
            "['The Elder Scrolls V Skyrim', 'Fallout 4', 'Spore', 'Fallout New Vegas', 'Left 4 Dead 2', 'HuniePop', 'Path of Exile', 'Poly Bridge', 'Left 4 Dead', 'Team Fortress 2']\n",
            "10\n",
            "['Fallen Earth', 'Magic Duels', 'Titan Souls', 'Grand Theft Auto Vice City', 'RUSH']\n",
            "129506                  Fallen Earth\n",
            "129507                   Magic Duels\n",
            "129508                   Titan Souls\n",
            "129509    Grand Theft Auto Vice City\n",
            "129510                          RUSH\n",
            "Name: Title, dtype: object\n"
          ]
        }
      ]
    },
    {
      "cell_type": "markdown",
      "metadata": {
        "id": "yNWg08k6bXv0"
      },
      "source": [
        "---\n",
        "### Exercise 2 - use a loop to print the first 20 items\n",
        "\n",
        "Write a function which will:\n",
        "*  create a new list from the first 20 items of the titles list\n",
        "*  loop through the new list and print each item\n"
      ]
    },
    {
      "cell_type": "code",
      "metadata": {
        "id": "P2HnCG9pb1BS",
        "colab": {
          "base_uri": "https://localhost:8080/"
        },
        "outputId": "a5e783bd-b7c1-4d51-d3b5-d3b70cba2d51"
      },
      "source": [
        "def print_list():\n",
        "  titles_first20 = []\n",
        "  for i in range(20):\n",
        "    titles_first20.append(titles[i])\n",
        "  print(titles_first20)\n",
        "print_list()"
      ],
      "execution_count": 72,
      "outputs": [
        {
          "output_type": "stream",
          "name": "stdout",
          "text": [
            "['The Elder Scrolls V Skyrim', 'Fallout 4', 'Spore', 'Fallout New Vegas', 'Left 4 Dead 2', 'HuniePop', 'Path of Exile', 'Poly Bridge', 'Left 4 Dead', 'Team Fortress 2', 'Tomb Raider', 'The Banner Saga', 'Dead Island Epidemic', 'BioShock Infinite', 'Dragon Age Origins - Ultimate Edition', 'Fallout 3 - Game of the Year Edition', 'SEGA Genesis & Mega Drive Classics', 'Grand Theft Auto IV', 'Realm of the Mad God', 'Marvel Heroes 2015']\n"
          ]
        }
      ]
    },
    {
      "cell_type": "markdown",
      "metadata": {
        "id": "RTSuQZs4b1JU"
      },
      "source": [
        "---\n",
        "### Exercise 3 - count the number of times a title appears in the list\n",
        "\n",
        "Write a function which will:\n",
        "*  count the number of times that the title Fallout 4 appears in the list\n",
        "\n",
        "Expected output:  \n",
        "168"
      ]
    },
    {
      "cell_type": "code",
      "metadata": {
        "id": "OwhFnH2kdC11",
        "colab": {
          "base_uri": "https://localhost:8080/"
        },
        "outputId": "d803be82-9d42-438c-b06e-f5e229a28450"
      },
      "source": [
        "def count_title():\n",
        "  print(titles.count(\"Fallout 4\"))\n",
        "\n",
        "\n",
        "count_title()"
      ],
      "execution_count": 73,
      "outputs": [
        {
          "output_type": "stream",
          "name": "stdout",
          "text": [
            "168\n"
          ]
        }
      ]
    },
    {
      "cell_type": "markdown",
      "metadata": {
        "id": "KS0x3oFNePI9"
      },
      "source": [
        "---\n",
        "### Exercise 4 - remove all duplicates of a title from the list\n",
        "\n",
        "Write a function which will: remove all occurences of Fallout 4 from the titles list (Hint:  you can remove an occurence of Fallout 4 repeatedly until there is only one left).  This will require a while loop.\n"
      ]
    },
    {
      "cell_type": "code",
      "metadata": {
        "id": "mpK1Ip3we-uC"
      },
      "source": [
        "#def remove_duplicates():\n",
        "#  for title in titles:\n",
        "#    while titles.count(title) > 1:\n",
        "#        titles.remove(title)\n",
        "#  print(titles)\n",
        "\n",
        "def remove_duplicates():\n",
        "  title_set = set(titles)\n",
        "  title_list = list(title_set)\n",
        "\n",
        "  #print(title_set)\n",
        "  #print(title_list)\n",
        "\n",
        "remove_duplicates()\n"
      ],
      "execution_count": 74,
      "outputs": []
    },
    {
      "cell_type": "markdown",
      "metadata": {
        "id": "deUIFWjRe-3G"
      },
      "source": [
        "---\n",
        "### Exercise 5 - print the counts of the first 10 titles in the list\n",
        "\n",
        "Write a function which will:\n",
        "* loop through the first 10 items in the titles list\n",
        "* for each item print the number of times that title appears in the list\n"
      ]
    },
    {
      "cell_type": "code",
      "metadata": {
        "id": "b9TrHQ9hfoIU",
        "colab": {
          "base_uri": "https://localhost:8080/"
        },
        "outputId": "43b35e55-1819-4f43-e4f7-6caad6241220"
      },
      "source": [
        "def print_count_of_first_ten():\n",
        "  new_list = []\n",
        "  for i in range(10):\n",
        "    new_list.append(titles[i])\n",
        "  for i in new_list:\n",
        "    print(i, \",  \",new_list.count(i))\n",
        "print_count_of_first_ten()"
      ],
      "execution_count": 75,
      "outputs": [
        {
          "output_type": "stream",
          "name": "stdout",
          "text": [
            "The Elder Scrolls V Skyrim ,   1\n",
            "Fallout 4 ,   1\n",
            "Spore ,   1\n",
            "Fallout New Vegas ,   1\n",
            "Left 4 Dead 2 ,   1\n",
            "HuniePop ,   1\n",
            "Path of Exile ,   1\n",
            "Poly Bridge ,   1\n",
            "Left 4 Dead ,   1\n",
            "Team Fortress 2 ,   1\n"
          ]
        }
      ]
    },
    {
      "cell_type": "markdown",
      "metadata": {
        "id": "zm2VI5RmfoSy"
      },
      "source": [
        "---\n",
        "### Project - work as a team\n",
        "\n",
        "The users list has the ids of all the users who have purchased STEAM games.\n",
        "\n",
        "Write a function that will, for the first 100 users:\n",
        "* count how many games have been purchased by each user.  \n",
        "* calculate the percentage of all purchases made by each user\n",
        "* calculate the percentage of all purchases made by these 100 users altogether\n",
        "* find the id of the user who has purchased the most games of these 100 users \n",
        "* calculate the average number of games purchased by a user from the 100 \n",
        "* print this information, printing each unique user just once  \n",
        "Do the same with the last 100 users  \n",
        "\n",
        "Divide up the tasks and each write one part, then try to get them all to work together."
      ]
    },
    {
      "cell_type": "code",
      "metadata": {
        "id": "Fksgpj9JgWDs",
        "colab": {
          "base_uri": "https://localhost:8080/"
        },
        "outputId": "27fbdd93-7719-46cb-f2b5-c670cce56018"
      },
      "source": [
        "users_set = set(users)\n",
        "users_list = list(users_set)\n",
        "users_list_top100 = users_list[:100]\n",
        "users_list_bottom100 = []\n",
        "\n",
        "for i in range(len(users_list)-100,len(users_list)):\n",
        "  users_list_bottom100.append(users_list[i])\n",
        "\n",
        "def print_100_users(users_list):\n",
        "\n",
        "  user_count_dict = {} \n",
        "\n",
        "  dictionary_list = []\n",
        "  total_bought = 0\n",
        "  for user in users_list:\n",
        "    #id_count_index.append(users.count(user))\n",
        "    user_count_dict[user] = users.count(user)\n",
        "    total_bought += users.count(user)\n",
        "\n",
        "  for user in users_list:\n",
        "    user_bought_count = users.count(user)\n",
        "    new_dictionary = {\"id\":user,\"Games Bought: \": user_bought_count, \"Percentage(%): \":round((user_bought_count*100)/total_bought,2) }\n",
        "    dictionary_list.append(new_dictionary)\n",
        "  \n",
        "  max_value=0\n",
        "  #max_bought_count = max(user_count_dict.values())\n",
        "  for k,v in user_count_dict.items():\n",
        "    if v> max_value:\n",
        "          max_value = v\n",
        "          max_key = k\n",
        "  average_bought = total_bought/100\n",
        "  for i in user_count_dict.items():\n",
        "\n",
        "    print(i)\n",
        "  print(\"id with most games purchesed: \",max_key, \" with \", max_value,\" games.\")\n",
        "  print(\"average games purchesed per user: \",average_bought,\".\")\n",
        "print_100_users(users_list_bottom100)\n",
        "#get_users_and_titles()"
      ],
      "execution_count": 98,
      "outputs": [
        {
          "output_type": "stream",
          "name": "stdout",
          "text": [
            "(305889009, 1)\n",
            "(220561138, 21)\n",
            "(185401083, 1)\n",
            "(43908860, 17)\n",
            "(29753085, 88)\n",
            "(130678525, 3)\n",
            "(92929791, 6)\n",
            "(16154372, 119)\n",
            "(241303303, 2)\n",
            "(35290890, 6)\n",
            "(140050187, 6)\n",
            "(52559629, 1)\n",
            "(122552077, 1)\n",
            "(302186258, 1)\n",
            "(188284694, 1)\n",
            "(622362, 10)\n",
            "(38436635, 6)\n",
            "(195723035, 1)\n",
            "(117210908, 1)\n",
            "(93454114, 1)\n",
            "(181010210, 35)\n",
            "(231472933, 1)\n",
            "(141721383, 43)\n",
            "(146145063, 12)\n",
            "(205881130, 1)\n",
            "(256573229, 1)\n",
            "(47021871, 1)\n",
            "(193265457, 2)\n",
            "(192282418, 1)\n",
            "(115736372, 1)\n",
            "(159416133, 1)\n",
            "(222986054, 1)\n",
            "(256606025, 3)\n",
            "(102465357, 2)\n",
            "(162692942, 1)\n",
            "(224526163, 3)\n",
            "(204537690, 3)\n",
            "(147619675, 1)\n",
            "(102825821, 136)\n",
            "(298614625, 1)\n",
            "(141721441, 2)\n",
            "(111804259, 1)\n",
            "(75366244, 7)\n",
            "(169344872, 1)\n",
            "(198639468, 1)\n",
            "(205029231, 2)\n",
            "(108887922, 1)\n",
            "(293076852, 1)\n",
            "(31063925, 2)\n",
            "(60227446, 5)\n",
            "(208994172, 2)\n",
            "(260538236, 7)\n",
            "(16285568, 4)\n",
            "(129466241, 2)\n",
            "(154730370, 61)\n",
            "(216924034, 1)\n",
            "(109969285, 1)\n",
            "(300089223, 1)\n",
            "(212828039, 1)\n",
            "(257064839, 1)\n",
            "(141918091, 2)\n",
            "(95780749, 34)\n",
            "(189792144, 3)\n",
            "(17530772, 307)\n",
            "(82542485, 1)\n",
            "(233209749, 3)\n",
            "(307232663, 1)\n",
            "(163086238, 1)\n",
            "(222035871, 1)\n",
            "(85426082, 6)\n",
            "(244907939, 1)\n",
            "(62848935, 1)\n",
            "(145260456, 2)\n",
            "(264929200, 1)\n",
            "(186154929, 2)\n",
            "(155844529, 1)\n",
            "(46759859, 6)\n",
            "(67633077, 5)\n",
            "(187498422, 1)\n",
            "(33587126, 3)\n",
            "(84377525, 1)\n",
            "(172195770, 1)\n",
            "(14417857, 30)\n",
            "(85458882, 61)\n",
            "(113835971, 2)\n",
            "(128319430, 1)\n",
            "(154533830, 30)\n",
            "(75988937, 1)\n",
            "(108593099, 2)\n",
            "(231210957, 1)\n",
            "(142409681, 4)\n",
            "(52723676, 7)\n",
            "(38731746, 31)\n",
            "(142999522, 23)\n",
            "(222363622, 4)\n",
            "(31817706, 25)\n",
            "(143917036, 1)\n",
            "(74874862, 2)\n",
            "(122486775, 1)\n",
            "(125108218, 2)\n",
            "id with most games purchesed:  17530772  with  307  games.\n",
            "average games purchesed per user:  12.59 .\n"
          ]
        }
      ]
    },
    {
      "cell_type": "code",
      "source": [
        ""
      ],
      "metadata": {
        "id": "WucHJ6-o0DOP"
      },
      "execution_count": null,
      "outputs": []
    }
  ]
}