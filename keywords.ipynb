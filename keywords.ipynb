{
  "nbformat": 4,
  "nbformat_minor": 0,
  "metadata": {
    "colab": {
      "name": "keywords.ipynb",
      "provenance": [],
      "authorship_tag": "ABX9TyPx0FG6ziflG/oLiK7E4OWT",
      "include_colab_link": true
    },
    "kernelspec": {
      "name": "python3",
      "display_name": "Python 3"
    },
    "language_info": {
      "name": "python"
    }
  },
  "cells": [
    {
      "cell_type": "markdown",
      "metadata": {
        "id": "view-in-github",
        "colab_type": "text"
      },
      "source": [
        "<a href=\"https://colab.research.google.com/github/SebastienBienfait/L2C-Data-managment/blob/main/keywords.ipynb\" target=\"_parent\"><img src=\"https://colab.research.google.com/assets/colab-badge.svg\" alt=\"Open In Colab\"/></a>"
      ]
    },
    {
      "cell_type": "markdown",
      "source": [
        "#Find Kyewords in responses\n",
        "---\n"
      ],
      "metadata": {
        "id": "2i-MjJ_tl5fu"
      }
    },
    {
      "cell_type": "markdown",
      "source": [
        "###Importing the test dataset:"
      ],
      "metadata": {
        "id": "-eK_Zvjol0Bc"
      }
    },
    {
      "cell_type": "code",
      "execution_count": 57,
      "metadata": {
        "id": "qY8OAJLflhTQ"
      },
      "outputs": [],
      "source": [
        "import pandas as pd\n",
        "import numpy as np\n",
        "import matplotlib.pyplot as plt\n",
        "\n",
        "url = \"https://drive.google.com/uc?export=download&id=1U9_djfPU7O4dgG-oA90Hva9VVvWqTBUP\"\n",
        "df_kmv = pd.read_csv(url)\n",
        "df_kmv.drop(\"Unnamed: 0\",axis = 1, inplace = True)"
      ]
    },
    {
      "cell_type": "code",
      "source": [
        "display(df_kmv)"
      ],
      "metadata": {
        "id": "qsql2q5Wo81B"
      },
      "execution_count": null,
      "outputs": []
    },
    {
      "cell_type": "code",
      "source": [
        "def word_array(column):\n",
        "  print(\"\\n\",column,\": \")\n",
        "  series = df_kmv[column].values.tolist()\n",
        "  word_array = [] #np.array([])\n",
        "  text = \"\"\n",
        "  question_str = \"\"\n",
        "  for row in series:\n",
        "\n",
        "    new_row = row.strip(\"[\")\n",
        "    new_row = new_row.strip(\"]\")\n",
        "    text +=   new_row + \", \"\n",
        "\n",
        "  test_split = text.split(', ') #seperating each word\n",
        "\n",
        "  for word in test_split:\n",
        "    \n",
        "    word = word.strip(\"\\'\") #stripping '' off of each word\n",
        "    word_array.append(word)\n",
        "    question_str += word + \" \"\n",
        "\n",
        "  return question_str #.remove(\", \")\n"
      ],
      "metadata": {
        "id": "7VImpGeRo-Fj"
      },
      "execution_count": 59,
      "outputs": []
    },
    {
      "cell_type": "code",
      "source": [
        "q1_array = [] #creat_array(df_kmv,\"Q1\")\n",
        "q2_array = []\n",
        "q3_array = []\n",
        "q4_array = []\n",
        "q5_array = []\n",
        "q6_array = []\n",
        "q7_array = []\n",
        "q8_array = []\n",
        "q9_array = []\n",
        "\n",
        "\n",
        "q1_array = word_array(\"Q1\")\n",
        "q2_array = word_array(\"Q2\")\n",
        "q3_array = word_array(\"Q3\")\n",
        "q4_array = word_array(\"Q4\")\n",
        "q5_array = word_array(\"Q5\")\n",
        "q6_array = word_array(\"Q6\")\n",
        "q7_array = word_array(\"Q7\")\n",
        "q8_array = word_array(\"Q8\")\n",
        "q9_array = word_array(\"Q9\")\n",
        "answer_list = [ q1_array, q2_array, q3_array, q4_array, q5_array, q6_array, q7_array, q8_array, q9_array ]\n",
        "for ans in answer_list:\n",
        "  print(ans,\" \\n\")\n",
        "#print(answer_list[1])"
      ],
      "metadata": {
        "id": "Oq13J0PDDad_"
      },
      "execution_count": null,
      "outputs": []
    },
    {
      "cell_type": "code",
      "source": [
        "!pip install multi_rake\n",
        "!pip install yake\n",
        "!pip install summa\n",
        "!pip install keybert"
      ],
      "metadata": {
        "id": "fkXp4VkTrq4X"
      },
      "execution_count": null,
      "outputs": []
    },
    {
      "cell_type": "code",
      "source": [
        "import yake\n",
        "from multi_rake import Rake\n",
        "from summa import keywords\n",
        "from keybert import KeyBERT"
      ],
      "metadata": {
        "id": "lRbzaTZbOh7W"
      },
      "execution_count": 62,
      "outputs": []
    },
    {
      "cell_type": "code",
      "source": [
        "Q1 = \"Q1: How are you feeling?\"\n",
        "Q2 = \"Q2: How do you define your ‘mental wellbeing’ – and what does ‘good mental wellbeing’ look like for you?\"\n",
        "Q3 = \"Q3: What do you currently do to support your own wellbeing?\"\n",
        "Q4 = \"Q4: Who do you currently talk to about how you are feeling?\"\n",
        "Q5 = \"Q5: What is affecting your own mental wellbeing?\"\n",
        "Q6 = \"Q6: What do you think is affecting the mental wellbeing of your friends, family and community?\"\n",
        "Q7 = \"Q7: What, if anything, needs to happen to improve your own mental wellbeing?\"\n",
        "Q8 = \"Q8: What, if anything, needs to happen to improve the mental wellbeing of your friends, family and community?\"\n",
        "Q9 = \"Q9: Do you have any other comments, thoughts, suggestions?\"\n",
        "Questions = [ Q1, Q2, Q3, Q4, Q5, Q6, Q7, Q8, Q9 ]"
      ],
      "metadata": {
        "id": "ZLllYNurgNln"
      },
      "execution_count": 63,
      "outputs": []
    },
    {
      "cell_type": "markdown",
      "source": [
        "---\n",
        "##Questions\n",
        "\n",
        "Q1 - How are you feeling?  \n",
        "Q2 - How do you define your ‘mental wellbeing’ – and what does ‘good mental wellbeing’ look like for you?  \n",
        "Q3-What do you currently do to support your own wellbeing?  \n",
        "Q4- Who do you currently talk to about how you are feeling?  \n",
        "Q5 -What is affecting your own mental wellbeing?  \n",
        "Q6- What do you think is affecting the mental wellbeing of your friends, family and community?  \n",
        "Q7 -What, if anything, needs to happen to improve your own mental wellbeing?  \n",
        "Q8 - What, if anything, needs to happen to improve the mental wellbeing of your friends, family and community?  \n",
        "Q9 - Do you have any other comments, thoughts, suggestions?  \n",
        "\n",
        "---"
      ],
      "metadata": {
        "id": "LRqBFcvWd51l"
      }
    },
    {
      "cell_type": "markdown",
      "source": [
        "Using the Yake keyword extraction.  \n",
        "resulst are a bit spotty, dont make a huge ammout of sense  \n",
        "Good questions:  \n",
        "Q3?  \n",
        "Q4  \n"
      ],
      "metadata": {
        "id": "GYwmcz1uQN6a"
      }
    },
    {
      "cell_type": "code",
      "source": [
        "def using_yake(text):\n",
        "  all_k = []\n",
        "  kw_extractor = yake.KeywordExtractor(top=10, stopwords=None)\n",
        "  keywords = kw_extractor.extract_keywords(text)\n",
        "  for kw, v in keywords:\n",
        "    print(\"Keyphrase: \",kw, \": score\", v)\n",
        "    all_k.append(keywords)\n",
        "\n",
        "  return all_k\n",
        "\n",
        "count = 0\n",
        "yake_result = []\n",
        "for text in answer_list:\n",
        "  print(\"\\n\",Questions[count])\n",
        "  yake_result.append(using_yake(text))\n",
        "  count += 1\n",
        "print(yake_result[1])"
      ],
      "metadata": {
        "colab": {
          "base_uri": "https://localhost:8080/"
        },
        "id": "lubKx-wvsaU5",
        "outputId": "976f237e-2346-4174-8ac2-500899763fa6"
      },
      "execution_count": 78,
      "outputs": [
        {
          "output_type": "stream",
          "name": "stdout",
          "text": [
            "\n",
            " Q1: How are you feeling?\n",
            "Keyphrase:  live independently turns : score 0.0008906503910133453\n",
            "Keyphrase:  lethargic partly due : score 0.0011044065339988125\n",
            "Keyphrase:  gravesend chance talk : score 0.0011399354654161064\n",
            "Keyphrase:  ready christmas personal : score 0.0011399354654161064\n",
            "Keyphrase:  christmas personal stuff : score 0.0011399354654161064\n",
            "Keyphrase:  sums preferred government : score 0.0011399354654161064\n",
            "Keyphrase:  preferred government told : score 0.0011399354654161064\n",
            "Keyphrase:  government told find : score 0.0011399354654161064\n",
            "Keyphrase:  told find hard : score 0.0011399354654161064\n",
            "Keyphrase:  find hard deciding : score 0.0011399354654161064\n",
            "\n",
            " Q2: How do you define your ‘mental wellbeing’ – and what does ‘good mental wellbeing’ look like for you?\n",
            "Keyphrase:  good mental wellbeing : score 0.0003532649134647714\n",
            "Keyphrase:  tasks mental health : score 0.0005357905912787717\n",
            "Keyphrase:  thoughts mental resilience : score 0.0005750270263877419\n",
            "Keyphrase:  mental resilience find : score 0.0005750270263877419\n",
            "Keyphrase:  mental health bad : score 0.0005919044561678033\n",
            "Keyphrase:  months ago overdose : score 0.000605140092526276\n",
            "Keyphrase:  mental wellbeing bit : score 0.0006108776107940726\n",
            "Keyphrase:  mental health feeling : score 0.0006134151840078094\n",
            "Keyphrase:  good mental health : score 0.0006195949068734224\n",
            "Keyphrase:  wheelchair bound speech : score 0.0006416241217519879\n",
            "\n",
            " Q3: What do you currently do to support your own wellbeing?\n",
            "Keyphrase:  games baking children : score 0.0007320468486497441\n",
            "Keyphrase:  teacher association children : score 0.0007320468486497441\n",
            "Keyphrase:  showing gratitude god : score 0.0007552203925723247\n",
            "Keyphrase:  volunteer bengali language : score 0.0007552203925723247\n",
            "Keyphrase:  antidepressants mental health : score 0.0008441151240513085\n",
            "Keyphrase:  actively involved parent : score 0.0008522084846736588\n",
            "Keyphrase:  work part-time accountant : score 0.000852208484673659\n",
            "Keyphrase:  holistic approach wellbeing : score 0.0009395187288330348\n",
            "Keyphrase:  medication drugs increased : score 0.0009395187288330348\n",
            "Keyphrase:  crochet struggled recently : score 0.0009395187288330348\n",
            "\n",
            " Q4: Who do you currently talk to about how you are feeling?\n",
            "Keyphrase:  working home married : score 0.0008304773598534511\n",
            "Keyphrase:  kent autistic trust : score 0.0008304773598534511\n",
            "Keyphrase:  macmillian services silver : score 0.0009629253570267021\n",
            "Keyphrase:  silver line samaritans : score 0.0009629253570267021\n",
            "Keyphrase:  partner lockdown hard : score 0.0009629253570267021\n",
            "Keyphrase:  college tutors staff : score 0.0010633281304090667\n",
            "Keyphrase:  tutors staff live : score 0.0010633281304090667\n",
            "Keyphrase:  support worker sateda : score 0.0010633281304090667\n",
            "Keyphrase:  worker sateda daughter : score 0.0010633281304090667\n",
            "Keyphrase:  mother good listener : score 0.0010633281304090667\n",
            "\n",
            " Q5: What is affecting your own mental wellbeing?\n",
            "Keyphrase:  moderate mental health : score 0.0004753362733937179\n",
            "Keyphrase:  mental health problems : score 0.0005177789082386997\n",
            "Keyphrase:  mental health contacted : score 0.0005675780730032223\n",
            "Keyphrase:  good mental health : score 0.0005675780730032224\n",
            "Keyphrase:  loneliness hear voices : score 0.0005815702658872839\n",
            "Keyphrase:  single mum ptsd : score 0.0005815702658872839\n",
            "Keyphrase:  health problems mood : score 0.0005970049366449219\n",
            "Keyphrase:  health problems autism : score 0.0005970049366449219\n",
            "Keyphrase:  suffer identity crisis : score 0.000615260151567299\n",
            "Keyphrase:  variant physical disability : score 0.000633557896976841\n",
            "\n",
            " Q6: What do you think is affecting the mental wellbeing of your friends, family and community?\n",
            "Keyphrase:  worried things worried : score 0.0010331294771966438\n",
            "Keyphrase:  partner worried things : score 0.0016147633013212511\n",
            "Keyphrase:  time restrictions unable : score 0.0018466175003169728\n",
            "Keyphrase:  restrictions money worries : score 0.002060856867791232\n",
            "Keyphrase:  feel thing affects : score 0.002060856867791232\n",
            "Keyphrase:  wife concerned bring : score 0.0023083286888358934\n",
            "Keyphrase:  feel lot pressure : score 0.002366681647619841\n",
            "Keyphrase:  money worries illness : score 0.002529307636515197\n",
            "Keyphrase:  worries illness personal : score 0.002529307636515197\n",
            "Keyphrase:  closeness friendship brings : score 0.002529307636515197\n",
            "\n",
            " Q7: What, if anything, needs to happen to improve your own mental wellbeing?\n",
            "Keyphrase:  living closer college : score 0.003914384313403173\n",
            "Keyphrase:  worrying leaving college : score 0.003914384313403173\n",
            "Keyphrase:  life living closer : score 0.006914715200913378\n",
            "Keyphrase:  lose study important : score 0.007377540089929553\n",
            "Keyphrase:  young kurdish people : score 0.008604886187901293\n",
            "Keyphrase:  money clothes house : score 0.008668607466984763\n",
            "Keyphrase:  london social worker : score 0.01396705404008158\n",
            "Keyphrase:  mental health support : score 0.020525651489504367\n",
            "Keyphrase:  closer college : score 0.022396712948251466\n",
            "Keyphrase:  leaving college : score 0.022396712948251466\n",
            "\n",
            " Q8: What, if anything, needs to happen to improve the mental wellbeing of your friends, family and community?\n",
            "Keyphrase:  doctors distant doctors : score 0.0011867606893416918\n",
            "Keyphrase:  government happening country : score 0.001362651478999736\n",
            "Keyphrase:  chat personally love : score 0.001362651478999736\n",
            "Keyphrase:  personally love chat : score 0.001362651478999736\n",
            "Keyphrase:  love chat stranger : score 0.001362651478999736\n",
            "Keyphrase:  chat stranger plastic : score 0.001362651478999736\n",
            "Keyphrase:  inadequate social workers : score 0.0015648877885695396\n",
            "Keyphrase:  messing lives tackling : score 0.0015648877885695396\n",
            "Keyphrase:  lives tackling loneliness : score 0.0015648877885695396\n",
            "Keyphrase:  tackling loneliness providing : score 0.0015648877885695396\n",
            "\n",
            " Q9: Do you have any other comments, thoughts, suggestions?\n",
            "Keyphrase:  helped pip benefits : score 8.915281342465411e-05\n",
            "Keyphrase:  housing benefit council : score 9.575702312669149e-05\n",
            "Keyphrase:  benefit council tax : score 9.575702312669149e-05\n",
            "Keyphrase:  council tax benefit : score 9.575702312669149e-05\n",
            "Keyphrase:  fantastic helped pip : score 9.639841169672099e-05\n",
            "Keyphrase:  pip benefits sorted : score 0.00010449229890252833\n",
            "Keyphrase:  day day life : score 0.00010658348494730138\n",
            "Keyphrase:  swale council stopped : score 0.00010694407698953069\n",
            "Keyphrase:  council stopped housing : score 0.00010694407698953069\n",
            "Keyphrase:  adult social services : score 0.0001100969910390805\n",
            "[[('good mental wellbeing', 0.0003532649134647714), ('tasks mental health', 0.0005357905912787717), ('thoughts mental resilience', 0.0005750270263877419), ('mental resilience find', 0.0005750270263877419), ('mental health bad', 0.0005919044561678033), ('months ago overdose', 0.000605140092526276), ('mental wellbeing bit', 0.0006108776107940726), ('mental health feeling', 0.0006134151840078094), ('good mental health', 0.0006195949068734224), ('wheelchair bound speech', 0.0006416241217519879)], [('good mental wellbeing', 0.0003532649134647714), ('tasks mental health', 0.0005357905912787717), ('thoughts mental resilience', 0.0005750270263877419), ('mental resilience find', 0.0005750270263877419), ('mental health bad', 0.0005919044561678033), ('months ago overdose', 0.000605140092526276), ('mental wellbeing bit', 0.0006108776107940726), ('mental health feeling', 0.0006134151840078094), ('good mental health', 0.0006195949068734224), ('wheelchair bound speech', 0.0006416241217519879)], [('good mental wellbeing', 0.0003532649134647714), ('tasks mental health', 0.0005357905912787717), ('thoughts mental resilience', 0.0005750270263877419), ('mental resilience find', 0.0005750270263877419), ('mental health bad', 0.0005919044561678033), ('months ago overdose', 0.000605140092526276), ('mental wellbeing bit', 0.0006108776107940726), ('mental health feeling', 0.0006134151840078094), ('good mental health', 0.0006195949068734224), ('wheelchair bound speech', 0.0006416241217519879)], [('good mental wellbeing', 0.0003532649134647714), ('tasks mental health', 0.0005357905912787717), ('thoughts mental resilience', 0.0005750270263877419), ('mental resilience find', 0.0005750270263877419), ('mental health bad', 0.0005919044561678033), ('months ago overdose', 0.000605140092526276), ('mental wellbeing bit', 0.0006108776107940726), ('mental health feeling', 0.0006134151840078094), ('good mental health', 0.0006195949068734224), ('wheelchair bound speech', 0.0006416241217519879)], [('good mental wellbeing', 0.0003532649134647714), ('tasks mental health', 0.0005357905912787717), ('thoughts mental resilience', 0.0005750270263877419), ('mental resilience find', 0.0005750270263877419), ('mental health bad', 0.0005919044561678033), ('months ago overdose', 0.000605140092526276), ('mental wellbeing bit', 0.0006108776107940726), ('mental health feeling', 0.0006134151840078094), ('good mental health', 0.0006195949068734224), ('wheelchair bound speech', 0.0006416241217519879)], [('good mental wellbeing', 0.0003532649134647714), ('tasks mental health', 0.0005357905912787717), ('thoughts mental resilience', 0.0005750270263877419), ('mental resilience find', 0.0005750270263877419), ('mental health bad', 0.0005919044561678033), ('months ago overdose', 0.000605140092526276), ('mental wellbeing bit', 0.0006108776107940726), ('mental health feeling', 0.0006134151840078094), ('good mental health', 0.0006195949068734224), ('wheelchair bound speech', 0.0006416241217519879)], [('good mental wellbeing', 0.0003532649134647714), ('tasks mental health', 0.0005357905912787717), ('thoughts mental resilience', 0.0005750270263877419), ('mental resilience find', 0.0005750270263877419), ('mental health bad', 0.0005919044561678033), ('months ago overdose', 0.000605140092526276), ('mental wellbeing bit', 0.0006108776107940726), ('mental health feeling', 0.0006134151840078094), ('good mental health', 0.0006195949068734224), ('wheelchair bound speech', 0.0006416241217519879)], [('good mental wellbeing', 0.0003532649134647714), ('tasks mental health', 0.0005357905912787717), ('thoughts mental resilience', 0.0005750270263877419), ('mental resilience find', 0.0005750270263877419), ('mental health bad', 0.0005919044561678033), ('months ago overdose', 0.000605140092526276), ('mental wellbeing bit', 0.0006108776107940726), ('mental health feeling', 0.0006134151840078094), ('good mental health', 0.0006195949068734224), ('wheelchair bound speech', 0.0006416241217519879)], [('good mental wellbeing', 0.0003532649134647714), ('tasks mental health', 0.0005357905912787717), ('thoughts mental resilience', 0.0005750270263877419), ('mental resilience find', 0.0005750270263877419), ('mental health bad', 0.0005919044561678033), ('months ago overdose', 0.000605140092526276), ('mental wellbeing bit', 0.0006108776107940726), ('mental health feeling', 0.0006134151840078094), ('good mental health', 0.0006195949068734224), ('wheelchair bound speech', 0.0006416241217519879)], [('good mental wellbeing', 0.0003532649134647714), ('tasks mental health', 0.0005357905912787717), ('thoughts mental resilience', 0.0005750270263877419), ('mental resilience find', 0.0005750270263877419), ('mental health bad', 0.0005919044561678033), ('months ago overdose', 0.000605140092526276), ('mental wellbeing bit', 0.0006108776107940726), ('mental health feeling', 0.0006134151840078094), ('good mental health', 0.0006195949068734224), ('wheelchair bound speech', 0.0006416241217519879)]]\n"
          ]
        }
      ]
    },
    {
      "cell_type": "code",
      "source": [
        "def using_yake(ans_list):\n",
        "  count = 0\n",
        "  all_k = []\n",
        "  print(len(ans_list))\n",
        "  for text in ans_list:\n",
        "    print(text)\n",
        "    temp_list = []\n",
        "    print(\"\\n\",Questions[count])\n",
        "    count += 1\n",
        "    \n",
        "    kw_extractor = yake.KeywordExtractor(top=10, stopwords=None)\n",
        "    keywords = kw_extractor.extract_keywords(text)\n",
        "    for kw, v in keywords:\n",
        "      print(\"Keyphrase: \",kw, \": score\", v)\n",
        "      temp_list.append(keywords)\n",
        "    all_k.append(temp_list)\n",
        "    return temp_list\n",
        "#yake_ = using_yake(answer_list)\n",
        "#print(yake_[8])\n",
        "#if yake_[0] == yake_[8]:\n",
        "#  print(\"yes\")"
      ],
      "metadata": {
        "colab": {
          "base_uri": "https://localhost:8080/"
        },
        "id": "1Q-zVcTcOr9M",
        "outputId": "a7df3d41-5d90-473d-f66f-cfae7c8cb87c"
      },
      "execution_count": 73,
      "outputs": [
        {
          "output_type": "stream",
          "name": "stdout",
          "text": [
            "9\n",
            "bit middle 6/10 good living sheerness long journey college friends sheerness gravesend chance talk college nothing sheerness go feel ok. come college last year study english good getting ready christmas personal stuff going bad moment mental health never low usually since covid not one good day wary think sums preferred government told find hard deciding safe go without mask still wear one time not go like forever know everyone struggling wearing masks enough depressed moody affects everything anxiety tired irritable lethargic partly due covid covid suspected covid surgery would not treat probably got long covid sort ok getting lockdown stuck bedroom partner also carer working downstairs difficult honestly asked couple weeks ago would say low however currently actually quite positive feel high spirited believe pandemic played massive part feeling low graduated uni pandemic hit plans move work abroad due covid not go ahead think felt like hit halt life plans not know next terms long term felt deflated last two years unable make plans even look career felt like plans make would fall way moving abroad would fail good feeling generally happy lockdown lifted able see friends go good bit worried not control new variant may another lockdown moods go depending pain experiencing daily basis feeling depressed suicidal moment feeling good however pretty bad pandemic driving instructor completely work affected financially emotionally mentally bit anxious diagnosed thyroid.i worry lot future eldest son wheelchair bound adhd speech live independently turns 18 year  \n",
            "\n",
            " Q1: How are you feeling?\n",
            "Keyphrase:  live independently turns : score 0.0008906503910133453\n",
            "Keyphrase:  lethargic partly due : score 0.0011044065339988125\n",
            "Keyphrase:  gravesend chance talk : score 0.0011399354654161064\n",
            "Keyphrase:  ready christmas personal : score 0.0011399354654161064\n",
            "Keyphrase:  christmas personal stuff : score 0.0011399354654161064\n",
            "Keyphrase:  sums preferred government : score 0.0011399354654161064\n",
            "Keyphrase:  preferred government told : score 0.0011399354654161064\n",
            "Keyphrase:  government told find : score 0.0011399354654161064\n",
            "Keyphrase:  told find hard : score 0.0011399354654161064\n",
            "Keyphrase:  find hard deciding : score 0.0011399354654161064\n",
            "[('live independently turns', 0.0008906503910133453), ('lethargic partly due', 0.0011044065339988125), ('gravesend chance talk', 0.0011399354654161064), ('ready christmas personal', 0.0011399354654161064), ('christmas personal stuff', 0.0011399354654161064), ('sums preferred government', 0.0011399354654161064), ('preferred government told', 0.0011399354654161064), ('government told find', 0.0011399354654161064), ('told find hard', 0.0011399354654161064), ('find hard deciding', 0.0011399354654161064)]\n",
            "yes\n"
          ]
        }
      ]
    },
    {
      "cell_type": "markdown",
      "source": [
        "Using the Rake keyword extraction.  \n",
        "Results look pretty good, quite legable, most make sense considering question"
      ],
      "metadata": {
        "id": "zFeqBqQNQXzK"
      }
    },
    {
      "cell_type": "code",
      "source": [
        "def using_rake(ans_list):\n",
        "  rake = Rake()\n",
        "  count = 0\n",
        "  all_k = []\n",
        "  for text in ans_list:\n",
        "    print(\"\\n\",Questions[count])\n",
        "    count += 1\n",
        "    keywords = rake.apply(text)\n",
        "    print(keywords[:10])\n",
        "    all_k.append(keywords[:10])\n",
        "  return all_k[:10]\n",
        "rake = using_rake(answer_list)"
      ],
      "metadata": {
        "id": "sqYCBoASPmmw",
        "colab": {
          "base_uri": "https://localhost:8080/"
        },
        "outputId": "d4605ab4-9465-4f1b-c190-7b4c51072bb1"
      },
      "execution_count": 65,
      "outputs": [
        {
          "output_type": "stream",
          "name": "stdout",
          "text": [
            "\n",
            " Q1: How are you feeling?\n",
            "[('good day wary', 9.0), ('struggling wearing masks', 9.0), ('depressed moody affects', 9.0), ('good bit worried', 9.0), ('long covid sort', 8.0), ('plans make', 4.0), ('moving abroad', 4.0), ('lockdown moods', 4.0), ('career felt', 3.5), ('covid', 2.0)]\n",
            "\n",
            " Q2: How do you define your ‘mental wellbeing’ – and what does ‘good mental wellbeing’ look like for you?\n",
            "[('family alive dead', 9.0), ('family happy move', 9.0), ('apply council house', 9.0), ('chilling friends partying', 9.0), ('wheelchair bound speech', 9.0), ('leave house feel', 8.0), ('mental wellbeing', 4.0), ('kill 6 months', 4.0), ('strength bad', 4.0), ('cope live', 4.0)]\n",
            "\n",
            " Q3: What do you currently do to support your own wellbeing?\n",
            "[('time watch telly', 9.0), ('busy alongside hardships', 9.0), ('put smile face', 9.0), ('contact friends family', 9.0), ('therapist fortnight pay', 9.0), ('work part-time accountant', 9.0), ('family feel things', 8.5), ('seeking support groups', 8.0), ('chastise feel', 4.5), ('support useless', 4.0)]\n",
            "\n",
            " Q4: Who do you currently talk to about how you are feeling?\n",
            "[('mother good listener', 9.0), ('great advice talk', 9.0), ('spiralling decline family', 9.0), ('escape baggage watch', 9.0), ('kent autistic trust', 9.0), ('feel encourages talk', 8.0), ('chat line', 4.0), ('talking gp', 4.0), ('worth talking', 4.0), ('point felt', 4.0)]\n",
            "\n",
            " Q5: What is affecting your own mental wellbeing?\n",
            "[('late train cancelled', 9.0), ('mental health contacted', 9.0), ('hearing bothers lot', 9.0), ('knowing truth follow', 9.0), ('reach parents family', 9.0), ('suffer identity crisis-', 9.0), ('accepted parents family', 9.0), ('happened control work', 8.5), ('daughter worried travelling', 8.333333333333334), ('train family worried', 8.333333333333334)]\n",
            "\n",
            " Q6: What do you think is affecting the mental wellbeing of your friends, family and community?\n",
            "[('lives ensure safe', 9.0), ('understanding terminology meaning', 9.0), ('older bangladeshi residents', 9.0), ('biggest barriers wellbeing', 9.0), ('options family close', 8.5), ('peoples mental wellbeing', 8.5), ('shape form lockdown', 8.0), ('feel lot pressure', 7.5), ('covid worrying people', 6.833333333333333), ('pressure 9 family', 4.5)]\n",
            "\n",
            " Q7: What, if anything, needs to happen to improve your own mental wellbeing?\n",
            "[('london social worker', 9.0), ('young kurdish people', 9.0), ('money clothes house', 9.0), ('worrying leaving college', 9.0), ('lose study important', 9.0), ('made plan knowing', 9.0), ('carried time needed', 9.0), ('walks keeping active', 9.0), ('helped anxiety lot', 9.0), ('test enter premises', 9.0)]\n",
            "\n",
            " Q8: What, if anything, needs to happen to improve the mental wellbeing of your friends, family and community?\n",
            "[('inadequate social workers', 9.0), ('people face face', 9.0), ('lot blameless elders', 9.0), ('women bangladeshi community', 9.0), ('educated mental health', 7.0), ('mental health', 5.0), ('clients unsure', 4.0), ('reopened nasty', 4.0), ('lovely places', 4.0), ('leg swollen', 4.0)]\n",
            "\n",
            " Q9: Do you have any other comments, thoughts, suggestions?\n",
            "[('people teach technology', 9.0), ('‚adult social services', 9.0), ('support gp service', 9.0), ('affect state mind', 9.0), ('dwelling negatives barriers', 9.0), ('lockdown due covid', 8.0), ('lockdown struggled friends', 8.0), ('back normal', 4.0), ('doctor refused', 4.0), ('manage told', 4.0)]\n"
          ]
        }
      ]
    },
    {
      "cell_type": "markdown",
      "source": [
        "Using TextRank keyword extraction.  \n",
        "Not having multiple words in a string hurts this extraction. The singular words themselve make sense but are mostly take from repetionions of the question itself rather than the answers"
      ],
      "metadata": {
        "id": "v7gAQJJBQ8Y0"
      }
    },
    {
      "cell_type": "code",
      "source": [
        "def using_TextRank(ans_list):\n",
        "  count = 0\n",
        "  all_k = []\n",
        "  for text in ans_list:\n",
        "    temp_list = []\n",
        "    print(\"\\n\",Questions[count])\n",
        "    count += 1\n",
        "    TR_keywords = keywords.keywords(text, scores=True)\n",
        "    print(TR_keywords[0:10])\n",
        "    temp_list.append(TR_keywords[0:10])\n",
        "    all_k.append(temp_list)\n",
        "  return all_k\n",
        "textrank = using_TextRank(answer_list)"
      ],
      "metadata": {
        "id": "gChR32_LP_-i",
        "colab": {
          "base_uri": "https://localhost:8080/"
        },
        "outputId": "4076708c-9445-4ff6-edeb-b77e5f25c0f4"
      },
      "execution_count": 66,
      "outputs": [
        {
          "output_type": "stream",
          "name": "stdout",
          "text": [
            "\n",
            " Q1: How are you feeling?\n",
            "[('feel', 0.24779592742165815), ('feeling', 0.24779592742165815), ('pandemic', 0.17779385847541024), ('working', 0.16498970236016713), ('work', 0.16498970236016713), ('lockdown', 0.16357908954414122), ('felt', 0.1566563916826906), ('bit', 0.14499752160976753), ('good living sheerness long', 0.1449067867440912), ('think', 0.13295418642896337)]\n",
            "\n",
            " Q2: How do you define your ‘mental wellbeing’ – and what does ‘good mental wellbeing’ look like for you?\n",
            "[('able', 0.2978856112531308), ('feel', 0.2130225332650542), ('mentally', 0.17697379541062988), ('mental wellbeing', 0.17149714960386842), ('family leave', 0.16635737551796628), ('daily life', 0.16455540318202652), ('feeling positive', 0.15727654222911572), ('challenges', 0.156125209786556), ('challenging', 0.156125209786556), ('good', 0.1501634800042167)]\n",
            "\n",
            " Q3: What do you currently do to support your own wellbeing?\n",
            "[('support', 0.3253889746764168), ('friends', 0.2701860400339474), ('family', 0.21928322009900858), ('try', 0.16919945918491291), ('tried', 0.16919945918491291), ('feel', 0.15703347550304755), ('lockdown', 0.15170121299833872), ('lockdowns', 0.15170121299833872), ('play', 0.14594603503093637), ('groups', 0.14248645174758165)]\n",
            "\n",
            " Q4: Who do you currently talk to about how you are feeling?\n",
            "[('talking', 0.3721496439114965), ('talk friends', 0.3581397895222687), ('friend', 0.3441299351330409), ('work friendly', 0.23092526599054802), ('helps', 0.21120697575315278), ('help', 0.21120697575315278), ('times', 0.17982760231931336), ('like', 0.15762192379960221), ('family', 0.1566499924560481), ('feel', 0.15201084335846568)]\n",
            "\n",
            " Q5: What is affecting your own mental wellbeing?\n",
            "[('going', 0.3359917003802599), ('worried', 0.2386589114940385), ('worry', 0.2386589114940385), ('feel', 0.21396940410105494), ('family', 0.18578731747660426), ('hear', 0.14400303802121636), ('hearing', 0.14400303802121636), ('parents feeling like', 0.1431425164043875), ('mental health', 0.1392630702191666), ('job', 0.13172971664766944)]\n",
            "\n",
            " Q6: What do you think is affecting the mental wellbeing of your friends, family and community?\n",
            "[('worrying people', 0.32614908148685734), ('family', 0.31395829106219975), ('worried', 0.2443091313898925), ('peoples mental wellbeing', 0.21690472665488267), ('covid', 0.19095907216851896), ('friends worry', 0.19072080747163658), ('knowing', 0.1861043040020655), ('worries illness', 0.17264939488498), ('know think', 0.16702677681157202), ('feel', 0.13938331955807806)]\n",
            "\n",
            " Q7: What, if anything, needs to happen to improve your own mental wellbeing?\n",
            "[('things', 0.1891098008767924), ('knowing know', 0.16366135385915587), ('needed', 0.1619035223662977), ('keeping', 0.15770135746508487), ('need mental health support', 0.1576903567477876), ('people', 0.15170887372536623), ('anxiety', 0.14673004519313645), ('community activities', 0.1457384180423948), ('help', 0.14353482127834408), ('helped', 0.14353482127834408)]\n",
            "\n",
            " Q8: What, if anything, needs to happen to improve the mental wellbeing of your friends, family and community?\n",
            "[('support', 0.24627792148911376), ('needs supported', 0.21809186888958987), ('stops hard', 0.18639758603575746), ('stop', 0.1793896888818074), ('things people', 0.16904809579427293), ('problems', 0.16326788662935063), ('problem', 0.16326788662935063), ('feel', 0.1519393466330605), ('need help', 0.14444200354184214), ('lot', 0.13470659804550694)]\n",
            "\n",
            " Q9: Do you have any other comments, thoughts, suggestions?\n",
            "[('helped', 0.3469342070922205), ('helps', 0.3469342070922205), ('help people', 0.2226532969325538), ('things', 0.17089983896227445), ('services', 0.1691736773363297), ('benefit', 0.16597364616240112), ('benefits', 0.16597364616240112), ('thing needs', 0.1616206215963098), ('need', 0.15234140423034512), ('council', 0.14381476611729785)]\n"
          ]
        }
      ]
    },
    {
      "cell_type": "markdown",
      "source": [
        "Using KeyBert keyword extraction.  \n",
        "probably the best results so far, but it takes a VERY long time to run.\n"
      ],
      "metadata": {
        "id": "Twj1fUtCRlVh"
      }
    },
    {
      "cell_type": "code",
      "source": [
        "def using_KeyBert(ans_list):\n",
        "  kw_model = KeyBERT(model='all-mpnet-base-v2')\n",
        "  all_k = []\n",
        "  for text in ans_list:\n",
        "    keywords = kw_model.extract_keywords(text, \n",
        "\n",
        "                                     keyphrase_ngram_range=(1, 3), \n",
        "\n",
        "                                     stop_words='english', \n",
        "\n",
        "                                     highlight=True,\n",
        "\n",
        "                                     top_n=10)\n",
        "\n",
        "    keywords_list= list(dict(keywords).keys())\n",
        "    print(keywords_list,\"\\n\")\n",
        "    all_k.append(keywords_list)\n",
        "  return all_k\n",
        "keybert = using_KeyBert(answer_list)"
      ],
      "metadata": {
        "id": "GMwOq6EFRlo3"
      },
      "execution_count": null,
      "outputs": []
    },
    {
      "cell_type": "markdown",
      "source": [
        "Comparing all"
      ],
      "metadata": {
        "id": "Tpoz16sQMIyU"
      }
    },
    {
      "cell_type": "code",
      "source": [
        "import pandas as pd\n",
        "\n",
        "def comparison():\n",
        "\n",
        "  for i in range(4):\n",
        "\n",
        "    print(Questions[i])\n",
        "    print(\"yake \",yake_result[i])\n",
        "    print(\"rake \",rake[i])\n",
        "    print(\"textrank \",textrank[i])\n",
        "    print(\"keybert \",keybert[i])\n",
        "\n",
        "    print(\"\\n\")\n",
        "\n",
        "comparison()"
      ],
      "metadata": {
        "id": "fDRiqQ3-n5Rd",
        "colab": {
          "base_uri": "https://localhost:8080/"
        },
        "outputId": "1829205f-c60a-4a1b-96c9-0b228c5087b5"
      },
      "execution_count": 82,
      "outputs": [
        {
          "output_type": "stream",
          "name": "stdout",
          "text": [
            "Q1: How are you feeling?\n",
            "yake  [[('live independently turns', 0.0008906503910133453), ('lethargic partly due', 0.0011044065339988125), ('gravesend chance talk', 0.0011399354654161064), ('ready christmas personal', 0.0011399354654161064), ('christmas personal stuff', 0.0011399354654161064), ('sums preferred government', 0.0011399354654161064), ('preferred government told', 0.0011399354654161064), ('government told find', 0.0011399354654161064), ('told find hard', 0.0011399354654161064), ('find hard deciding', 0.0011399354654161064)], [('live independently turns', 0.0008906503910133453), ('lethargic partly due', 0.0011044065339988125), ('gravesend chance talk', 0.0011399354654161064), ('ready christmas personal', 0.0011399354654161064), ('christmas personal stuff', 0.0011399354654161064), ('sums preferred government', 0.0011399354654161064), ('preferred government told', 0.0011399354654161064), ('government told find', 0.0011399354654161064), ('told find hard', 0.0011399354654161064), ('find hard deciding', 0.0011399354654161064)], [('live independently turns', 0.0008906503910133453), ('lethargic partly due', 0.0011044065339988125), ('gravesend chance talk', 0.0011399354654161064), ('ready christmas personal', 0.0011399354654161064), ('christmas personal stuff', 0.0011399354654161064), ('sums preferred government', 0.0011399354654161064), ('preferred government told', 0.0011399354654161064), ('government told find', 0.0011399354654161064), ('told find hard', 0.0011399354654161064), ('find hard deciding', 0.0011399354654161064)], [('live independently turns', 0.0008906503910133453), ('lethargic partly due', 0.0011044065339988125), ('gravesend chance talk', 0.0011399354654161064), ('ready christmas personal', 0.0011399354654161064), ('christmas personal stuff', 0.0011399354654161064), ('sums preferred government', 0.0011399354654161064), ('preferred government told', 0.0011399354654161064), ('government told find', 0.0011399354654161064), ('told find hard', 0.0011399354654161064), ('find hard deciding', 0.0011399354654161064)], [('live independently turns', 0.0008906503910133453), ('lethargic partly due', 0.0011044065339988125), ('gravesend chance talk', 0.0011399354654161064), ('ready christmas personal', 0.0011399354654161064), ('christmas personal stuff', 0.0011399354654161064), ('sums preferred government', 0.0011399354654161064), ('preferred government told', 0.0011399354654161064), ('government told find', 0.0011399354654161064), ('told find hard', 0.0011399354654161064), ('find hard deciding', 0.0011399354654161064)], [('live independently turns', 0.0008906503910133453), ('lethargic partly due', 0.0011044065339988125), ('gravesend chance talk', 0.0011399354654161064), ('ready christmas personal', 0.0011399354654161064), ('christmas personal stuff', 0.0011399354654161064), ('sums preferred government', 0.0011399354654161064), ('preferred government told', 0.0011399354654161064), ('government told find', 0.0011399354654161064), ('told find hard', 0.0011399354654161064), ('find hard deciding', 0.0011399354654161064)], [('live independently turns', 0.0008906503910133453), ('lethargic partly due', 0.0011044065339988125), ('gravesend chance talk', 0.0011399354654161064), ('ready christmas personal', 0.0011399354654161064), ('christmas personal stuff', 0.0011399354654161064), ('sums preferred government', 0.0011399354654161064), ('preferred government told', 0.0011399354654161064), ('government told find', 0.0011399354654161064), ('told find hard', 0.0011399354654161064), ('find hard deciding', 0.0011399354654161064)], [('live independently turns', 0.0008906503910133453), ('lethargic partly due', 0.0011044065339988125), ('gravesend chance talk', 0.0011399354654161064), ('ready christmas personal', 0.0011399354654161064), ('christmas personal stuff', 0.0011399354654161064), ('sums preferred government', 0.0011399354654161064), ('preferred government told', 0.0011399354654161064), ('government told find', 0.0011399354654161064), ('told find hard', 0.0011399354654161064), ('find hard deciding', 0.0011399354654161064)], [('live independently turns', 0.0008906503910133453), ('lethargic partly due', 0.0011044065339988125), ('gravesend chance talk', 0.0011399354654161064), ('ready christmas personal', 0.0011399354654161064), ('christmas personal stuff', 0.0011399354654161064), ('sums preferred government', 0.0011399354654161064), ('preferred government told', 0.0011399354654161064), ('government told find', 0.0011399354654161064), ('told find hard', 0.0011399354654161064), ('find hard deciding', 0.0011399354654161064)], [('live independently turns', 0.0008906503910133453), ('lethargic partly due', 0.0011044065339988125), ('gravesend chance talk', 0.0011399354654161064), ('ready christmas personal', 0.0011399354654161064), ('christmas personal stuff', 0.0011399354654161064), ('sums preferred government', 0.0011399354654161064), ('preferred government told', 0.0011399354654161064), ('government told find', 0.0011399354654161064), ('told find hard', 0.0011399354654161064), ('find hard deciding', 0.0011399354654161064)]]\n",
            "rake  [('good day wary', 9.0), ('struggling wearing masks', 9.0), ('depressed moody affects', 9.0), ('good bit worried', 9.0), ('long covid sort', 8.0), ('plans make', 4.0), ('moving abroad', 4.0), ('lockdown moods', 4.0), ('career felt', 3.5), ('covid', 2.0)]\n",
            "textrank  [[('feel', 0.24779592742165815), ('feeling', 0.24779592742165815), ('pandemic', 0.17779385847541024), ('working', 0.16498970236016713), ('work', 0.16498970236016713), ('lockdown', 0.16357908954414122), ('felt', 0.1566563916826906), ('bit', 0.14499752160976753), ('good living sheerness long', 0.1449067867440912), ('think', 0.13295418642896337)]]\n",
            "keybert  ['mental health low', 'feeling generally', 'anxiety tired irritable', 'pretty bad pandemic', 'health low', 'covid good day', 'moods depending pain', 'covid ahead', 'covid good', 'depressed suicidal']\n",
            "\n",
            "\n",
            "Q2: How do you define your ‘mental wellbeing’ – and what does ‘good mental wellbeing’ look like for you?\n",
            "yake  [[('good mental wellbeing', 0.0003532649134647714), ('tasks mental health', 0.0005357905912787717), ('thoughts mental resilience', 0.0005750270263877419), ('mental resilience find', 0.0005750270263877419), ('mental health bad', 0.0005919044561678033), ('months ago overdose', 0.000605140092526276), ('mental wellbeing bit', 0.0006108776107940726), ('mental health feeling', 0.0006134151840078094), ('good mental health', 0.0006195949068734224), ('wheelchair bound speech', 0.0006416241217519879)], [('good mental wellbeing', 0.0003532649134647714), ('tasks mental health', 0.0005357905912787717), ('thoughts mental resilience', 0.0005750270263877419), ('mental resilience find', 0.0005750270263877419), ('mental health bad', 0.0005919044561678033), ('months ago overdose', 0.000605140092526276), ('mental wellbeing bit', 0.0006108776107940726), ('mental health feeling', 0.0006134151840078094), ('good mental health', 0.0006195949068734224), ('wheelchair bound speech', 0.0006416241217519879)], [('good mental wellbeing', 0.0003532649134647714), ('tasks mental health', 0.0005357905912787717), ('thoughts mental resilience', 0.0005750270263877419), ('mental resilience find', 0.0005750270263877419), ('mental health bad', 0.0005919044561678033), ('months ago overdose', 0.000605140092526276), ('mental wellbeing bit', 0.0006108776107940726), ('mental health feeling', 0.0006134151840078094), ('good mental health', 0.0006195949068734224), ('wheelchair bound speech', 0.0006416241217519879)], [('good mental wellbeing', 0.0003532649134647714), ('tasks mental health', 0.0005357905912787717), ('thoughts mental resilience', 0.0005750270263877419), ('mental resilience find', 0.0005750270263877419), ('mental health bad', 0.0005919044561678033), ('months ago overdose', 0.000605140092526276), ('mental wellbeing bit', 0.0006108776107940726), ('mental health feeling', 0.0006134151840078094), ('good mental health', 0.0006195949068734224), ('wheelchair bound speech', 0.0006416241217519879)], [('good mental wellbeing', 0.0003532649134647714), ('tasks mental health', 0.0005357905912787717), ('thoughts mental resilience', 0.0005750270263877419), ('mental resilience find', 0.0005750270263877419), ('mental health bad', 0.0005919044561678033), ('months ago overdose', 0.000605140092526276), ('mental wellbeing bit', 0.0006108776107940726), ('mental health feeling', 0.0006134151840078094), ('good mental health', 0.0006195949068734224), ('wheelchair bound speech', 0.0006416241217519879)], [('good mental wellbeing', 0.0003532649134647714), ('tasks mental health', 0.0005357905912787717), ('thoughts mental resilience', 0.0005750270263877419), ('mental resilience find', 0.0005750270263877419), ('mental health bad', 0.0005919044561678033), ('months ago overdose', 0.000605140092526276), ('mental wellbeing bit', 0.0006108776107940726), ('mental health feeling', 0.0006134151840078094), ('good mental health', 0.0006195949068734224), ('wheelchair bound speech', 0.0006416241217519879)], [('good mental wellbeing', 0.0003532649134647714), ('tasks mental health', 0.0005357905912787717), ('thoughts mental resilience', 0.0005750270263877419), ('mental resilience find', 0.0005750270263877419), ('mental health bad', 0.0005919044561678033), ('months ago overdose', 0.000605140092526276), ('mental wellbeing bit', 0.0006108776107940726), ('mental health feeling', 0.0006134151840078094), ('good mental health', 0.0006195949068734224), ('wheelchair bound speech', 0.0006416241217519879)], [('good mental wellbeing', 0.0003532649134647714), ('tasks mental health', 0.0005357905912787717), ('thoughts mental resilience', 0.0005750270263877419), ('mental resilience find', 0.0005750270263877419), ('mental health bad', 0.0005919044561678033), ('months ago overdose', 0.000605140092526276), ('mental wellbeing bit', 0.0006108776107940726), ('mental health feeling', 0.0006134151840078094), ('good mental health', 0.0006195949068734224), ('wheelchair bound speech', 0.0006416241217519879)], [('good mental wellbeing', 0.0003532649134647714), ('tasks mental health', 0.0005357905912787717), ('thoughts mental resilience', 0.0005750270263877419), ('mental resilience find', 0.0005750270263877419), ('mental health bad', 0.0005919044561678033), ('months ago overdose', 0.000605140092526276), ('mental wellbeing bit', 0.0006108776107940726), ('mental health feeling', 0.0006134151840078094), ('good mental health', 0.0006195949068734224), ('wheelchair bound speech', 0.0006416241217519879)], [('good mental wellbeing', 0.0003532649134647714), ('tasks mental health', 0.0005357905912787717), ('thoughts mental resilience', 0.0005750270263877419), ('mental resilience find', 0.0005750270263877419), ('mental health bad', 0.0005919044561678033), ('months ago overdose', 0.000605140092526276), ('mental wellbeing bit', 0.0006108776107940726), ('mental health feeling', 0.0006134151840078094), ('good mental health', 0.0006195949068734224), ('wheelchair bound speech', 0.0006416241217519879)]]\n",
            "rake  [('family alive dead', 9.0), ('family happy move', 9.0), ('apply council house', 9.0), ('chilling friends partying', 9.0), ('wheelchair bound speech', 9.0), ('leave house feel', 8.0), ('mental wellbeing', 4.0), ('kill 6 months', 4.0), ('strength bad', 4.0), ('cope live', 4.0)]\n",
            "textrank  [[('able', 0.2978856112531308), ('feel', 0.2130225332650542), ('mentally', 0.17697379541062988), ('mental wellbeing', 0.17149714960386842), ('family leave', 0.16635737551796628), ('daily life', 0.16455540318202652), ('feeling positive', 0.15727654222911572), ('challenges', 0.156125209786556), ('challenging', 0.156125209786556), ('good', 0.1501634800042167)]]\n",
            "keybert  ['wellbeing support', 'wellbeing support things', 'good wellbeing support', 'wellbeing good mental', 'help mental wellbeing', 'mental wellbeing able', 'wellbeing feeling positive', 'mental wellbeing come', 'think good wellbeing', 'mental wellbeing feeling']\n",
            "\n",
            "\n",
            "Q3: What do you currently do to support your own wellbeing?\n",
            "yake  [[('games baking children', 0.0007320468486497441), ('teacher association children', 0.0007320468486497441), ('showing gratitude god', 0.0007552203925723247), ('volunteer bengali language', 0.0007552203925723247), ('antidepressants mental health', 0.0008441151240513085), ('actively involved parent', 0.0008522084846736588), ('work part-time accountant', 0.000852208484673659), ('holistic approach wellbeing', 0.0009395187288330348), ('medication drugs increased', 0.0009395187288330348), ('crochet struggled recently', 0.0009395187288330348)], [('games baking children', 0.0007320468486497441), ('teacher association children', 0.0007320468486497441), ('showing gratitude god', 0.0007552203925723247), ('volunteer bengali language', 0.0007552203925723247), ('antidepressants mental health', 0.0008441151240513085), ('actively involved parent', 0.0008522084846736588), ('work part-time accountant', 0.000852208484673659), ('holistic approach wellbeing', 0.0009395187288330348), ('medication drugs increased', 0.0009395187288330348), ('crochet struggled recently', 0.0009395187288330348)], [('games baking children', 0.0007320468486497441), ('teacher association children', 0.0007320468486497441), ('showing gratitude god', 0.0007552203925723247), ('volunteer bengali language', 0.0007552203925723247), ('antidepressants mental health', 0.0008441151240513085), ('actively involved parent', 0.0008522084846736588), ('work part-time accountant', 0.000852208484673659), ('holistic approach wellbeing', 0.0009395187288330348), ('medication drugs increased', 0.0009395187288330348), ('crochet struggled recently', 0.0009395187288330348)], [('games baking children', 0.0007320468486497441), ('teacher association children', 0.0007320468486497441), ('showing gratitude god', 0.0007552203925723247), ('volunteer bengali language', 0.0007552203925723247), ('antidepressants mental health', 0.0008441151240513085), ('actively involved parent', 0.0008522084846736588), ('work part-time accountant', 0.000852208484673659), ('holistic approach wellbeing', 0.0009395187288330348), ('medication drugs increased', 0.0009395187288330348), ('crochet struggled recently', 0.0009395187288330348)], [('games baking children', 0.0007320468486497441), ('teacher association children', 0.0007320468486497441), ('showing gratitude god', 0.0007552203925723247), ('volunteer bengali language', 0.0007552203925723247), ('antidepressants mental health', 0.0008441151240513085), ('actively involved parent', 0.0008522084846736588), ('work part-time accountant', 0.000852208484673659), ('holistic approach wellbeing', 0.0009395187288330348), ('medication drugs increased', 0.0009395187288330348), ('crochet struggled recently', 0.0009395187288330348)], [('games baking children', 0.0007320468486497441), ('teacher association children', 0.0007320468486497441), ('showing gratitude god', 0.0007552203925723247), ('volunteer bengali language', 0.0007552203925723247), ('antidepressants mental health', 0.0008441151240513085), ('actively involved parent', 0.0008522084846736588), ('work part-time accountant', 0.000852208484673659), ('holistic approach wellbeing', 0.0009395187288330348), ('medication drugs increased', 0.0009395187288330348), ('crochet struggled recently', 0.0009395187288330348)], [('games baking children', 0.0007320468486497441), ('teacher association children', 0.0007320468486497441), ('showing gratitude god', 0.0007552203925723247), ('volunteer bengali language', 0.0007552203925723247), ('antidepressants mental health', 0.0008441151240513085), ('actively involved parent', 0.0008522084846736588), ('work part-time accountant', 0.000852208484673659), ('holistic approach wellbeing', 0.0009395187288330348), ('medication drugs increased', 0.0009395187288330348), ('crochet struggled recently', 0.0009395187288330348)], [('games baking children', 0.0007320468486497441), ('teacher association children', 0.0007320468486497441), ('showing gratitude god', 0.0007552203925723247), ('volunteer bengali language', 0.0007552203925723247), ('antidepressants mental health', 0.0008441151240513085), ('actively involved parent', 0.0008522084846736588), ('work part-time accountant', 0.000852208484673659), ('holistic approach wellbeing', 0.0009395187288330348), ('medication drugs increased', 0.0009395187288330348), ('crochet struggled recently', 0.0009395187288330348)], [('games baking children', 0.0007320468486497441), ('teacher association children', 0.0007320468486497441), ('showing gratitude god', 0.0007552203925723247), ('volunteer bengali language', 0.0007552203925723247), ('antidepressants mental health', 0.0008441151240513085), ('actively involved parent', 0.0008522084846736588), ('work part-time accountant', 0.000852208484673659), ('holistic approach wellbeing', 0.0009395187288330348), ('medication drugs increased', 0.0009395187288330348), ('crochet struggled recently', 0.0009395187288330348)], [('games baking children', 0.0007320468486497441), ('teacher association children', 0.0007320468486497441), ('showing gratitude god', 0.0007552203925723247), ('volunteer bengali language', 0.0007552203925723247), ('antidepressants mental health', 0.0008441151240513085), ('actively involved parent', 0.0008522084846736588), ('work part-time accountant', 0.000852208484673659), ('holistic approach wellbeing', 0.0009395187288330348), ('medication drugs increased', 0.0009395187288330348), ('crochet struggled recently', 0.0009395187288330348)]]\n",
            "rake  [('time watch telly', 9.0), ('busy alongside hardships', 9.0), ('put smile face', 9.0), ('contact friends family', 9.0), ('therapist fortnight pay', 9.0), ('work part-time accountant', 9.0), ('family feel things', 8.5), ('seeking support groups', 8.0), ('chastise feel', 4.5), ('support useless', 4.0)]\n",
            "textrank  [[('support', 0.3253889746764168), ('friends', 0.2701860400339474), ('family', 0.21928322009900858), ('try', 0.16919945918491291), ('tried', 0.16919945918491291), ('feel', 0.15703347550304755), ('lockdown', 0.15170121299833872), ('lockdowns', 0.15170121299833872), ('play', 0.14594603503093637), ('groups', 0.14248645174758165)]]\n",
            "keybert  ['seeking support', 'mental health support', 'family support', 'family support mental', 'wellbeing try', 'health support', 'help support speak', 'support groups', 'approach wellbeing try', 'health support getting']\n",
            "\n",
            "\n",
            "Q4: Who do you currently talk to about how you are feeling?\n",
            "yake  [[('working home married', 0.0008304773598534511), ('kent autistic trust', 0.0008304773598534511), ('macmillian services silver', 0.0009629253570267021), ('silver line samaritans', 0.0009629253570267021), ('partner lockdown hard', 0.0009629253570267021), ('college tutors staff', 0.0010633281304090667), ('tutors staff live', 0.0010633281304090667), ('support worker sateda', 0.0010633281304090667), ('worker sateda daughter', 0.0010633281304090667), ('mother good listener', 0.0010633281304090667)], [('working home married', 0.0008304773598534511), ('kent autistic trust', 0.0008304773598534511), ('macmillian services silver', 0.0009629253570267021), ('silver line samaritans', 0.0009629253570267021), ('partner lockdown hard', 0.0009629253570267021), ('college tutors staff', 0.0010633281304090667), ('tutors staff live', 0.0010633281304090667), ('support worker sateda', 0.0010633281304090667), ('worker sateda daughter', 0.0010633281304090667), ('mother good listener', 0.0010633281304090667)], [('working home married', 0.0008304773598534511), ('kent autistic trust', 0.0008304773598534511), ('macmillian services silver', 0.0009629253570267021), ('silver line samaritans', 0.0009629253570267021), ('partner lockdown hard', 0.0009629253570267021), ('college tutors staff', 0.0010633281304090667), ('tutors staff live', 0.0010633281304090667), ('support worker sateda', 0.0010633281304090667), ('worker sateda daughter', 0.0010633281304090667), ('mother good listener', 0.0010633281304090667)], [('working home married', 0.0008304773598534511), ('kent autistic trust', 0.0008304773598534511), ('macmillian services silver', 0.0009629253570267021), ('silver line samaritans', 0.0009629253570267021), ('partner lockdown hard', 0.0009629253570267021), ('college tutors staff', 0.0010633281304090667), ('tutors staff live', 0.0010633281304090667), ('support worker sateda', 0.0010633281304090667), ('worker sateda daughter', 0.0010633281304090667), ('mother good listener', 0.0010633281304090667)], [('working home married', 0.0008304773598534511), ('kent autistic trust', 0.0008304773598534511), ('macmillian services silver', 0.0009629253570267021), ('silver line samaritans', 0.0009629253570267021), ('partner lockdown hard', 0.0009629253570267021), ('college tutors staff', 0.0010633281304090667), ('tutors staff live', 0.0010633281304090667), ('support worker sateda', 0.0010633281304090667), ('worker sateda daughter', 0.0010633281304090667), ('mother good listener', 0.0010633281304090667)], [('working home married', 0.0008304773598534511), ('kent autistic trust', 0.0008304773598534511), ('macmillian services silver', 0.0009629253570267021), ('silver line samaritans', 0.0009629253570267021), ('partner lockdown hard', 0.0009629253570267021), ('college tutors staff', 0.0010633281304090667), ('tutors staff live', 0.0010633281304090667), ('support worker sateda', 0.0010633281304090667), ('worker sateda daughter', 0.0010633281304090667), ('mother good listener', 0.0010633281304090667)], [('working home married', 0.0008304773598534511), ('kent autistic trust', 0.0008304773598534511), ('macmillian services silver', 0.0009629253570267021), ('silver line samaritans', 0.0009629253570267021), ('partner lockdown hard', 0.0009629253570267021), ('college tutors staff', 0.0010633281304090667), ('tutors staff live', 0.0010633281304090667), ('support worker sateda', 0.0010633281304090667), ('worker sateda daughter', 0.0010633281304090667), ('mother good listener', 0.0010633281304090667)], [('working home married', 0.0008304773598534511), ('kent autistic trust', 0.0008304773598534511), ('macmillian services silver', 0.0009629253570267021), ('silver line samaritans', 0.0009629253570267021), ('partner lockdown hard', 0.0009629253570267021), ('college tutors staff', 0.0010633281304090667), ('tutors staff live', 0.0010633281304090667), ('support worker sateda', 0.0010633281304090667), ('worker sateda daughter', 0.0010633281304090667), ('mother good listener', 0.0010633281304090667)], [('working home married', 0.0008304773598534511), ('kent autistic trust', 0.0008304773598534511), ('macmillian services silver', 0.0009629253570267021), ('silver line samaritans', 0.0009629253570267021), ('partner lockdown hard', 0.0009629253570267021), ('college tutors staff', 0.0010633281304090667), ('tutors staff live', 0.0010633281304090667), ('support worker sateda', 0.0010633281304090667), ('worker sateda daughter', 0.0010633281304090667), ('mother good listener', 0.0010633281304090667)], [('working home married', 0.0008304773598534511), ('kent autistic trust', 0.0008304773598534511), ('macmillian services silver', 0.0009629253570267021), ('silver line samaritans', 0.0009629253570267021), ('partner lockdown hard', 0.0009629253570267021), ('college tutors staff', 0.0010633281304090667), ('tutors staff live', 0.0010633281304090667), ('support worker sateda', 0.0010633281304090667), ('worker sateda daughter', 0.0010633281304090667), ('mother good listener', 0.0010633281304090667)]]\n",
            "rake  [('mother good listener', 9.0), ('great advice talk', 9.0), ('spiralling decline family', 9.0), ('escape baggage watch', 9.0), ('kent autistic trust', 9.0), ('feel encourages talk', 8.0), ('chat line', 4.0), ('talking gp', 4.0), ('worth talking', 4.0), ('point felt', 4.0)]\n",
            "textrank  [[('talking', 0.3721496439114965), ('talk friends', 0.3581397895222687), ('friend', 0.3441299351330409), ('work friendly', 0.23092526599054802), ('helps', 0.21120697575315278), ('help', 0.21120697575315278), ('times', 0.17982760231931336), ('like', 0.15762192379960221), ('family', 0.1566499924560481), ('feel', 0.15201084335846568)]]\n",
            "keybert  ['talk care partner', 'chat line macmillian', 'difficult talk care', 'therapist friends', 'chat line', 'therapist friends time', 'advice talk possible', 'family talk colleagues', 'advice talk', 'talk care']\n",
            "\n",
            "\n"
          ]
        }
      ]
    },
    {
      "cell_type": "code",
      "source": [
        "def comparison():\n",
        "\n",
        "  for i in range(5):\n",
        "\n",
        "    print(Questions[i+4])\n",
        "    print(\"yake \",yake_result[i+4])\n",
        "    print(\"rake \",rake[i+4])\n",
        "    print(\"textrank \",textrank[i+4])\n",
        "    print(\"keybert \",keybert[i+4])\n",
        "\n",
        "    print(\"\\n\")\n",
        "\n",
        "comparison()"
      ],
      "metadata": {
        "colab": {
          "base_uri": "https://localhost:8080/"
        },
        "id": "SD6s9xGymoFm",
        "outputId": "4490d064-f372-42b2-ce19-d6d9ef942d52"
      },
      "execution_count": 88,
      "outputs": [
        {
          "output_type": "stream",
          "name": "stdout",
          "text": [
            "Q5: What is affecting your own mental wellbeing?\n",
            "yake  [[('moderate mental health', 0.0004753362733937179), ('mental health problems', 0.0005177789082386997), ('mental health contacted', 0.0005675780730032223), ('good mental health', 0.0005675780730032224), ('loneliness hear voices', 0.0005815702658872839), ('single mum ptsd', 0.0005815702658872839), ('health problems mood', 0.0005970049366449219), ('health problems autism', 0.0005970049366449219), ('suffer identity crisis', 0.000615260151567299), ('variant physical disability', 0.000633557896976841)], [('moderate mental health', 0.0004753362733937179), ('mental health problems', 0.0005177789082386997), ('mental health contacted', 0.0005675780730032223), ('good mental health', 0.0005675780730032224), ('loneliness hear voices', 0.0005815702658872839), ('single mum ptsd', 0.0005815702658872839), ('health problems mood', 0.0005970049366449219), ('health problems autism', 0.0005970049366449219), ('suffer identity crisis', 0.000615260151567299), ('variant physical disability', 0.000633557896976841)], [('moderate mental health', 0.0004753362733937179), ('mental health problems', 0.0005177789082386997), ('mental health contacted', 0.0005675780730032223), ('good mental health', 0.0005675780730032224), ('loneliness hear voices', 0.0005815702658872839), ('single mum ptsd', 0.0005815702658872839), ('health problems mood', 0.0005970049366449219), ('health problems autism', 0.0005970049366449219), ('suffer identity crisis', 0.000615260151567299), ('variant physical disability', 0.000633557896976841)], [('moderate mental health', 0.0004753362733937179), ('mental health problems', 0.0005177789082386997), ('mental health contacted', 0.0005675780730032223), ('good mental health', 0.0005675780730032224), ('loneliness hear voices', 0.0005815702658872839), ('single mum ptsd', 0.0005815702658872839), ('health problems mood', 0.0005970049366449219), ('health problems autism', 0.0005970049366449219), ('suffer identity crisis', 0.000615260151567299), ('variant physical disability', 0.000633557896976841)], [('moderate mental health', 0.0004753362733937179), ('mental health problems', 0.0005177789082386997), ('mental health contacted', 0.0005675780730032223), ('good mental health', 0.0005675780730032224), ('loneliness hear voices', 0.0005815702658872839), ('single mum ptsd', 0.0005815702658872839), ('health problems mood', 0.0005970049366449219), ('health problems autism', 0.0005970049366449219), ('suffer identity crisis', 0.000615260151567299), ('variant physical disability', 0.000633557896976841)], [('moderate mental health', 0.0004753362733937179), ('mental health problems', 0.0005177789082386997), ('mental health contacted', 0.0005675780730032223), ('good mental health', 0.0005675780730032224), ('loneliness hear voices', 0.0005815702658872839), ('single mum ptsd', 0.0005815702658872839), ('health problems mood', 0.0005970049366449219), ('health problems autism', 0.0005970049366449219), ('suffer identity crisis', 0.000615260151567299), ('variant physical disability', 0.000633557896976841)], [('moderate mental health', 0.0004753362733937179), ('mental health problems', 0.0005177789082386997), ('mental health contacted', 0.0005675780730032223), ('good mental health', 0.0005675780730032224), ('loneliness hear voices', 0.0005815702658872839), ('single mum ptsd', 0.0005815702658872839), ('health problems mood', 0.0005970049366449219), ('health problems autism', 0.0005970049366449219), ('suffer identity crisis', 0.000615260151567299), ('variant physical disability', 0.000633557896976841)], [('moderate mental health', 0.0004753362733937179), ('mental health problems', 0.0005177789082386997), ('mental health contacted', 0.0005675780730032223), ('good mental health', 0.0005675780730032224), ('loneliness hear voices', 0.0005815702658872839), ('single mum ptsd', 0.0005815702658872839), ('health problems mood', 0.0005970049366449219), ('health problems autism', 0.0005970049366449219), ('suffer identity crisis', 0.000615260151567299), ('variant physical disability', 0.000633557896976841)], [('moderate mental health', 0.0004753362733937179), ('mental health problems', 0.0005177789082386997), ('mental health contacted', 0.0005675780730032223), ('good mental health', 0.0005675780730032224), ('loneliness hear voices', 0.0005815702658872839), ('single mum ptsd', 0.0005815702658872839), ('health problems mood', 0.0005970049366449219), ('health problems autism', 0.0005970049366449219), ('suffer identity crisis', 0.000615260151567299), ('variant physical disability', 0.000633557896976841)], [('moderate mental health', 0.0004753362733937179), ('mental health problems', 0.0005177789082386997), ('mental health contacted', 0.0005675780730032223), ('good mental health', 0.0005675780730032224), ('loneliness hear voices', 0.0005815702658872839), ('single mum ptsd', 0.0005815702658872839), ('health problems mood', 0.0005970049366449219), ('health problems autism', 0.0005970049366449219), ('suffer identity crisis', 0.000615260151567299), ('variant physical disability', 0.000633557896976841)]]\n",
            "rake  [('late train cancelled', 9.0), ('mental health contacted', 9.0), ('hearing bothers lot', 9.0), ('knowing truth follow', 9.0), ('reach parents family', 9.0), ('suffer identity crisis-', 9.0), ('accepted parents family', 9.0), ('happened control work', 8.5), ('daughter worried travelling', 8.333333333333334), ('train family worried', 8.333333333333334)]\n",
            "textrank  [[('going', 0.3359917003802599), ('worried', 0.2386589114940385), ('worry', 0.2386589114940385), ('feel', 0.21396940410105494), ('family', 0.18578731747660426), ('hear', 0.14400303802121636), ('hearing', 0.14400303802121636), ('parents feeling like', 0.1431425164043875), ('mental health', 0.1392630702191666), ('job', 0.13172971664766944)]]\n",
            "keybert  ['identity crisis bangladeshi', 'anxiety health family', 'mental health feel', 'crisis bangladeshi', 'cope future', 'isolation worse fear', 'british way life', 'worry cope future', 'health family', 'loneliness hear voices']\n",
            "\n",
            "\n",
            "Q6: What do you think is affecting the mental wellbeing of your friends, family and community?\n",
            "yake  [[('worried things worried', 0.0010331294771966438), ('partner worried things', 0.0016147633013212511), ('time restrictions unable', 0.0018466175003169728), ('restrictions money worries', 0.002060856867791232), ('feel thing affects', 0.002060856867791232), ('wife concerned bring', 0.0023083286888358934), ('feel lot pressure', 0.002366681647619841), ('money worries illness', 0.002529307636515197), ('worries illness personal', 0.002529307636515197), ('closeness friendship brings', 0.002529307636515197)], [('worried things worried', 0.0010331294771966438), ('partner worried things', 0.0016147633013212511), ('time restrictions unable', 0.0018466175003169728), ('restrictions money worries', 0.002060856867791232), ('feel thing affects', 0.002060856867791232), ('wife concerned bring', 0.0023083286888358934), ('feel lot pressure', 0.002366681647619841), ('money worries illness', 0.002529307636515197), ('worries illness personal', 0.002529307636515197), ('closeness friendship brings', 0.002529307636515197)], [('worried things worried', 0.0010331294771966438), ('partner worried things', 0.0016147633013212511), ('time restrictions unable', 0.0018466175003169728), ('restrictions money worries', 0.002060856867791232), ('feel thing affects', 0.002060856867791232), ('wife concerned bring', 0.0023083286888358934), ('feel lot pressure', 0.002366681647619841), ('money worries illness', 0.002529307636515197), ('worries illness personal', 0.002529307636515197), ('closeness friendship brings', 0.002529307636515197)], [('worried things worried', 0.0010331294771966438), ('partner worried things', 0.0016147633013212511), ('time restrictions unable', 0.0018466175003169728), ('restrictions money worries', 0.002060856867791232), ('feel thing affects', 0.002060856867791232), ('wife concerned bring', 0.0023083286888358934), ('feel lot pressure', 0.002366681647619841), ('money worries illness', 0.002529307636515197), ('worries illness personal', 0.002529307636515197), ('closeness friendship brings', 0.002529307636515197)], [('worried things worried', 0.0010331294771966438), ('partner worried things', 0.0016147633013212511), ('time restrictions unable', 0.0018466175003169728), ('restrictions money worries', 0.002060856867791232), ('feel thing affects', 0.002060856867791232), ('wife concerned bring', 0.0023083286888358934), ('feel lot pressure', 0.002366681647619841), ('money worries illness', 0.002529307636515197), ('worries illness personal', 0.002529307636515197), ('closeness friendship brings', 0.002529307636515197)], [('worried things worried', 0.0010331294771966438), ('partner worried things', 0.0016147633013212511), ('time restrictions unable', 0.0018466175003169728), ('restrictions money worries', 0.002060856867791232), ('feel thing affects', 0.002060856867791232), ('wife concerned bring', 0.0023083286888358934), ('feel lot pressure', 0.002366681647619841), ('money worries illness', 0.002529307636515197), ('worries illness personal', 0.002529307636515197), ('closeness friendship brings', 0.002529307636515197)], [('worried things worried', 0.0010331294771966438), ('partner worried things', 0.0016147633013212511), ('time restrictions unable', 0.0018466175003169728), ('restrictions money worries', 0.002060856867791232), ('feel thing affects', 0.002060856867791232), ('wife concerned bring', 0.0023083286888358934), ('feel lot pressure', 0.002366681647619841), ('money worries illness', 0.002529307636515197), ('worries illness personal', 0.002529307636515197), ('closeness friendship brings', 0.002529307636515197)], [('worried things worried', 0.0010331294771966438), ('partner worried things', 0.0016147633013212511), ('time restrictions unable', 0.0018466175003169728), ('restrictions money worries', 0.002060856867791232), ('feel thing affects', 0.002060856867791232), ('wife concerned bring', 0.0023083286888358934), ('feel lot pressure', 0.002366681647619841), ('money worries illness', 0.002529307636515197), ('worries illness personal', 0.002529307636515197), ('closeness friendship brings', 0.002529307636515197)], [('worried things worried', 0.0010331294771966438), ('partner worried things', 0.0016147633013212511), ('time restrictions unable', 0.0018466175003169728), ('restrictions money worries', 0.002060856867791232), ('feel thing affects', 0.002060856867791232), ('wife concerned bring', 0.0023083286888358934), ('feel lot pressure', 0.002366681647619841), ('money worries illness', 0.002529307636515197), ('worries illness personal', 0.002529307636515197), ('closeness friendship brings', 0.002529307636515197)], [('worried things worried', 0.0010331294771966438), ('partner worried things', 0.0016147633013212511), ('time restrictions unable', 0.0018466175003169728), ('restrictions money worries', 0.002060856867791232), ('feel thing affects', 0.002060856867791232), ('wife concerned bring', 0.0023083286888358934), ('feel lot pressure', 0.002366681647619841), ('money worries illness', 0.002529307636515197), ('worries illness personal', 0.002529307636515197), ('closeness friendship brings', 0.002529307636515197)]]\n",
            "rake  [('lives ensure safe', 9.0), ('understanding terminology meaning', 9.0), ('older bangladeshi residents', 9.0), ('biggest barriers wellbeing', 9.0), ('options family close', 8.5), ('peoples mental wellbeing', 8.5), ('shape form lockdown', 8.0), ('feel lot pressure', 7.5), ('covid worrying people', 6.833333333333333), ('pressure 9 family', 4.5)]\n",
            "textrank  [[('worrying people', 0.32614908148685734), ('family', 0.31395829106219975), ('worried', 0.2443091313898925), ('peoples mental wellbeing', 0.21690472665488267), ('covid', 0.19095907216851896), ('friends worry', 0.19072080747163658), ('knowing', 0.1861043040020655), ('worries illness', 0.17264939488498), ('know think', 0.16702677681157202), ('feel', 0.13938331955807806)]]\n",
            "keybert  ['covid worrying people', 'covid worrying', 'wellbeing believe problems', 'family community suffering', 'poverty older bangladeshi', 'community suffering mental', 'health issues people', 'getting covid people', 'covid people', 'family worsening health']\n",
            "\n",
            "\n",
            "Q7: What, if anything, needs to happen to improve your own mental wellbeing?\n",
            "yake  [[('living closer college', 0.003914384313403173), ('worrying leaving college', 0.003914384313403173), ('life living closer', 0.006914715200913378), ('lose study important', 0.007377540089929553), ('young kurdish people', 0.008604886187901293), ('money clothes house', 0.008668607466984763), ('london social worker', 0.01396705404008158), ('mental health support', 0.020525651489504367), ('closer college', 0.022396712948251466), ('leaving college', 0.022396712948251466)], [('living closer college', 0.003914384313403173), ('worrying leaving college', 0.003914384313403173), ('life living closer', 0.006914715200913378), ('lose study important', 0.007377540089929553), ('young kurdish people', 0.008604886187901293), ('money clothes house', 0.008668607466984763), ('london social worker', 0.01396705404008158), ('mental health support', 0.020525651489504367), ('closer college', 0.022396712948251466), ('leaving college', 0.022396712948251466)], [('living closer college', 0.003914384313403173), ('worrying leaving college', 0.003914384313403173), ('life living closer', 0.006914715200913378), ('lose study important', 0.007377540089929553), ('young kurdish people', 0.008604886187901293), ('money clothes house', 0.008668607466984763), ('london social worker', 0.01396705404008158), ('mental health support', 0.020525651489504367), ('closer college', 0.022396712948251466), ('leaving college', 0.022396712948251466)], [('living closer college', 0.003914384313403173), ('worrying leaving college', 0.003914384313403173), ('life living closer', 0.006914715200913378), ('lose study important', 0.007377540089929553), ('young kurdish people', 0.008604886187901293), ('money clothes house', 0.008668607466984763), ('london social worker', 0.01396705404008158), ('mental health support', 0.020525651489504367), ('closer college', 0.022396712948251466), ('leaving college', 0.022396712948251466)], [('living closer college', 0.003914384313403173), ('worrying leaving college', 0.003914384313403173), ('life living closer', 0.006914715200913378), ('lose study important', 0.007377540089929553), ('young kurdish people', 0.008604886187901293), ('money clothes house', 0.008668607466984763), ('london social worker', 0.01396705404008158), ('mental health support', 0.020525651489504367), ('closer college', 0.022396712948251466), ('leaving college', 0.022396712948251466)], [('living closer college', 0.003914384313403173), ('worrying leaving college', 0.003914384313403173), ('life living closer', 0.006914715200913378), ('lose study important', 0.007377540089929553), ('young kurdish people', 0.008604886187901293), ('money clothes house', 0.008668607466984763), ('london social worker', 0.01396705404008158), ('mental health support', 0.020525651489504367), ('closer college', 0.022396712948251466), ('leaving college', 0.022396712948251466)], [('living closer college', 0.003914384313403173), ('worrying leaving college', 0.003914384313403173), ('life living closer', 0.006914715200913378), ('lose study important', 0.007377540089929553), ('young kurdish people', 0.008604886187901293), ('money clothes house', 0.008668607466984763), ('london social worker', 0.01396705404008158), ('mental health support', 0.020525651489504367), ('closer college', 0.022396712948251466), ('leaving college', 0.022396712948251466)], [('living closer college', 0.003914384313403173), ('worrying leaving college', 0.003914384313403173), ('life living closer', 0.006914715200913378), ('lose study important', 0.007377540089929553), ('young kurdish people', 0.008604886187901293), ('money clothes house', 0.008668607466984763), ('london social worker', 0.01396705404008158), ('mental health support', 0.020525651489504367), ('closer college', 0.022396712948251466), ('leaving college', 0.022396712948251466)], [('living closer college', 0.003914384313403173), ('worrying leaving college', 0.003914384313403173), ('life living closer', 0.006914715200913378), ('lose study important', 0.007377540089929553), ('young kurdish people', 0.008604886187901293), ('money clothes house', 0.008668607466984763), ('london social worker', 0.01396705404008158), ('mental health support', 0.020525651489504367), ('closer college', 0.022396712948251466), ('leaving college', 0.022396712948251466)], [('living closer college', 0.003914384313403173), ('worrying leaving college', 0.003914384313403173), ('life living closer', 0.006914715200913378), ('lose study important', 0.007377540089929553), ('young kurdish people', 0.008604886187901293), ('money clothes house', 0.008668607466984763), ('london social worker', 0.01396705404008158), ('mental health support', 0.020525651489504367), ('closer college', 0.022396712948251466), ('leaving college', 0.022396712948251466)]]\n",
            "rake  [('london social worker', 9.0), ('young kurdish people', 9.0), ('money clothes house', 9.0), ('worrying leaving college', 9.0), ('lose study important', 9.0), ('made plan knowing', 9.0), ('carried time needed', 9.0), ('walks keeping active', 9.0), ('helped anxiety lot', 9.0), ('test enter premises', 9.0)]\n",
            "textrank  [[('things', 0.1891098008767924), ('knowing know', 0.16366135385915587), ('needed', 0.1619035223662977), ('keeping', 0.15770135746508487), ('need mental health support', 0.1576903567477876), ('people', 0.15170887372536623), ('anxiety', 0.14673004519313645), ('community activities', 0.1457384180423948), ('help', 0.14353482127834408), ('helped', 0.14353482127834408)]]\n",
            "keybert  ['mental health support', 'health support', 'mental health need', 'health need make', 'current mental health', 'wellbeing really helped', 'mental wellbeing admit', 'feeling cope life', 'cope life plan', 'women bangladeshi community']\n",
            "\n",
            "\n",
            "Q8: What, if anything, needs to happen to improve the mental wellbeing of your friends, family and community?\n",
            "yake  [[('doctors distant doctors', 0.0011867606893416918), ('government happening country', 0.001362651478999736), ('chat personally love', 0.001362651478999736), ('personally love chat', 0.001362651478999736), ('love chat stranger', 0.001362651478999736), ('chat stranger plastic', 0.001362651478999736), ('inadequate social workers', 0.0015648877885695396), ('messing lives tackling', 0.0015648877885695396), ('lives tackling loneliness', 0.0015648877885695396), ('tackling loneliness providing', 0.0015648877885695396)], [('doctors distant doctors', 0.0011867606893416918), ('government happening country', 0.001362651478999736), ('chat personally love', 0.001362651478999736), ('personally love chat', 0.001362651478999736), ('love chat stranger', 0.001362651478999736), ('chat stranger plastic', 0.001362651478999736), ('inadequate social workers', 0.0015648877885695396), ('messing lives tackling', 0.0015648877885695396), ('lives tackling loneliness', 0.0015648877885695396), ('tackling loneliness providing', 0.0015648877885695396)], [('doctors distant doctors', 0.0011867606893416918), ('government happening country', 0.001362651478999736), ('chat personally love', 0.001362651478999736), ('personally love chat', 0.001362651478999736), ('love chat stranger', 0.001362651478999736), ('chat stranger plastic', 0.001362651478999736), ('inadequate social workers', 0.0015648877885695396), ('messing lives tackling', 0.0015648877885695396), ('lives tackling loneliness', 0.0015648877885695396), ('tackling loneliness providing', 0.0015648877885695396)], [('doctors distant doctors', 0.0011867606893416918), ('government happening country', 0.001362651478999736), ('chat personally love', 0.001362651478999736), ('personally love chat', 0.001362651478999736), ('love chat stranger', 0.001362651478999736), ('chat stranger plastic', 0.001362651478999736), ('inadequate social workers', 0.0015648877885695396), ('messing lives tackling', 0.0015648877885695396), ('lives tackling loneliness', 0.0015648877885695396), ('tackling loneliness providing', 0.0015648877885695396)], [('doctors distant doctors', 0.0011867606893416918), ('government happening country', 0.001362651478999736), ('chat personally love', 0.001362651478999736), ('personally love chat', 0.001362651478999736), ('love chat stranger', 0.001362651478999736), ('chat stranger plastic', 0.001362651478999736), ('inadequate social workers', 0.0015648877885695396), ('messing lives tackling', 0.0015648877885695396), ('lives tackling loneliness', 0.0015648877885695396), ('tackling loneliness providing', 0.0015648877885695396)], [('doctors distant doctors', 0.0011867606893416918), ('government happening country', 0.001362651478999736), ('chat personally love', 0.001362651478999736), ('personally love chat', 0.001362651478999736), ('love chat stranger', 0.001362651478999736), ('chat stranger plastic', 0.001362651478999736), ('inadequate social workers', 0.0015648877885695396), ('messing lives tackling', 0.0015648877885695396), ('lives tackling loneliness', 0.0015648877885695396), ('tackling loneliness providing', 0.0015648877885695396)], [('doctors distant doctors', 0.0011867606893416918), ('government happening country', 0.001362651478999736), ('chat personally love', 0.001362651478999736), ('personally love chat', 0.001362651478999736), ('love chat stranger', 0.001362651478999736), ('chat stranger plastic', 0.001362651478999736), ('inadequate social workers', 0.0015648877885695396), ('messing lives tackling', 0.0015648877885695396), ('lives tackling loneliness', 0.0015648877885695396), ('tackling loneliness providing', 0.0015648877885695396)], [('doctors distant doctors', 0.0011867606893416918), ('government happening country', 0.001362651478999736), ('chat personally love', 0.001362651478999736), ('personally love chat', 0.001362651478999736), ('love chat stranger', 0.001362651478999736), ('chat stranger plastic', 0.001362651478999736), ('inadequate social workers', 0.0015648877885695396), ('messing lives tackling', 0.0015648877885695396), ('lives tackling loneliness', 0.0015648877885695396), ('tackling loneliness providing', 0.0015648877885695396)], [('doctors distant doctors', 0.0011867606893416918), ('government happening country', 0.001362651478999736), ('chat personally love', 0.001362651478999736), ('personally love chat', 0.001362651478999736), ('love chat stranger', 0.001362651478999736), ('chat stranger plastic', 0.001362651478999736), ('inadequate social workers', 0.0015648877885695396), ('messing lives tackling', 0.0015648877885695396), ('lives tackling loneliness', 0.0015648877885695396), ('tackling loneliness providing', 0.0015648877885695396)], [('doctors distant doctors', 0.0011867606893416918), ('government happening country', 0.001362651478999736), ('chat personally love', 0.001362651478999736), ('personally love chat', 0.001362651478999736), ('love chat stranger', 0.001362651478999736), ('chat stranger plastic', 0.001362651478999736), ('inadequate social workers', 0.0015648877885695396), ('messing lives tackling', 0.0015648877885695396), ('lives tackling loneliness', 0.0015648877885695396), ('tackling loneliness providing', 0.0015648877885695396)]]\n",
            "rake  [('inadequate social workers', 9.0), ('people face face', 9.0), ('lot blameless elders', 9.0), ('women bangladeshi community', 9.0), ('educated mental health', 7.0), ('mental health', 5.0), ('clients unsure', 4.0), ('reopened nasty', 4.0), ('lovely places', 4.0), ('leg swollen', 4.0)]\n",
            "textrank  [[('support', 0.24627792148911376), ('needs supported', 0.21809186888958987), ('stops hard', 0.18639758603575746), ('stop', 0.1793896888818074), ('things people', 0.16904809579427293), ('problems', 0.16326788662935063), ('problem', 0.16326788662935063), ('feel', 0.1519393466330605), ('need help', 0.14444200354184214), ('lot', 0.13470659804550694)]]\n",
            "keybert  ['tackling loneliness providing', 'getting support needs', 'needs supported needs', 'support needs', 'needs support care', 'supported needs', 'support practical support', 'lives tackling loneliness', 'support needs support', 'inadequate social workers']\n",
            "\n",
            "\n",
            "Q9: Do you have any other comments, thoughts, suggestions?\n",
            "yake  [[('helped pip benefits', 8.915281342465411e-05), ('housing benefit council', 9.575702312669149e-05), ('benefit council tax', 9.575702312669149e-05), ('council tax benefit', 9.575702312669149e-05), ('fantastic helped pip', 9.639841169672099e-05), ('pip benefits sorted', 0.00010449229890252833), ('day day life', 0.00010658348494730138), ('swale council stopped', 0.00010694407698953069), ('council stopped housing', 0.00010694407698953069), ('adult social services', 0.0001100969910390805)], [('helped pip benefits', 8.915281342465411e-05), ('housing benefit council', 9.575702312669149e-05), ('benefit council tax', 9.575702312669149e-05), ('council tax benefit', 9.575702312669149e-05), ('fantastic helped pip', 9.639841169672099e-05), ('pip benefits sorted', 0.00010449229890252833), ('day day life', 0.00010658348494730138), ('swale council stopped', 0.00010694407698953069), ('council stopped housing', 0.00010694407698953069), ('adult social services', 0.0001100969910390805)], [('helped pip benefits', 8.915281342465411e-05), ('housing benefit council', 9.575702312669149e-05), ('benefit council tax', 9.575702312669149e-05), ('council tax benefit', 9.575702312669149e-05), ('fantastic helped pip', 9.639841169672099e-05), ('pip benefits sorted', 0.00010449229890252833), ('day day life', 0.00010658348494730138), ('swale council stopped', 0.00010694407698953069), ('council stopped housing', 0.00010694407698953069), ('adult social services', 0.0001100969910390805)], [('helped pip benefits', 8.915281342465411e-05), ('housing benefit council', 9.575702312669149e-05), ('benefit council tax', 9.575702312669149e-05), ('council tax benefit', 9.575702312669149e-05), ('fantastic helped pip', 9.639841169672099e-05), ('pip benefits sorted', 0.00010449229890252833), ('day day life', 0.00010658348494730138), ('swale council stopped', 0.00010694407698953069), ('council stopped housing', 0.00010694407698953069), ('adult social services', 0.0001100969910390805)], [('helped pip benefits', 8.915281342465411e-05), ('housing benefit council', 9.575702312669149e-05), ('benefit council tax', 9.575702312669149e-05), ('council tax benefit', 9.575702312669149e-05), ('fantastic helped pip', 9.639841169672099e-05), ('pip benefits sorted', 0.00010449229890252833), ('day day life', 0.00010658348494730138), ('swale council stopped', 0.00010694407698953069), ('council stopped housing', 0.00010694407698953069), ('adult social services', 0.0001100969910390805)], [('helped pip benefits', 8.915281342465411e-05), ('housing benefit council', 9.575702312669149e-05), ('benefit council tax', 9.575702312669149e-05), ('council tax benefit', 9.575702312669149e-05), ('fantastic helped pip', 9.639841169672099e-05), ('pip benefits sorted', 0.00010449229890252833), ('day day life', 0.00010658348494730138), ('swale council stopped', 0.00010694407698953069), ('council stopped housing', 0.00010694407698953069), ('adult social services', 0.0001100969910390805)], [('helped pip benefits', 8.915281342465411e-05), ('housing benefit council', 9.575702312669149e-05), ('benefit council tax', 9.575702312669149e-05), ('council tax benefit', 9.575702312669149e-05), ('fantastic helped pip', 9.639841169672099e-05), ('pip benefits sorted', 0.00010449229890252833), ('day day life', 0.00010658348494730138), ('swale council stopped', 0.00010694407698953069), ('council stopped housing', 0.00010694407698953069), ('adult social services', 0.0001100969910390805)], [('helped pip benefits', 8.915281342465411e-05), ('housing benefit council', 9.575702312669149e-05), ('benefit council tax', 9.575702312669149e-05), ('council tax benefit', 9.575702312669149e-05), ('fantastic helped pip', 9.639841169672099e-05), ('pip benefits sorted', 0.00010449229890252833), ('day day life', 0.00010658348494730138), ('swale council stopped', 0.00010694407698953069), ('council stopped housing', 0.00010694407698953069), ('adult social services', 0.0001100969910390805)], [('helped pip benefits', 8.915281342465411e-05), ('housing benefit council', 9.575702312669149e-05), ('benefit council tax', 9.575702312669149e-05), ('council tax benefit', 9.575702312669149e-05), ('fantastic helped pip', 9.639841169672099e-05), ('pip benefits sorted', 0.00010449229890252833), ('day day life', 0.00010658348494730138), ('swale council stopped', 0.00010694407698953069), ('council stopped housing', 0.00010694407698953069), ('adult social services', 0.0001100969910390805)], [('helped pip benefits', 8.915281342465411e-05), ('housing benefit council', 9.575702312669149e-05), ('benefit council tax', 9.575702312669149e-05), ('council tax benefit', 9.575702312669149e-05), ('fantastic helped pip', 9.639841169672099e-05), ('pip benefits sorted', 0.00010449229890252833), ('day day life', 0.00010658348494730138), ('swale council stopped', 0.00010694407698953069), ('council stopped housing', 0.00010694407698953069), ('adult social services', 0.0001100969910390805)]]\n",
            "rake  [('people teach technology', 9.0), ('‚adult social services', 9.0), ('support gp service', 9.0), ('affect state mind', 9.0), ('dwelling negatives barriers', 9.0), ('lockdown due covid', 8.0), ('lockdown struggled friends', 8.0), ('back normal', 4.0), ('doctor refused', 4.0), ('manage told', 4.0)]\n",
            "textrank  [[('helped', 0.3469342070922205), ('helps', 0.3469342070922205), ('help people', 0.2226532969325538), ('things', 0.17089983896227445), ('services', 0.1691736773363297), ('benefit', 0.16597364616240112), ('benefits', 0.16597364616240112), ('thing needs', 0.1616206215963098), ('need', 0.15234140423034512), ('council', 0.14381476611729785)]]\n",
            "keybert  ['housing benefit council', 'council stopped housing', 'benefits sorted angie', 'social services goes', 'stopped housing benefit', 'stopped coming hospital', 'benefit council', 'service need care', 'thank mental health', 'pandemic communication bad']\n",
            "\n",
            "\n"
          ]
        }
      ]
    },
    {
      "cell_type": "markdown",
      "source": [
        "After comparing 4 differnt keyword extractor libraries in Python, Rake, Yake, TextRank, KeyBert. textrank was decided that returning just a single keyword did not convey enough context to be used as well as returning mostly words that appear within the question itself and therefore not actually providing proper answers.  \n",
        "\n",
        "Rake and Yake both give solutions of varying relevance per question. On some questions, either Rake of Yake perform reasonably well, returning a few decent answers from their lists though not genrally for the same question. However the majoity of the answers recived from Rake and Yake have been heavily infulenced by one or two indiviual's answers. Such as return the keyword 'Bangladeshi' multiple times, sometimes very highly ranked, despite appearing in the anwsers of only one individual.  \n",
        "\n",
        "KeyBert consitanly gives the best and most intersting solutions accross the board. KeyBert uses a two part system, turing keywords/phrases into vectors that are then compared to the text as a whole to return phrases that are the most 'representative' of that text. This gives very good standalone answers to the questions them selves. ie for Q1: \"how are you feeling\" the top response from KeyBert was: \"mental health low\".  \n",
        "\n",
        "This is both good and bad. While this does give use a very good overall impression of the agragate answers to the question, what we are searching for is specic keywords that we can do our own searches on, and KeyBert almost does this for us already. We intend to extract from KeyBert a list of searchable terms for each question that should give us the most overal imformation. This list will mostly be comprised of reoccuring terms from the KeyBert top10 which will also be backed up by results from Rake and Yake where necissary, to improve reliablity. It is also very slow compared to others.  \n",
        "\n",
        "This mostly needs to be done by an indiviual which does introduce a human bias to the question, however I do not see a way around this and it would be easy for an algorithm to erase or ignore nuance to answers."
      ],
      "metadata": {
        "id": "RAgIB4mnI2RY"
      }
    },
    {
      "cell_type": "markdown",
      "source": [
        "##Good keywords:\n",
        "---\n",
        "###Q1: How are you feeling?\n",
        "\"low\", \"anxiety\", \"covid good\", \"depressed\"\n",
        "\n",
        "###Q2: How do you define your ‘mental wellbeing’ – and what does ‘good mental wellbeing’ look like for you?\n",
        "\"support\", \"family\", \"friends\", \"good\"\n",
        "\n",
        "###Q3: What do you currently do to support your own wellbeing?\n",
        "\"seek/ing support\", \"family\", \"support groups\", \"work\"\n",
        "\n",
        "###Q4: Who do you currently talk to about how you are feeling?\n",
        "\"partner\", \"chat-line\", \"macmillian\", \"therapist\", colleagues, \"kent autistic trust\"\n",
        "\n",
        "###Q5: What is affecting your own mental wellbeing?\n",
        "\"anxiety\", \"future\", \"family\", \"loneliness\",\n",
        "\n",
        "###Q6: What do you think is affecting the mental wellbeing of your friends, family and community?\n",
        "\"covid\", \"health issues\", \"getting covid\",\n",
        "\n",
        "###Q7: What, if anything, needs to happen to improve your own mental wellbeing?\n",
        "\"mental health support\", \"life plan\", \n",
        "\n",
        "###Q8: What, if anything, needs to happen to improve the mental wellbeing of your friends, family and community?\n",
        "\"tackling loneliness\", \"getting support\",\n",
        "\n",
        "###Q9: Do you have any other comments, thoughts, suggestions?\n",
        "ERROR IN PROCESSING  \n",
        "\"benifits\""
      ],
      "metadata": {
        "id": "1wxMPR62GOLZ"
      }
    },
    {
      "cell_type": "code",
      "source": [
        "def testing(word_list):\n",
        "  #display(df_kmv.iloc[0])\n",
        "  print(word_list,\"\\n\")\n",
        "  #display(df_kmv[\"Q1\"])\n",
        "  for keyword in word_list: #q1_array: #\n",
        "    #print(keyword)\n",
        "    keyword_counter_list = []\n",
        "    counter = 0\n",
        "\n",
        "    for response in df_kmv[\"Q1\"]:\n",
        "      #print(df_kmv[\"Q1\"].loc[response])\n",
        "      print(type(response))\n",
        "      #print(\"respondent no. :\",df_kmv[\"Q1\"][response.index())\n",
        "      if keyword in response:\n",
        "        print(\"yes\")\n",
        "        \n",
        "        counter += 1\n",
        "      keyword_counter_list.append(counter)\n",
        "    #print(len(keyword_counter_list))\n",
        "    print(counter,\" people mentioned \", keyword,\" in their response\\n\")\n",
        "\n",
        "test_list = [\"low\", \"anxiety\", \"covid\", \"depressed\"]\n",
        "testing(test_list)\n"
      ],
      "metadata": {
        "colab": {
          "base_uri": "https://localhost:8080/"
        },
        "id": "vlFNRBAMWvRF",
        "outputId": "007842ee-bdb7-4d84-c8a9-79ab57f92bec"
      },
      "execution_count": 138,
      "outputs": [
        {
          "output_type": "stream",
          "name": "stdout",
          "text": [
            "['low', 'anxiety', 'covid', 'depressed'] \n",
            "\n",
            "<class 'str'>\n",
            "<class 'str'>\n",
            "<class 'str'>\n",
            "<class 'str'>\n",
            "<class 'str'>\n",
            "<class 'str'>\n",
            "<class 'str'>\n",
            "yes\n",
            "<class 'str'>\n",
            "<class 'str'>\n",
            "<class 'str'>\n",
            "<class 'str'>\n",
            "yes\n",
            "<class 'str'>\n",
            "<class 'str'>\n",
            "<class 'str'>\n",
            "<class 'str'>\n",
            "<class 'str'>\n",
            "2  people mentioned  low  in their response\n",
            "\n",
            "<class 'str'>\n",
            "<class 'str'>\n",
            "<class 'str'>\n",
            "<class 'str'>\n",
            "<class 'str'>\n",
            "<class 'str'>\n",
            "<class 'str'>\n",
            "<class 'str'>\n",
            "<class 'str'>\n",
            "yes\n",
            "<class 'str'>\n",
            "<class 'str'>\n",
            "<class 'str'>\n",
            "<class 'str'>\n",
            "<class 'str'>\n",
            "<class 'str'>\n",
            "<class 'str'>\n",
            "1  people mentioned  anxiety  in their response\n",
            "\n",
            "<class 'str'>\n",
            "<class 'str'>\n",
            "<class 'str'>\n",
            "<class 'str'>\n",
            "<class 'str'>\n",
            "<class 'str'>\n",
            "<class 'str'>\n",
            "yes\n",
            "<class 'str'>\n",
            "<class 'str'>\n",
            "yes\n",
            "<class 'str'>\n",
            "<class 'str'>\n",
            "yes\n",
            "<class 'str'>\n",
            "<class 'str'>\n",
            "<class 'str'>\n",
            "<class 'str'>\n",
            "<class 'str'>\n",
            "3  people mentioned  covid  in their response\n",
            "\n",
            "<class 'str'>\n",
            "<class 'str'>\n",
            "<class 'str'>\n",
            "<class 'str'>\n",
            "<class 'str'>\n",
            "<class 'str'>\n",
            "<class 'str'>\n",
            "<class 'str'>\n",
            "<class 'str'>\n",
            "yes\n",
            "<class 'str'>\n",
            "<class 'str'>\n",
            "<class 'str'>\n",
            "<class 'str'>\n",
            "<class 'str'>\n",
            "yes\n",
            "<class 'str'>\n",
            "<class 'str'>\n",
            "2  people mentioned  depressed  in their response\n",
            "\n"
          ]
        }
      ]
    },
    {
      "cell_type": "markdown",
      "source": [
        "function that returns frequancies in answers.  \n",
        "create a relational table, including Q_id, respondent_id, column for each keyword = 0/1 if respondent dint or did inclued keyword in responce.\n"
      ],
      "metadata": {
        "id": "_OpEGkAfVibq"
      }
    },
    {
      "cell_type": "markdown",
      "source": [
        "table Q1:  \n",
        "respondent_id, key1, key2, key3..."
      ],
      "metadata": {
        "id": "N0tS1yKNe2vT"
      }
    }
  ]
}