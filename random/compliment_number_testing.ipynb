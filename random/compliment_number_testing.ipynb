{
  "nbformat": 4,
  "nbformat_minor": 0,
  "metadata": {
    "colab": {
      "name": "compliment_number_testing.ipynb",
      "provenance": [],
      "authorship_tag": "ABX9TyPtPDUAnWgaWsxXD9Ovfyya",
      "include_colab_link": true
    },
    "kernelspec": {
      "name": "python3",
      "display_name": "Python 3"
    },
    "language_info": {
      "name": "python"
    }
  },
  "cells": [
    {
      "cell_type": "markdown",
      "metadata": {
        "id": "view-in-github",
        "colab_type": "text"
      },
      "source": [
        "<a href=\"https://colab.research.google.com/github/SebastienBienfait/L2C-Data-managment/blob/main/compliment_number_testing.ipynb\" target=\"_parent\"><img src=\"https://colab.research.google.com/assets/colab-badge.svg\" alt=\"Open In Colab\"/></a>"
      ]
    },
    {
      "cell_type": "code",
      "execution_count": 18,
      "metadata": {
        "colab": {
          "base_uri": "https://localhost:8080/"
        },
        "id": "pB9ddgOgv36i",
        "outputId": "73c4b3a0-45d6-4d35-9b67-6d280a65259d"
      },
      "outputs": [
        {
          "output_type": "stream",
          "name": "stdout",
          "text": [
            "24\n",
            "-19889\n",
            "-19888\n"
          ]
        }
      ],
      "source": [
        "# Python 3 program to find\n",
        "# complement of a number\n",
        "# with any base b\n",
        " \n",
        "# Function to find\n",
        "# (b-1)'s complement\n",
        "def prevComplement(n, b) :\n",
        "    maxNum, digits, num = 0, 0, n\n",
        " \n",
        "    # Calculate number of digits\n",
        "    # in the given number\n",
        "    while n > 1 :\n",
        "        digits += 1\n",
        "        n = n // 10\n",
        " \n",
        "    # Largest digit in the number\n",
        "    # system with base b\n",
        "    maxDigit = b - 1\n",
        " \n",
        "    # Largest number in the number\n",
        "    # system with base b\n",
        "    while digits :\n",
        "        maxNum = maxNum * 10 + maxDigit\n",
        "        digits -= 1\n",
        "         \n",
        "    # return Complement\n",
        "    return maxNum - num\n",
        " \n",
        "# Function to find b's complement\n",
        "def complement(n, b) :\n",
        " \n",
        "    # b's complement = (b-1)'s\n",
        "    # complement + 1\n",
        "    return prevComplement(n, b) + 1\n",
        " \n",
        "# Driver code\n",
        "if __name__ == \"__main__\" :\n",
        "  test = 31000\n",
        "  if test%256 <127:\n",
        "    print(test%256)\n",
        "  else:\n",
        "    print(test%256 - 256)\n",
        "    # Function calling\n",
        "  print(prevComplement(31000, 2))\n",
        "  print(complement(31000, 2))\n",
        " \n",
        "# This code is contributed\n",
        "# by ANKITRAI1"
      ]
    },
    {
      "cell_type": "code",
      "source": [
        ""
      ],
      "metadata": {
        "id": "UYweyOnXw3gJ"
      },
      "execution_count": null,
      "outputs": []
    }
  ]
}
