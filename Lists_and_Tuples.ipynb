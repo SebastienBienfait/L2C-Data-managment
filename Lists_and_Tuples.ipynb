{
  "nbformat": 4,
  "nbformat_minor": 0,
  "metadata": {
    "colab": {
      "name": "Copy of Lists and Tuples.ipynb",
      "provenance": [],
      "collapsed_sections": [],
      "include_colab_link": true
    },
    "kernelspec": {
      "name": "python3",
      "display_name": "Python 3"
    },
    "language_info": {
      "name": "python"
    }
  },
  "cells": [
    {
      "cell_type": "markdown",
      "metadata": {
        "id": "view-in-github",
        "colab_type": "text"
      },
      "source": [
        "<a href=\"https://colab.research.google.com/github/SebastienBienfait/L2C-Data-managment/blob/main/Lists_and_Tuples.ipynb\" target=\"_parent\"><img src=\"https://colab.research.google.com/assets/colab-badge.svg\" alt=\"Open In Colab\"/></a>"
      ]
    },
    {
      "cell_type": "markdown",
      "metadata": {
        "id": "Z-M-RCWATK71"
      },
      "source": [
        "# Lists and tuples\n",
        "\n",
        "Often we need to store a number of single items of data together so that they can be processed together. This might be because all the data refers to one person (e.g. name, age, gender, etc) OR it might be because we have a set of data (e.g. all the items that should be displayed in a drop down list, such as all the years from this year back to 100 years ago so that someone can select their year of birth)\n",
        "\n",
        "Python has a range of data structures available including:\n",
        "*   lists  \n",
        "*   tuples  \n",
        "*   dictionaries  \n",
        "*   sets\n",
        "\n",
        "This worksheet looks at lists and tuples.\n",
        "\n",
        "## List\n",
        "A list is a set of related, individual data objects, that are indexed and can be processed as a whole, as subsets or as individual items.  Lists are stored, essentially, as contiguous items in memory so that access can be as quick as possible.  However, they are mutable (they can be changed after they are created and stored) and so those mechanisms need to include extra functionality to deal with changing list sizes.\n",
        "\n",
        "## Tuple\n",
        "Essentially the same as a list but it is immutable.  Once it has been created it can't be changed.  It is stored in memory as contiguous items, with the size required being fixed right from the start.  This makes it faster to access.\n",
        "\n",
        "The code below will create two lists and a tuple.\n",
        "*   the first list contains 1000 random numbers between 1 and 100\n",
        "*   the second list is of random length (up to 5000) and each item is one of the 9 characteristics that are protected under the Equality Act in the UK.\n",
        "*   the tuple contains the 9 protected characteristics\n",
        "\n",
        "Before you start the exercises, run the code below.  It will generate the lists and tuple so that you can use them in the exercises.  If you need to recreate the lists again (because you have changed them and need to work on the originals, just run this cell again).\n",
        "\n",
        "***Note:***  *a list variable contains a reference to the start of the list in memory, rather than storing the list itself.  This means that if you assign the list to another variable (to make a copy), it will only copy across the reference.  If you change the copy, you change the original list.*\n",
        "\n",
        "*If you need to make a copy of the list you will need to use a loop to create a new list and copy all items across.*"
      ]
    },
    {
      "cell_type": "code",
      "metadata": {
        "id": "BDRckXeQXFMT"
      },
      "source": [
        "from random import randint, choice\n",
        "\n",
        "def get_num_list():\n",
        "  num_list = [randint(1,100) for n in range(1000)]\n",
        "  return num_list\n",
        "\n",
        "def get_protected_characteristics():\n",
        "  characteristics_tuple = ('age','disability','gender reassignment','marriage and civil partnership','pregnancy and maternity','race','religion or belief','sex','sexual orientation')\n",
        "  return characteristics_tuple\n",
        "\n",
        "def get_protected_characteristic_list(protected_characteristics):\n",
        "  char_list = [choice(protected_characteristics) for ch in range(randint(1,5000))]\n",
        "  return char_list\n",
        "\n",
        "nums = get_num_list()\n",
        "protected_characteristics = get_protected_characteristics()\n",
        "characteristics = get_protected_characteristic_list(protected_characteristics)"
      ],
      "execution_count": 2,
      "outputs": []
    },
    {
      "cell_type": "markdown",
      "metadata": {
        "id": "xXT38-4ZV45n"
      },
      "source": [
        "## The exercises below will use the lists:  \n",
        "*   **nums** (a list of between 1 and 1000 random numbers, each number is between 0 and 1000)\n",
        "*   **characteristics** (a list of 5000 random protected_characteristics)\n",
        "\n",
        "and the tuple:\n",
        "*  **protected_characteristics** (a set of the 9 protected characteristics identified in the Equality Act)\n",
        "\n",
        "## You can run the cell above any number of times to generate new lists."
      ]
    },
    {
      "cell_type": "markdown",
      "metadata": {
        "id": "Ft0dXl7fUuaK"
      },
      "source": [
        "---\n",
        "### Exercise 1 - list head, tail and shape\n",
        "\n",
        "Write a function, **describe_list()** which will:\n",
        "*  print the length of the list `nums`\n",
        "*  print the first 10 items in `nums`  \n",
        "*  print the last 5 items in `nums`"
      ]
    },
    {
      "cell_type": "code",
      "metadata": {
        "id": "jUcZD7mmTJdA",
        "colab": {
          "base_uri": "https://localhost:8080/"
        },
        "outputId": "fd0dd83a-6cd8-4639-ff43-3df8050bf5de"
      },
      "source": [
        "def describe_list(list1):\n",
        "  length = len(list1)\n",
        "  first_10 = list1[:10]\n",
        "  last_5 = list1[length-5:]\n",
        "  return length,first_10,last_5\n",
        "\n",
        "lists = describe_list([1,2,3,4,5,6,7,8,9,10,11,12,13,14,15,16])\n",
        "print(lists[0],\"\\n\",lists[1],\"\\n\",lists[2],\"\\n\")"
      ],
      "execution_count": null,
      "outputs": [
        {
          "output_type": "stream",
          "name": "stdout",
          "text": [
            "16 \n",
            " [1, 2, 3, 4, 5, 6, 7, 8, 9, 10] \n",
            " [12, 13, 14, 15, 16] \n",
            "\n"
          ]
        }
      ]
    },
    {
      "cell_type": "markdown",
      "metadata": {
        "id": "yNWg08k6bXv0"
      },
      "source": [
        "---\n",
        "### Exercise 2 - show tuple items\n",
        "\n",
        "Write a function which will:\n",
        "*   use a loop to print the list of protected characteristics from the `protected_characteristics` tuple.\n"
      ]
    },
    {
      "cell_type": "code",
      "metadata": {
        "id": "P2HnCG9pb1BS",
        "colab": {
          "base_uri": "https://localhost:8080/"
        },
        "outputId": "a18f59ab-a6fe-479f-956f-2c42aedd1e69"
      },
      "source": [
        "def print_protected_characteristics(char):\n",
        "  for i in char:\n",
        "    print(i)\n",
        "\n",
        "print_protected_characteristics(protected_characteristics)"
      ],
      "execution_count": null,
      "outputs": [
        {
          "output_type": "stream",
          "name": "stdout",
          "text": [
            "age\n",
            "disability\n",
            "gender reassignment\n",
            "marriage and civil partnership\n",
            "pregnancy and maternity\n",
            "race\n",
            "religion or belief\n",
            "sex\n",
            "sexual orientation\n"
          ]
        }
      ]
    },
    {
      "cell_type": "markdown",
      "metadata": {
        "id": "RTSuQZs4b1JU"
      },
      "source": [
        "---\n",
        "### Exercise 3 - list a random subset\n",
        "\n",
        "Write a function which will:\n",
        "*  calculate the position of the middle item in the `characteristics` list   \n",
        "(*Hint: use len() to help with this*)\n",
        "*  calculate the position of the item that is 5 places before the middle item\n",
        "*  calculate the position of the item that is 5 places after the middle item\n",
        "*  print the part of the list that includes the items from 5 places before to 5 places after.  \n",
        "\n",
        "Expected output:  \n",
        "Your list will include 11 items."
      ]
    },
    {
      "cell_type": "code",
      "metadata": {
        "id": "OwhFnH2kdC11",
        "colab": {
          "base_uri": "https://localhost:8080/"
        },
        "outputId": "7e808a55-0aa4-48de-fc74-0c059ef1eb1e"
      },
      "source": [
        "def list_info(list1):\n",
        "\n",
        "  mid_index = len(list1)//2 #index of middle of list\n",
        "  mid_num = list1[mid_index] #element in middle index\n",
        "\n",
        "  five_over_mid = list1[mid_index+5] #\n",
        "\n",
        "  five_under_mid = list1[mid_index-5]\n",
        "  return list1[mid_index-5:mid_index+5+1]\n",
        "list_info(characteristics)"
      ],
      "execution_count": null,
      "outputs": [
        {
          "output_type": "execute_result",
          "data": {
            "text/plain": [
              "['age',\n",
              " 'religion or belief',\n",
              " 'race',\n",
              " 'pregnancy and maternity',\n",
              " 'disability',\n",
              " 'marriage and civil partnership',\n",
              " 'gender reassignment',\n",
              " 'religion or belief',\n",
              " 'disability',\n",
              " 'sex',\n",
              " 'race']"
            ]
          },
          "metadata": {},
          "execution_count": 49
        }
      ]
    },
    {
      "cell_type": "markdown",
      "metadata": {
        "id": "KS0x3oFNePI9"
      },
      "source": [
        "---\n",
        "### Exercise 4 - create a copy\n",
        "\n",
        "Write a function which will: use a for loop to create a copy of the `nums` list:\n",
        "\n",
        "*   create a new, empty, list called **new_nums**  (*Hint: an empty list is [ ]*)\n",
        "*   use a for loop which uses the following syntax:  `for num in nums:`\n",
        "*   each time round the loop append `num` to `new_nums`  ( *`new_nums.append(num)`*)\n",
        "*   print the first 10 items of `new_nums`\n",
        "*   print the first 10 items of `nums`\n",
        "*   print the length of both lists"
      ]
    },
    {
      "cell_type": "code",
      "metadata": {
        "id": "mpK1Ip3we-uC",
        "colab": {
          "base_uri": "https://localhost:8080/"
        },
        "outputId": "ead49dfb-01a8-433c-df3e-550025991d15"
      },
      "source": [
        "def copy_list(old_nums):\n",
        "  new_nums = []\n",
        "  for i in old_nums:\n",
        "    new_nums.append(i)\n",
        "  print(\"new list first 10 \",new_nums[:11],\"length\",len(new_nums))\n",
        "  print(\"old list first 10 \",old_nums[:11],\"length\",len(old_nums))\n",
        "copy_list(nums)"
      ],
      "execution_count": null,
      "outputs": [
        {
          "output_type": "stream",
          "name": "stdout",
          "text": [
            "new list first 10  [88, 16, 5, 95, 63, 21, 66, 54, 42, 23, 23] length 1000\n",
            "old list first 10  [88, 16, 5, 95, 63, 21, 66, 54, 42, 23, 23] length 1000\n"
          ]
        }
      ]
    },
    {
      "cell_type": "markdown",
      "metadata": {
        "id": "deUIFWjRe-3G"
      },
      "source": [
        "\n",
        "\n",
        "```\n",
        "# This is formatted as code\n",
        "```\n",
        "\n",
        "---\n",
        "### Exercise 5 - count the occurrence of age in characteristics\n",
        "\n",
        "Write a function which will use the list method:\n",
        "\n",
        "`list_name.count(item)`\n",
        "\n",
        "to count the number of occurrences of 'age' in the `characteristics` list.  Print the result."
      ]
    },
    {
      "cell_type": "code",
      "metadata": {
        "id": "b9TrHQ9hfoIU",
        "colab": {
          "base_uri": "https://localhost:8080/"
        },
        "outputId": "9108656b-2968-4832-d6b2-3c86cab88c9f"
      },
      "source": [
        "def print_occurance(list1):\n",
        "  return list1.count(\"age\")\n",
        "print(print_occurance(characteristics))"
      ],
      "execution_count": null,
      "outputs": [
        {
          "output_type": "stream",
          "name": "stdout",
          "text": [
            "150\n"
          ]
        }
      ]
    },
    {
      "cell_type": "markdown",
      "metadata": {
        "id": "zm2VI5RmfoSy"
      },
      "source": [
        "---\n",
        "### Exercise 6 - sort the nums list\n",
        "\n",
        "Write a function which will:\n",
        "*   call the function `get_num_list()` and store the result in a new list called **sort_nums**\n",
        "*   print the first, and last, 20 items in the `sort_nums` list\n",
        "*   use the `list_name.sort()` method to sort the `sort_nums` list into ascending order\n",
        "*   print the first, and last, 20 items again  \n",
        "*   use the `list_name.sort()` method again to sort the `sort_nums` list into descending order\n",
        "*   print the first, and last, 20 items again"
      ]
    },
    {
      "cell_type": "code",
      "metadata": {
        "id": "Fksgpj9JgWDs",
        "colab": {
          "base_uri": "https://localhost:8080/"
        },
        "outputId": "537ef0f3-6afd-4d83-f172-6eecb685e9b7"
      },
      "source": [
        "def nums_sort():\n",
        "  nums_list = get_num_list()\n",
        "  sort_nums = []\n",
        "  for i in nums_list:\n",
        "    sort_nums.append(i)\n",
        "\n",
        "  for i in range(20):\n",
        "    print(\"first 20 unsorted: \",sort_nums[i])\n",
        "\n",
        "  sort_nums.sort(reverse=False)\n",
        "  for i in range(20):\n",
        "    print(\"first 20 sorted Ascend: \",sort_nums[i])\n",
        "\n",
        "  sort_nums.sort(reverse=True)\n",
        "  for i in range(20):\n",
        "    print(\"first 20 sorted Descend: \",sort_nums[i])\n",
        "nums_sort()"
      ],
      "execution_count": null,
      "outputs": [
        {
          "output_type": "stream",
          "name": "stdout",
          "text": [
            "first 20 unsorted:  6\n",
            "first 20 unsorted:  83\n",
            "first 20 unsorted:  46\n",
            "first 20 unsorted:  75\n",
            "first 20 unsorted:  29\n",
            "first 20 unsorted:  66\n",
            "first 20 unsorted:  62\n",
            "first 20 unsorted:  35\n",
            "first 20 unsorted:  17\n",
            "first 20 unsorted:  58\n",
            "first 20 unsorted:  30\n",
            "first 20 unsorted:  40\n",
            "first 20 unsorted:  68\n",
            "first 20 unsorted:  90\n",
            "first 20 unsorted:  72\n",
            "first 20 unsorted:  94\n",
            "first 20 unsorted:  58\n",
            "first 20 unsorted:  89\n",
            "first 20 unsorted:  41\n",
            "first 20 unsorted:  36\n",
            "first 20 sorted Ascend:  1\n",
            "first 20 sorted Ascend:  1\n",
            "first 20 sorted Ascend:  1\n",
            "first 20 sorted Ascend:  1\n",
            "first 20 sorted Ascend:  1\n",
            "first 20 sorted Ascend:  1\n",
            "first 20 sorted Ascend:  1\n",
            "first 20 sorted Ascend:  1\n",
            "first 20 sorted Ascend:  2\n",
            "first 20 sorted Ascend:  2\n",
            "first 20 sorted Ascend:  2\n",
            "first 20 sorted Ascend:  2\n",
            "first 20 sorted Ascend:  2\n",
            "first 20 sorted Ascend:  3\n",
            "first 20 sorted Ascend:  3\n",
            "first 20 sorted Ascend:  3\n",
            "first 20 sorted Ascend:  3\n",
            "first 20 sorted Ascend:  3\n",
            "first 20 sorted Ascend:  3\n",
            "first 20 sorted Ascend:  3\n",
            "first 20 sorted Descend:  100\n",
            "first 20 sorted Descend:  100\n",
            "first 20 sorted Descend:  100\n",
            "first 20 sorted Descend:  100\n",
            "first 20 sorted Descend:  100\n",
            "first 20 sorted Descend:  100\n",
            "first 20 sorted Descend:  100\n",
            "first 20 sorted Descend:  100\n",
            "first 20 sorted Descend:  100\n",
            "first 20 sorted Descend:  100\n",
            "first 20 sorted Descend:  100\n",
            "first 20 sorted Descend:  99\n",
            "first 20 sorted Descend:  99\n",
            "first 20 sorted Descend:  99\n",
            "first 20 sorted Descend:  99\n",
            "first 20 sorted Descend:  99\n",
            "first 20 sorted Descend:  99\n",
            "first 20 sorted Descend:  99\n",
            "first 20 sorted Descend:  99\n",
            "first 20 sorted Descend:  99\n"
          ]
        }
      ]
    },
    {
      "cell_type": "markdown",
      "metadata": {
        "id": "_OF-Xuj1UrW0"
      },
      "source": [
        "---\n",
        "### Exercise 7 - get statistics (max(), min(), sum() )\n",
        "\n",
        "Write a function which will:\n",
        "*   print the maximum and minimum numbers in the `nums` list  \n",
        "*   print the sum of the `nums` list\n",
        "*   calculate and print the average of the `nums` list (using `len()` to help)"
      ]
    },
    {
      "cell_type": "code",
      "metadata": {
        "id": "9YmYMenZVGod",
        "colab": {
          "base_uri": "https://localhost:8080/"
        },
        "outputId": "03d5bf67-7d34-437c-8847-6e6766789f44"
      },
      "source": [
        "def get_stats():\n",
        "  print(min(nums))\n",
        "  print(max(nums))\n",
        "  print(sum(nums)/len(nums))\n",
        "get_stats()"
      ],
      "execution_count": null,
      "outputs": [
        {
          "output_type": "stream",
          "name": "stdout",
          "text": [
            "1\n",
            "100\n",
            "51.381\n"
          ]
        }
      ]
    },
    {
      "cell_type": "markdown",
      "metadata": {
        "id": "Mn4tHQ_KVbHa"
      },
      "source": [
        "---\n",
        "### Exercise 8 - percentage difference\n",
        "\n",
        "Write a function which will:\n",
        "*   generate a new list called **ex8_nums** using `get_num_list()`\n",
        "*   calculate and print the percentage difference between the first number in each list (as a percentage of the number in the nums list) (Hint:  find the difference between the two numbers, divide the difference by the number in `nums` and multiply by 100)\n",
        "*   calculate and print the percentage difference between the last numbers in each list in the same way\n",
        "*   calculate and print the percentage difference between the middle numbers in each list in the same way.\n",
        "*   calculate and print the percentage difference between the sums of each list in the same way"
      ]
    },
    {
      "cell_type": "code",
      "metadata": {
        "id": "nJCQjZIeZL0e",
        "colab": {
          "base_uri": "https://localhost:8080/"
        },
        "outputId": "5dc115c1-a6bd-419e-a642-f5a94b66ec15"
      },
      "source": [
        "def percentage():\n",
        "  ex8_nums = get_num_list()\n",
        "  differance = []\n",
        "  for i in ex8_nums:\n",
        "    for j in nums:\n",
        "      x = ((abs(i-j)*100)/j)\n",
        "      differance.append(x)\n",
        "  print(differance[0],\"\\n\",differance[49],\"\\n\",differance[99])\n",
        "percentage()"
      ],
      "execution_count": null,
      "outputs": [
        {
          "output_type": "stream",
          "name": "stdout",
          "text": [
            "98.57142857142857 \n",
            " 98.27586206896552 \n",
            " 98.9010989010989\n"
          ]
        }
      ]
    },
    {
      "cell_type": "markdown",
      "metadata": {
        "id": "HNs3lZmYawFO"
      },
      "source": [
        "---\n",
        "### Exercise 9 - characteristic counts\n",
        "\n",
        "Write a function which will:\n",
        "*  iterate through the `protected_characteristics` tuple and for each **characteristic**:\n",
        "*   *   count the number of occurrences of that `characteristic` in the `characteristics` list\n",
        "*   *   print the `protected_characteristic` and the **count**  \n",
        "\n",
        "Example expected output:\n",
        "\n",
        "age 100  \n",
        "disability 120  \n",
        "gender reassignment 120  \n",
        "marriage and civil partnership 111  \n",
        "pregnancy and maternity 103  \n",
        "race 106  \n",
        "religion or belief 95  \n",
        "sex 110  \n",
        "sexual orientation 113  \n",
        "\n",
        "Extra learning:  you can read [here](https://thispointer.com/python-how-to-pad-strings-with-zero-space-or-some-other-character/) how to justify the printed characteristic so that the output is organised into two columns as shown below:  \n",
        "![tabulated output](https://drive.google.com/uc?id=1CCXfX6K5ZeDefnq7vUsqxCDmqvcfY8Mz)\n",
        "\n",
        "\n",
        "\n"
      ]
    },
    {
      "cell_type": "code",
      "metadata": {
        "id": "GURT11albqUs",
        "colab": {
          "base_uri": "https://localhost:8080/"
        },
        "outputId": "0f8a6012-990a-446b-b0aa-a96016c8ae5e"
      },
      "source": [
        "def print_char_occurance():\n",
        "  occurance = []\n",
        "  for i in protected_characteristics:\n",
        "    count = 0\n",
        "    for j in characteristics:\n",
        "      if i == j:\n",
        "        count += 1\n",
        "    occurance.append(count)\n",
        "\n",
        "  print(\"Protected Characteristic          Frequency \\n \\n\")\n",
        "\n",
        "  padded_list = []\n",
        "  padded_item = \"\"\n",
        "  for i in range(len(protected_characteristics)):\n",
        "    padded_item = \"\"\n",
        "    padded_item = protected_characteristics[i].ljust( 36 - len(protected_characteristics[i]) ,\" \")\n",
        "    print(\"item length\",len(padded_item))\n",
        "    padded_list.append(padded_item)\n",
        "\n",
        "    print(padded_list[i],occurance[i],\"\\n\")\n",
        "\n",
        "print_char_occurance()"
      ],
      "execution_count": 19,
      "outputs": [
        {
          "output_type": "stream",
          "name": "stdout",
          "text": [
            "Protected Characteristic          Frequency \n",
            " \n",
            "\n",
            "item length 33\n",
            "age                               493 \n",
            "\n",
            "item length 26\n",
            "disability                 508 \n",
            "\n",
            "item length 19\n",
            "gender reassignment 526 \n",
            "\n",
            "item length 30\n",
            "marriage and civil partnership 550 \n",
            "\n",
            "item length 23\n",
            "pregnancy and maternity 536 \n",
            "\n",
            "item length 32\n",
            "race                             578 \n",
            "\n",
            "item length 18\n",
            "religion or belief 494 \n",
            "\n",
            "item length 33\n",
            "sex                               496 \n",
            "\n",
            "item length 18\n",
            "sexual orientation 499 \n",
            "\n"
          ]
        }
      ]
    },
    {
      "cell_type": "markdown",
      "metadata": {
        "id": "9Po7yQj-ds38"
      },
      "source": [
        "---\n",
        "### Exercise 10 - characteristics statistics\n",
        "\n",
        "Assuming that the `characteristics` list may have been taken from a study of cases that have been taken to court in relation to the Equality Act.  \n",
        "\n",
        "Write a function which will:\n",
        "\n",
        "*   find the most common characteristic resulting in court action, from this population\n",
        "*   print this in a message, e.g. The characteristic with the highest number of court cases is:  *characteristic*\n",
        "*   print the list of `protected_characteristics`, on one line if possible - see [here](https://www.geeksforgeeks.org/g-fact-25-print-single-multiple-variable-python/)\n",
        "*   ask the user to enter a characteristic that they would like to see statistics on and use a while loop to continue until the user has entered a valid characteristic\n",
        "*   print the characteristic, its frequency and the percentage that this frequency is of the whole population."
      ]
    },
    {
      "cell_type": "code",
      "metadata": {
        "id": "uk_I5z7UgbDs"
      },
      "source": [
        ""
      ],
      "execution_count": null,
      "outputs": []
    }
  ]
}