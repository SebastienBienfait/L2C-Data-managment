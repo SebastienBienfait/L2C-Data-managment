{
  "nbformat": 4,
  "nbformat_minor": 0,
  "metadata": {
    "colab": {
      "name": "Untitled0.ipynb",
      "provenance": [],
      "collapsed_sections": [],
      "authorship_tag": "ABX9TyPAf/XoLC/VToBe5u31hR3f",
      "include_colab_link": true
    },
    "kernelspec": {
      "name": "python3",
      "display_name": "Python 3"
    },
    "language_info": {
      "name": "python"
    }
  },
  "cells": [
    {
      "cell_type": "markdown",
      "metadata": {
        "id": "view-in-github",
        "colab_type": "text"
      },
      "source": [
        "<a href=\"https://colab.research.google.com/github/SebastienBienfait/L2C-Data-managment/blob/main/Hangman.ipynb\" target=\"_parent\"><img src=\"https://colab.research.google.com/assets/colab-badge.svg\" alt=\"Open In Colab\"/></a>"
      ]
    },
    {
      "cell_type": "code",
      "execution_count": 27,
      "metadata": {
        "colab": {
          "base_uri": "https://localhost:8080/"
        },
        "id": "mHGoR6sDt9C9",
        "outputId": "2f8e684d-e16a-4625-f4f4-3ec7b171a1ae"
      },
      "outputs": [
        {
          "output_type": "stream",
          "name": "stdout",
          "text": [
            "wecome to Hangman\n",
            "Guess the word:  ---\n",
            "The letters you have available:  ['a', 'b', 'c', 'd', 'e', 'f', 'g', 'h', 'i', 'j', 'k', 'l', 'm', 'n', 'o', 'p', 'q', 'r', 's', 't', 'u', 'v', 'w', 'x', 'w', 'z']\n",
            "Letters you have already used:  []\n",
            "Score:  \n",
            "\n",
            "\n",
            "Guess a letter: q\n",
            "Oh dear, that was not correct\n",
            "Guess the word:  ---\n",
            "The letters you have available:  ['a', 'b', 'c', 'd', 'e', 'f', 'g', 'h', 'i', 'j', 'k', 'l', 'm', 'n', 'o', 'p', 'r', 's', 't', 'u', 'v', 'w', 'x', 'w', 'z']\n",
            "Letters you have already used:  ['q']\n",
            "Score:  \n",
            "------\n",
            "\n",
            "Guess a letter: l\n",
            "Oh dear, that was not correct\n",
            "Guess the word:  ---\n",
            "The letters you have available:  ['a', 'b', 'c', 'd', 'e', 'f', 'g', 'h', 'i', 'j', 'k', 'm', 'n', 'o', 'p', 'r', 's', 't', 'u', 'v', 'w', 'x', 'w', 'z']\n",
            "Letters you have already used:  ['q', 'l']\n",
            "Score:  \n",
            "------\n",
            "      |\n",
            "      |\n",
            "      |\n",
            "      |\n",
            "      |\n",
            "      |\n",
            "\n",
            "Guess a letter: z\n",
            "Oh dear, that was not correct\n",
            "Guess the word:  ---\n",
            "The letters you have available:  ['a', 'b', 'c', 'd', 'e', 'f', 'g', 'h', 'i', 'j', 'k', 'm', 'n', 'o', 'p', 'r', 's', 't', 'u', 'v', 'w', 'x', 'w']\n",
            "Letters you have already used:  ['q', 'l', 'z']\n",
            "Score:  \n",
            "------\n",
            "  |   |\n",
            "  0   |\n",
            "      |\n",
            "      |\n",
            "      |\n",
            "      |\n",
            "\n",
            "Guess a letter: m\n",
            "Oh dear, that was not correct\n",
            "Guess the word:  ---\n",
            "The letters you have available:  ['a', 'b', 'c', 'd', 'e', 'f', 'g', 'h', 'i', 'j', 'k', 'n', 'o', 'p', 'r', 's', 't', 'u', 'v', 'w', 'x', 'w']\n",
            "Letters you have already used:  ['q', 'l', 'z', 'm']\n",
            "Score:  \n",
            "------\n",
            "  |   |\n",
            "  0   |\n",
            "  |   |\n",
            "  |   |\n",
            "  |   |\n",
            "      |\n",
            "\n",
            "Guess a letter: k\n",
            "Oh dear, that was not correct\n",
            "Guess the word:  ---\n",
            "The letters you have available:  ['a', 'b', 'c', 'd', 'e', 'f', 'g', 'h', 'i', 'j', 'n', 'o', 'p', 'r', 's', 't', 'u', 'v', 'w', 'x', 'w']\n",
            "Letters you have already used:  ['q', 'l', 'z', 'm', 'k']\n",
            "Score:  \n",
            "------\n",
            "  |   |\n",
            "  0   |\n",
            " /|\\  |\n",
            "  |   |\n",
            "  |   |\n",
            "      |\n",
            "\n",
            "Guess a letter: t\n",
            "Oh dear, that was not correct\n",
            "You have died \n",
            "\n",
            "------\n",
            "  |   |\n",
            "  0   |\n",
            " /|\\  |\n",
            "  |   |\n",
            " /|\\  |\n",
            "      |\n",
            "    \n"
          ]
        }
      ],
      "source": [
        "import os\n",
        "\n",
        "def start_round(known_values,non_guessed_letters,wrong_letters,lives_left):\n",
        "  os.system('cls')\n",
        "  death_progresion = [\n",
        "\n",
        "\n",
        "#step6\n",
        "\"\"\"\n",
        "------\n",
        "  |   |\n",
        "  0   |\n",
        " /|\\\\  |\n",
        "  |   |\n",
        " /|\\\\  |\n",
        "     _|\n",
        "\"\"\",\n",
        "\n",
        "#step5\n",
        "\"\"\"\n",
        "------\n",
        "  |   |\n",
        "  0   |\n",
        " /|\\\\  |\n",
        "  |   |\n",
        "  |   |\n",
        "     _|\n",
        "\"\"\", \n",
        "\n",
        "#step4\n",
        "\"\"\"\n",
        "------\n",
        "  |   |\n",
        "  0   |\n",
        "  |   |\n",
        "  |   |\n",
        "  |   |\n",
        "     _|\n",
        "\"\"\",\n",
        "\n",
        "#step3\n",
        "\n",
        "\"\"\"\n",
        "------\n",
        "  |   |\n",
        "  0   |\n",
        "      |\n",
        "      |\n",
        "      |\n",
        "     _|\n",
        "\"\"\",\n",
        "\n",
        "#step2\n",
        "\"\"\"\n",
        "------\n",
        "      |\n",
        "      |\n",
        "      |\n",
        "      |\n",
        "      |\n",
        "     _|\n",
        "\"\"\",\n",
        "\n",
        "#step1\n",
        "\"\"\"\n",
        "------\n",
        "\"\"\",\n",
        "\"\"\"\n",
        "\n",
        "\"\"\"\n",
        "\n",
        "]\n",
        "  print(\"Guess the word: \", known_values)\n",
        "\n",
        "  \n",
        "  print(\"The letters you have available: \", non_guessed_letters)\n",
        "\n",
        "  \n",
        "  print(\"Letters you have already used: \", wrong_letters)\n",
        "  \n",
        "  print(\"Score: \",death_progresion[lives_left])\n",
        "\n",
        "def hangman(guess):\n",
        "  print(\"wecome to Hangman\")\n",
        "  known_values = \"-\"*len(guess)\n",
        "  known_values_list = []\n",
        "  for i in known_values:\n",
        "    known_values_list.append(i)\n",
        "\n",
        "  lives_left = 6\n",
        "  non_guessed_letters = [\"a\",\"b\",\"c\",\"d\",\"e\",\"f\",\"g\",\"h\",\"i\",\"j\",\"k\",\"l\",\"m\",\"n\",\"o\",\"p\",\"q\",\"r\",\"s\",\"t\",\"u\",\"v\",\"w\",\"x\",\"w\",\"z\"]\n",
        "  wrong_letters = []\n",
        "\n",
        "  while lives_left != 0:\n",
        "    start_round(known_values,non_guessed_letters,wrong_letters,lives_left)\n",
        "    \n",
        "    letter_guess = input(\"Guess a letter: \").lower()\n",
        "\n",
        "    \n",
        "    correct_index = []\n",
        "    correct_guess = 0\n",
        "    for letter_index in range(len(guess)):\n",
        "      if letter_guess == guess[int(letter_index)]:\n",
        "        known_values_list[letter_index] = letter_guess\n",
        "        correct_guess = 1\n",
        "      else:\n",
        "        correct_guess = -1\n",
        "    known_values = \"\".join(known_values_list) \n",
        "    \n",
        "    if correct_guess == 1:\n",
        "      print(\"Well done that was a correct guess\")\n",
        "      non_guessed_letters.remove(letter_guess)\n",
        "    else:\n",
        "      print(\"Oh dear, that was not correct\")\n",
        "      non_guessed_letters.remove(letter_guess)\n",
        "      wrong_letters.append(letter_guess)\n",
        "      lives_left -= 1\n",
        "    \n",
        "\n",
        "  if lives_left == 0:\n",
        "    print(\"You have died.\",\"\"\"\\n\n",
        "------\n",
        "  |   |\n",
        "  0   |\n",
        " /|\\\\  |\n",
        "  |   |\n",
        " /|\\\\  |\n",
        "     _|\n",
        "    \"\"\")\n",
        "\n",
        "hangman(\"pig\")\n",
        "\n",
        "      \n"
      ]
    },
    {
      "cell_type": "code",
      "source": [
        "letter_guess"
      ],
      "metadata": {
        "colab": {
          "base_uri": "https://localhost:8080/",
          "height": 183
        },
        "id": "inYd8XEY_dLY",
        "outputId": "8c393f4b-1bbc-4cf8-8e7a-62a0cb238c94"
      },
      "execution_count": 20,
      "outputs": [
        {
          "output_type": "error",
          "ename": "TypeError",
          "evalue": "ignored",
          "traceback": [
            "\u001b[0;31m---------------------------------------------------------------------------\u001b[0m",
            "\u001b[0;31mTypeError\u001b[0m                                 Traceback (most recent call last)",
            "\u001b[0;32m<ipython-input-20-316f1412e322>\u001b[0m in \u001b[0;36m<module>\u001b[0;34m()\u001b[0m\n\u001b[1;32m      1\u001b[0m \u001b[0mtest1\u001b[0m \u001b[0;34m=\u001b[0m \u001b[0;34m\"test string\"\u001b[0m\u001b[0;34m\u001b[0m\u001b[0;34m\u001b[0m\u001b[0m\n\u001b[0;32m----> 2\u001b[0;31m \u001b[0mtest1\u001b[0m\u001b[0;34m[\u001b[0m\u001b[0;36m1\u001b[0m\u001b[0;34m]\u001b[0m \u001b[0;34m=\u001b[0m \u001b[0;34m\" h\"\u001b[0m\u001b[0;34m\u001b[0m\u001b[0;34m\u001b[0m\u001b[0m\n\u001b[0m",
            "\u001b[0;31mTypeError\u001b[0m: 'str' object does not support item assignment"
          ]
        }
      ]
    },
    {
      "cell_type": "code",
      "source": [
        "test1 = [\"t\",\"s\",\"a\"]\n",
        "\"\".join(test1)"
      ],
      "metadata": {
        "colab": {
          "base_uri": "https://localhost:8080/",
          "height": 35
        },
        "id": "vwzjLtgrBhc7",
        "outputId": "3baee039-e83f-4bbd-8f9a-64efde46fddb"
      },
      "execution_count": 23,
      "outputs": [
        {
          "output_type": "execute_result",
          "data": {
            "text/plain": [
              "'tsa'"
            ],
            "application/vnd.google.colaboratory.intrinsic+json": {
              "type": "string"
            }
          },
          "metadata": {},
          "execution_count": 23
        }
      ]
    },
    {
      "cell_type": "code",
      "source": [
        ""
      ],
      "metadata": {
        "id": "Ok5-TOz_DaFz"
      },
      "execution_count": null,
      "outputs": []
    }
  ]
}