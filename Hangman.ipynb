{
  "nbformat": 4,
  "nbformat_minor": 0,
  "metadata": {
    "colab": {
      "name": "Untitled0.ipynb",
      "provenance": [],
      "authorship_tag": "ABX9TyPQw//Ce/tq5nkGZhZ64G86",
      "include_colab_link": true
    },
    "kernelspec": {
      "name": "python3",
      "display_name": "Python 3"
    },
    "language_info": {
      "name": "python"
    }
  },
  "cells": [
    {
      "cell_type": "markdown",
      "metadata": {
        "id": "view-in-github",
        "colab_type": "text"
      },
      "source": [
        "<a href=\"https://colab.research.google.com/github/SebastienBienfait/L2C-Data-managment/blob/main/Hangman.ipynb\" target=\"_parent\"><img src=\"https://colab.research.google.com/assets/colab-badge.svg\" alt=\"Open In Colab\"/></a>"
      ]
    },
    {
      "cell_type": "code",
      "execution_count": 3,
      "metadata": {
        "colab": {
          "base_uri": "https://localhost:8080/"
        },
        "id": "mHGoR6sDt9C9",
        "outputId": "7b6212d2-0d8e-421b-848b-580a24a45552"
      },
      "outputs": [
        {
          "output_type": "stream",
          "name": "stdout",
          "text": [
            "['\\n------\\n', '\\n------\\n      |\\n      |\\n      |\\n      |\\n      |\\n      |\\n', '\\n------\\n  |   |\\n  0   |\\n      |\\n      |\\n      |\\n      |\\n', '\\n------\\n  |   |\\n  0   |\\n  |   |\\n  |   |\\n  |   |\\n      |\\n', '\\n------\\n  |   |\\n  0   |\\n /|\\\\  |\\n  |   |\\n  |   |\\n      |\\n', '\\n------\\n  |   |\\n  0   |\\n /|\\\\  |\\n  |   |\\n /|\\\\  |\\n      |\\n']\n"
          ]
        }
      ],
      "source": [
        "death_progresion = [\n",
        "\n",
        "#step1\n",
        "\"\"\"\n",
        "------\n",
        "\"\"\",\n",
        "\n",
        "\n",
        "#step2\n",
        "\"\"\"\n",
        "------\n",
        "      |\n",
        "      |\n",
        "      |\n",
        "      |\n",
        "      |\n",
        "      |\n",
        "\"\"\",\n",
        "\n",
        "#step3\n",
        "\n",
        "\"\"\"\n",
        "------\n",
        "  |   |\n",
        "  0   |\n",
        "      |\n",
        "      |\n",
        "      |\n",
        "      |\n",
        "\"\"\",\n",
        "\n",
        "#step4\n",
        "\"\"\"\n",
        "------\n",
        "  |   |\n",
        "  0   |\n",
        "  |   |\n",
        "  |   |\n",
        "  |   |\n",
        "      |\n",
        "\"\"\",\n",
        "\n",
        "#step5\n",
        "\"\"\"\n",
        "------\n",
        "  |   |\n",
        "  0   |\n",
        " /|\\\\  |\n",
        "  |   |\n",
        "  |   |\n",
        "      |\n",
        "\"\"\",\n",
        "\n",
        "#step6\n",
        "\"\"\"\n",
        "------\n",
        "  |   |\n",
        "  0   |\n",
        " /|\\\\  |\n",
        "  |   |\n",
        " /|\\\\  |\n",
        "      |\n",
        "\"\"\"\n",
        "]\n",
        "print(death_progresion)"
      ]
    },
    {
      "cell_type": "code",
      "source": [
        ""
      ],
      "metadata": {
        "id": "j_mmw2WOuE1n"
      },
      "execution_count": null,
      "outputs": []
    }
  ]
}