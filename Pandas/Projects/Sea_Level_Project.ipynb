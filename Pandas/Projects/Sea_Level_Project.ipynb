{
  "nbformat": 4,
  "nbformat_minor": 0,
  "metadata": {
    "colab": {
      "name": "Sea-Level-Project.ipynb",
      "provenance": [],
      "collapsed_sections": [],
      "include_colab_link": true
    },
    "kernelspec": {
      "name": "python3",
      "display_name": "Python 3"
    },
    "language_info": {
      "name": "python"
    }
  },
  "cells": [
    {
      "cell_type": "markdown",
      "metadata": {
        "id": "view-in-github",
        "colab_type": "text"
      },
      "source": [
        "<a href=\"https://colab.research.google.com/github/SebastienBienfait/L2C-Data-managment/blob/main/Sea_Level_Project.ipynb\" target=\"_parent\"><img src=\"https://colab.research.google.com/assets/colab-badge.svg\" alt=\"Open In Colab\"/></a>"
      ]
    },
    {
      "cell_type": "markdown",
      "source": [
        "# Using numpy to look for a correlation between time data and sea level rise\n",
        "---\n",
        "\n",
        "### Data Source\n",
        "Global Average Absolute Sea Level Change, 1880-2014 from the US Environmental Protection Agency using data from CSIRO, 2015; NOAA, 2015.\n",
        "https://datahub.io/core/sea-level-rise\n",
        "\n",
        "The data describes annual sea levels from 1880 to 2013.  Measures are adjusted using two standards: Commonwealth Scientific and Industrial Research Organisation(CSIRO) and National Oceanic and Atmospheric Administration (NOAA)  \n",
        "\n",
        "Raw Data file:  https://raw.githubusercontent.com/freeCodeCamp/boilerplate-sea-level-predictor/master/epa-sea-level.csv\n",
        "\n",
        "For this exercise:\n",
        "*  import the pandas library\n",
        "*  import the numpy library\n",
        "*  read the csv dataset containing data on sea-levels from the year 1880 to 2013 into a dataframe (df)\n",
        "*  use df.head() and df.info() to inspect the data and the column data types\n",
        "\n"
      ],
      "metadata": {
        "id": "jBYNdCdQ9_cu"
      }
    },
    {
      "cell_type": "code",
      "source": [
        "import numpy as np\n",
        "import pandas as pd\n",
        "import matplotlib.pyplot as plt\n",
        "from scipy import stats\n",
        "\n",
        "\n",
        "\n",
        "url = \"https://raw.githubusercontent.com/freeCodeCamp/boilerplate-sea-level-predictor/master/epa-sea-level.csv\"\n",
        "df = pd.read_csv(url)\n",
        "display(df)\n",
        "display(df.info())\n",
        "display(df.columns)\n",
        "\n",
        "def test_null(df):\n",
        "  for i in df.columns:\n",
        "    if df[i].isnull().values.any() == True:\n",
        "      print(i,\"has\",df[i].isnull().values.sum() ,\" null values\")\n",
        "    else:\n",
        "      print(i, \"has no null values\")\n",
        "test_null(df)\n",
        "print()"
      ],
      "metadata": {
        "id": "r1XUCWHV_Cj9",
        "colab": {
          "base_uri": "https://localhost:8080/",
          "height": 806
        },
        "outputId": "14e66d05-bbd9-422f-f417-6db094738ee3"
      },
      "execution_count": 21,
      "outputs": [
        {
          "output_type": "display_data",
          "data": {
            "text/plain": [
              "     Year  CSIRO Adjusted Sea Level  Lower Error Bound  Upper Error Bound  \\\n",
              "0    1880                  0.000000          -0.952756           0.952756   \n",
              "1    1881                  0.220472          -0.732283           1.173228   \n",
              "2    1882                 -0.440945          -1.346457           0.464567   \n",
              "3    1883                 -0.232283          -1.129921           0.665354   \n",
              "4    1884                  0.590551          -0.283465           1.464567   \n",
              "..    ...                       ...                ...                ...   \n",
              "129  2009                  8.586614           8.311024           8.862205   \n",
              "130  2010                  8.901575           8.618110           9.185039   \n",
              "131  2011                  8.964567           8.661417           9.267717   \n",
              "132  2012                  9.326772           8.992126           9.661417   \n",
              "133  2013                  8.980315           8.622047           9.338583   \n",
              "\n",
              "     NOAA Adjusted Sea Level  \n",
              "0                        NaN  \n",
              "1                        NaN  \n",
              "2                        NaN  \n",
              "3                        NaN  \n",
              "4                        NaN  \n",
              "..                       ...  \n",
              "129                 8.046354  \n",
              "130                 8.122973  \n",
              "131                 8.053065  \n",
              "132                 8.457058  \n",
              "133                 8.546648  \n",
              "\n",
              "[134 rows x 5 columns]"
            ],
            "text/html": [
              "\n",
              "  <div id=\"df-513ed3b3-93a6-43fb-997a-4b957dec6c35\">\n",
              "    <div class=\"colab-df-container\">\n",
              "      <div>\n",
              "<style scoped>\n",
              "    .dataframe tbody tr th:only-of-type {\n",
              "        vertical-align: middle;\n",
              "    }\n",
              "\n",
              "    .dataframe tbody tr th {\n",
              "        vertical-align: top;\n",
              "    }\n",
              "\n",
              "    .dataframe thead th {\n",
              "        text-align: right;\n",
              "    }\n",
              "</style>\n",
              "<table border=\"1\" class=\"dataframe\">\n",
              "  <thead>\n",
              "    <tr style=\"text-align: right;\">\n",
              "      <th></th>\n",
              "      <th>Year</th>\n",
              "      <th>CSIRO Adjusted Sea Level</th>\n",
              "      <th>Lower Error Bound</th>\n",
              "      <th>Upper Error Bound</th>\n",
              "      <th>NOAA Adjusted Sea Level</th>\n",
              "    </tr>\n",
              "  </thead>\n",
              "  <tbody>\n",
              "    <tr>\n",
              "      <th>0</th>\n",
              "      <td>1880</td>\n",
              "      <td>0.000000</td>\n",
              "      <td>-0.952756</td>\n",
              "      <td>0.952756</td>\n",
              "      <td>NaN</td>\n",
              "    </tr>\n",
              "    <tr>\n",
              "      <th>1</th>\n",
              "      <td>1881</td>\n",
              "      <td>0.220472</td>\n",
              "      <td>-0.732283</td>\n",
              "      <td>1.173228</td>\n",
              "      <td>NaN</td>\n",
              "    </tr>\n",
              "    <tr>\n",
              "      <th>2</th>\n",
              "      <td>1882</td>\n",
              "      <td>-0.440945</td>\n",
              "      <td>-1.346457</td>\n",
              "      <td>0.464567</td>\n",
              "      <td>NaN</td>\n",
              "    </tr>\n",
              "    <tr>\n",
              "      <th>3</th>\n",
              "      <td>1883</td>\n",
              "      <td>-0.232283</td>\n",
              "      <td>-1.129921</td>\n",
              "      <td>0.665354</td>\n",
              "      <td>NaN</td>\n",
              "    </tr>\n",
              "    <tr>\n",
              "      <th>4</th>\n",
              "      <td>1884</td>\n",
              "      <td>0.590551</td>\n",
              "      <td>-0.283465</td>\n",
              "      <td>1.464567</td>\n",
              "      <td>NaN</td>\n",
              "    </tr>\n",
              "    <tr>\n",
              "      <th>...</th>\n",
              "      <td>...</td>\n",
              "      <td>...</td>\n",
              "      <td>...</td>\n",
              "      <td>...</td>\n",
              "      <td>...</td>\n",
              "    </tr>\n",
              "    <tr>\n",
              "      <th>129</th>\n",
              "      <td>2009</td>\n",
              "      <td>8.586614</td>\n",
              "      <td>8.311024</td>\n",
              "      <td>8.862205</td>\n",
              "      <td>8.046354</td>\n",
              "    </tr>\n",
              "    <tr>\n",
              "      <th>130</th>\n",
              "      <td>2010</td>\n",
              "      <td>8.901575</td>\n",
              "      <td>8.618110</td>\n",
              "      <td>9.185039</td>\n",
              "      <td>8.122973</td>\n",
              "    </tr>\n",
              "    <tr>\n",
              "      <th>131</th>\n",
              "      <td>2011</td>\n",
              "      <td>8.964567</td>\n",
              "      <td>8.661417</td>\n",
              "      <td>9.267717</td>\n",
              "      <td>8.053065</td>\n",
              "    </tr>\n",
              "    <tr>\n",
              "      <th>132</th>\n",
              "      <td>2012</td>\n",
              "      <td>9.326772</td>\n",
              "      <td>8.992126</td>\n",
              "      <td>9.661417</td>\n",
              "      <td>8.457058</td>\n",
              "    </tr>\n",
              "    <tr>\n",
              "      <th>133</th>\n",
              "      <td>2013</td>\n",
              "      <td>8.980315</td>\n",
              "      <td>8.622047</td>\n",
              "      <td>9.338583</td>\n",
              "      <td>8.546648</td>\n",
              "    </tr>\n",
              "  </tbody>\n",
              "</table>\n",
              "<p>134 rows × 5 columns</p>\n",
              "</div>\n",
              "      <button class=\"colab-df-convert\" onclick=\"convertToInteractive('df-513ed3b3-93a6-43fb-997a-4b957dec6c35')\"\n",
              "              title=\"Convert this dataframe to an interactive table.\"\n",
              "              style=\"display:none;\">\n",
              "        \n",
              "  <svg xmlns=\"http://www.w3.org/2000/svg\" height=\"24px\"viewBox=\"0 0 24 24\"\n",
              "       width=\"24px\">\n",
              "    <path d=\"M0 0h24v24H0V0z\" fill=\"none\"/>\n",
              "    <path d=\"M18.56 5.44l.94 2.06.94-2.06 2.06-.94-2.06-.94-.94-2.06-.94 2.06-2.06.94zm-11 1L8.5 8.5l.94-2.06 2.06-.94-2.06-.94L8.5 2.5l-.94 2.06-2.06.94zm10 10l.94 2.06.94-2.06 2.06-.94-2.06-.94-.94-2.06-.94 2.06-2.06.94z\"/><path d=\"M17.41 7.96l-1.37-1.37c-.4-.4-.92-.59-1.43-.59-.52 0-1.04.2-1.43.59L10.3 9.45l-7.72 7.72c-.78.78-.78 2.05 0 2.83L4 21.41c.39.39.9.59 1.41.59.51 0 1.02-.2 1.41-.59l7.78-7.78 2.81-2.81c.8-.78.8-2.07 0-2.86zM5.41 20L4 18.59l7.72-7.72 1.47 1.35L5.41 20z\"/>\n",
              "  </svg>\n",
              "      </button>\n",
              "      \n",
              "  <style>\n",
              "    .colab-df-container {\n",
              "      display:flex;\n",
              "      flex-wrap:wrap;\n",
              "      gap: 12px;\n",
              "    }\n",
              "\n",
              "    .colab-df-convert {\n",
              "      background-color: #E8F0FE;\n",
              "      border: none;\n",
              "      border-radius: 50%;\n",
              "      cursor: pointer;\n",
              "      display: none;\n",
              "      fill: #1967D2;\n",
              "      height: 32px;\n",
              "      padding: 0 0 0 0;\n",
              "      width: 32px;\n",
              "    }\n",
              "\n",
              "    .colab-df-convert:hover {\n",
              "      background-color: #E2EBFA;\n",
              "      box-shadow: 0px 1px 2px rgba(60, 64, 67, 0.3), 0px 1px 3px 1px rgba(60, 64, 67, 0.15);\n",
              "      fill: #174EA6;\n",
              "    }\n",
              "\n",
              "    [theme=dark] .colab-df-convert {\n",
              "      background-color: #3B4455;\n",
              "      fill: #D2E3FC;\n",
              "    }\n",
              "\n",
              "    [theme=dark] .colab-df-convert:hover {\n",
              "      background-color: #434B5C;\n",
              "      box-shadow: 0px 1px 3px 1px rgba(0, 0, 0, 0.15);\n",
              "      filter: drop-shadow(0px 1px 2px rgba(0, 0, 0, 0.3));\n",
              "      fill: #FFFFFF;\n",
              "    }\n",
              "  </style>\n",
              "\n",
              "      <script>\n",
              "        const buttonEl =\n",
              "          document.querySelector('#df-513ed3b3-93a6-43fb-997a-4b957dec6c35 button.colab-df-convert');\n",
              "        buttonEl.style.display =\n",
              "          google.colab.kernel.accessAllowed ? 'block' : 'none';\n",
              "\n",
              "        async function convertToInteractive(key) {\n",
              "          const element = document.querySelector('#df-513ed3b3-93a6-43fb-997a-4b957dec6c35');\n",
              "          const dataTable =\n",
              "            await google.colab.kernel.invokeFunction('convertToInteractive',\n",
              "                                                     [key], {});\n",
              "          if (!dataTable) return;\n",
              "\n",
              "          const docLinkHtml = 'Like what you see? Visit the ' +\n",
              "            '<a target=\"_blank\" href=https://colab.research.google.com/notebooks/data_table.ipynb>data table notebook</a>'\n",
              "            + ' to learn more about interactive tables.';\n",
              "          element.innerHTML = '';\n",
              "          dataTable['output_type'] = 'display_data';\n",
              "          await google.colab.output.renderOutput(dataTable, element);\n",
              "          const docLink = document.createElement('div');\n",
              "          docLink.innerHTML = docLinkHtml;\n",
              "          element.appendChild(docLink);\n",
              "        }\n",
              "      </script>\n",
              "    </div>\n",
              "  </div>\n",
              "  "
            ]
          },
          "metadata": {}
        },
        {
          "output_type": "stream",
          "name": "stdout",
          "text": [
            "<class 'pandas.core.frame.DataFrame'>\n",
            "RangeIndex: 134 entries, 0 to 133\n",
            "Data columns (total 5 columns):\n",
            " #   Column                    Non-Null Count  Dtype  \n",
            "---  ------                    --------------  -----  \n",
            " 0   Year                      134 non-null    int64  \n",
            " 1   CSIRO Adjusted Sea Level  134 non-null    float64\n",
            " 2   Lower Error Bound         134 non-null    float64\n",
            " 3   Upper Error Bound         134 non-null    float64\n",
            " 4   NOAA Adjusted Sea Level   21 non-null     float64\n",
            "dtypes: float64(4), int64(1)\n",
            "memory usage: 5.4 KB\n"
          ]
        },
        {
          "output_type": "display_data",
          "data": {
            "text/plain": [
              "None"
            ]
          },
          "metadata": {}
        },
        {
          "output_type": "display_data",
          "data": {
            "text/plain": [
              "Index(['Year', 'CSIRO Adjusted Sea Level', 'Lower Error Bound',\n",
              "       'Upper Error Bound', 'NOAA Adjusted Sea Level'],\n",
              "      dtype='object')"
            ]
          },
          "metadata": {}
        },
        {
          "output_type": "stream",
          "name": "stdout",
          "text": [
            "Year has no null values\n",
            "CSIRO Adjusted Sea Level has no null values\n",
            "Lower Error Bound has no null values\n",
            "Upper Error Bound has no null values\n",
            "NOAA Adjusted Sea Level has 113  null values\n",
            "133\n"
          ]
        }
      ]
    },
    {
      "cell_type": "markdown",
      "source": [
        "### Then\n",
        "---\n",
        "1.  Calculate some statistics on the level array, eg:\n",
        "*  mean\n",
        "*  standard deviation\n",
        "*  total \n",
        "\n",
        "2.  Use the fact that the arrays are aligned (e.g. the first number in the level array is linked to the first year in the year array and display:\n",
        "\n",
        "*  the year with the biggest rise in level\n",
        "*  the year with the lowest rise in level\n",
        "\n",
        "*(**Hint**:  to do this you can use a new numpy function np.where() )*\n",
        " ```\n",
        "np.where(array == value_to_find)\n",
        "```\n",
        "*There is some reference material [here](https://thispointer.com/find-the-index-of-a-value-in-numpy-array/)*\n",
        "\n",
        "**Note**: ```np.where(...)``` will return a tuple containing all indexes where that value was found.  You can print all, or you can print the first value (it is likely that there will only be one in this case) using [0][0].  *With the correct code you should get an answer of 2012*\n",
        "\n",
        "\n",
        "3.  Calculate the Pearson product-moment correlation coefficient between year and the rise in sea level.  (*Expected output:  0.98 when rounded to 2 decimal places*)"
      ],
      "metadata": {
        "id": "3cf1YPgnBSc2"
      }
    },
    {
      "cell_type": "code",
      "execution_count": 84,
      "metadata": {
        "id": "8VWUtmK4YhoU",
        "colab": {
          "base_uri": "https://localhost:8080/",
          "height": 563
        },
        "outputId": "dd7298f0-fa22-4002-af69-f448657c09d8"
      },
      "outputs": [
        {
          "output_type": "stream",
          "name": "stdout",
          "text": [
            "Average sea level change per year:  3.6503408118805987\n",
            "Standard deviation of sea level change:  2.4856919703839053\n",
            "Total change over  134  years:  489.1456687920001\n",
            "\n",
            "\n",
            "\n",
            "Year with the highest sea level increase:  2012\n",
            "Year with the lowest sea level increase:  1882\n",
            "\n",
            "\n",
            "\n",
            "Pearson correlation of year to sea level rise: \n",
            " [[1.   0.98]\n",
            " [0.98 1.  ]]\n"
          ]
        },
        {
          "output_type": "display_data",
          "data": {
            "text/plain": [
              "<Figure size 648x360 with 1 Axes>"
            ],
            "image/png": "[encoded data removed]"
          },
          "metadata": {
            "needs_background": "light"
          }
        }
      ],
      "source": [
        "\n",
        "into_array_fl = lambda x: df[x].to_numpy()\n",
        "into_array_int = lambda x: df[x].to_numpy()\n",
        "\n",
        "arr_year = into_array_int(\"Year\")\n",
        "arr_cirso_level = into_array_fl(\"CSIRO Adjusted Sea Level\")\n",
        "arr_lower_err = into_array_fl(\"Lower Error Bound\")\n",
        "arr_upper_err = into_array_fl(\"Upper Error Bound\")\n",
        "arr_noaa_level = into_array_fl(\"NOAA Adjusted Sea Level\")\n",
        "\n",
        "\n",
        "\n",
        "def basic_stats(df):\n",
        "  sea_mean_criso = df[\"CSIRO Adjusted Sea Level\"].mean()\n",
        "  sea_std_criso = df[\"CSIRO Adjusted Sea Level\"].std()\n",
        "  sea_sum_criso = df[\"CSIRO Adjusted Sea Level\"].sum()\n",
        "  print(\"Average sea level change per year: \", sea_mean_criso)\n",
        "  print(\"Standard deviation of sea level change: \", sea_std_criso)\n",
        "  print(\"Total change over \", df.index.max()+1,\" years: \", sea_sum_criso)\n",
        "\n",
        "  print(\"\\n\\n\")\n",
        "  highest_change_year = df[\"Year\"].iloc[ np.where(arr_cirso_level == arr_cirso_level.max())[0][0] ]\n",
        "  lowest_change_year = df[\"Year\"].iloc[ np.where(arr_cirso_level == arr_cirso_level.min())[0][0] ]\n",
        "  print(\"Year with the highest sea level increase: \", highest_change_year) \n",
        "  print(\"Year with the lowest sea level increase: \", lowest_change_year) \n",
        "\n",
        "  print(\"\\n\\n\")\n",
        "  corr_sea_year = np.corrcoef(arr_year, arr_cirso_level)\n",
        "  print(\"Pearson correlation of year to sea level rise: \\n\", np.round(corr_sea_year, 2)) #np.round() is needed rather than just round() for ndarray\n",
        "\n",
        "basic_stats(df)\n",
        "\n",
        "def plots():\n",
        "\n",
        "  abs_low_err = arr_cirso_level - arr_lower_err\n",
        "  abs_up_err = arr_upper_err - arr_cirso_level\n",
        "\n",
        "  fig = plt.figure( figsize = (9,5) )\n",
        "  plt.errorbar(arr_year, arr_cirso_level, yerr = [abs_low_err,abs_up_err], ecolor = \"blue\", color=\"orange\")\n",
        "  plt.show()\n",
        "plots()"
      ]
    },
    {
      "cell_type": "markdown",
      "metadata": {
        "id": "yQyytEbnZ1lw"
      },
      "source": [
        "# Reflection\n",
        "----\n",
        "\n",
        "## What skills have you demonstrated in completing this notebook?"
      ]
    },
    {
      "cell_type": "markdown",
      "metadata": {
        "id": "MM00hR5aZk1-"
      },
      "source": [
        "Your answer: "
      ]
    },
    {
      "cell_type": "markdown",
      "metadata": {
        "id": "Zgexd27sZ1ly"
      },
      "source": [
        "## What caused you the most difficulty?"
      ]
    },
    {
      "cell_type": "markdown",
      "metadata": {
        "id": "-Y_nrVBwaGXr"
      },
      "source": [
        "Your answer: "
      ]
    }
  ]
}
