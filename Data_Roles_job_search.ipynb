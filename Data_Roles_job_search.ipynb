{
  "nbformat": 4,
  "nbformat_minor": 0,
  "metadata": {
    "colab": {
      "provenance": [],
      "collapsed_sections": [],
      "authorship_tag": "ABX9TyMOqWxAMTxfLjPY/bxMs4YD",
      "include_colab_link": true
    },
    "kernelspec": {
      "name": "python3",
      "display_name": "Python 3"
    },
    "language_info": {
      "name": "python"
    }
  },
  "cells": [
    {
      "cell_type": "markdown",
      "metadata": {
        "id": "view-in-github",
        "colab_type": "text"
      },
      "source": [
        "<a href=\"https://colab.research.google.com/github/SebastienBienfait/L2C-Data-managment/blob/main/Data_Roles_job_search.ipynb\" target=\"_parent\"><img src=\"https://colab.research.google.com/assets/colab-badge.svg\" alt=\"Open In Colab\"/></a>"
      ]
    },
    {
      "cell_type": "markdown",
      "source": [
        "Title"
      ],
      "metadata": {
        "id": "gXmOBWlBvpJZ"
      }
    },
    {
      "cell_type": "markdown",
      "source": [
        "Importing libaries and defining base jobsite urls"
      ],
      "metadata": {
        "id": "bU4maESh2aQ_"
      }
    },
    {
      "cell_type": "code",
      "execution_count": 46,
      "metadata": {
        "id": "j-UR0WPmrjU2"
      },
      "outputs": [],
      "source": [
        "from bs4 import BeautifulSoup\n",
        "import requests\n",
        "import pandas as pd\n",
        "pd.options.mode.chained_assignment = None  # default='warn'  ##<- this is really annoying, I WANT to copy the DF.\n",
        "import numpy as np\n",
        "import datetime\n",
        "import matplotlib.pyplot as plt\n",
        "from google.colab import files"
      ]
    },
    {
      "cell_type": "markdown",
      "source": [],
      "metadata": {
        "id": "Z3FeetaZyGf_"
      }
    },
    {
      "cell_type": "markdown",
      "source": [
        "user input:    \n",
        "To use this programe, input your search terms in the box below. \n",
        "\n",
        "Search Term: You can include commers, spaces and multiple words.\n",
        "\n",
        "Center of Search, use format: 'Town, County' if the center you are searching for is not unique. If it is unique within the UK, 'County' is unnecessary. Or you can just use 'County' as your search center.\n",
        "\n",
        "--NB: for JobsInKent, the search is limited to 'Kent' by default.\n",
        "\n",
        "Radius: enter any valid integer. The closest valid radius for each site will be picked. If you are equidistance between two values, the lower value will be choesen.\n",
        "\n",
        "Filter Term: This will filter the final database to only contain jobs with the Filiter Term in the title: ie 'Data' will filter keep 'Data Developer' but not 'Software Developer'. To not filter at all, type 'no' instead.\n",
        "\n",
        "--NB: the filter term is case sensitve, 'data' will not pick up 'Database'"
      ],
      "metadata": {
        "id": "ho_4zEqKkdX2"
      }
    },
    {
      "cell_type": "code",
      "source": [
        "def user_imput():\n",
        "  search_term = input(\"Search Term: \" )\n",
        "  search_center = input(\"Center of Search: \") #town, county\n",
        "  search_radius = int(input(\"Search Radius: \" ))\n",
        "\n",
        "  filter_term = input(\"Filter Term: \")\n",
        "  if filter_term.lower() == \"no\":\n",
        "    filter_term = None\n",
        "  return search_term, search_center, search_radius, filter_term\n",
        "\n",
        "\n",
        "\n",
        "search_term, search_center, search_radius, filter_term = user_imput()\n"
      ],
      "metadata": {
        "colab": {
          "base_uri": "https://localhost:8080/"
        },
        "id": "Hg-Ws572kcQv",
        "outputId": "a7169da9-87d5-4d4d-c4d3-1bbb672adff7"
      },
      "execution_count": 47,
      "outputs": [
        {
          "name": "stdout",
          "output_type": "stream",
          "text": [
            "Search Term: Data\n",
            "Center of Search: Kent\n",
            "Search Radius: 10\n",
            "Filter Term: Data\n"
          ]
        }
      ]
    },
    {
      "cell_type": "code",
      "source": [
        "def find_valid_radius(radius,valid_list):\n",
        "  valid_test = np.array([],dtype=\"int\")\n",
        "\n",
        "  for radi in valid_list:\n",
        "    valid_test = np.append(valid_test,[abs(radi-radius)])\n",
        "  return_radius = valid_list[np.argmin(valid_test)]\n",
        "  return return_radius"
      ],
      "metadata": {
        "id": "tQ-qy5zUCLC5"
      },
      "execution_count": 48,
      "outputs": []
    },
    {
      "cell_type": "code",
      "source": [
        "def creat_urls(search_term, search_center, search_radius):\n",
        "  jobsinkent_search_str = search_term.replace(\",\",\"%2C\").replace(\" \",\"+\")\n",
        "  reed_search_str = search_term.replace(\",\",\"%2C\").replace(\" \",\"%20\")\n",
        "\n",
        "  reed_center_str = search_center.replace(\", \",\"%2C-\")\n",
        "\n",
        "\n",
        "  jobsinkent_valid_radius = np.array([1,2,5,10,20,30,40],dtype=\"int\")\n",
        "  jobsinkent_radius = find_valid_radius(search_radius, jobsinkent_valid_radius)\n",
        "\n",
        "  reed_valid_radius = np.array([0,1,3,5,10,15,20,30,50],dtype=\"int\")\n",
        "  reed_radius = find_valid_radius(search_radius, reed_valid_radius)\n",
        "\n",
        "\n",
        "  jobsinkent_url = \"https://jobsinkent.com/search?q=\" + jobsinkent_search_str + \"&pl=1\" + \"&r=\" + str(jobsinkent_radius)\n",
        "  reed_url = \"https://www.reed.co.uk/jobs?keywords=\" + reed_search_str+\"&location=\" + reed_center_str + \"&proximity=\" + str(reed_radius)\n",
        "  print(jobsinkent_url)\n",
        "  print(reed_url)\n",
        "\n",
        "\n",
        "  save_state = False\n",
        "  query_save = input(\"Would you like to save and download the results of your search? (yes/no) \")\n",
        "  if query_save.lower() == \"yes\":\n",
        "    save_state = True\n",
        "  else: \n",
        "    save_state = False\n",
        "\n",
        "  return reed_url, jobsinkent_url, save_state"
      ],
      "metadata": {
        "id": "cMh4CqyMCnpF"
      },
      "execution_count": 49,
      "outputs": []
    },
    {
      "cell_type": "code",
      "source": [
        "reed_url, jobsinkent_url, save_state = creat_urls(search_term, search_center, search_radius)"
      ],
      "metadata": {
        "colab": {
          "base_uri": "https://localhost:8080/"
        },
        "id": "sk5LBD_iCKXk",
        "outputId": "f630e768-9f61-46be-9aba-ebdba55ca842"
      },
      "execution_count": 50,
      "outputs": [
        {
          "name": "stdout",
          "output_type": "stream",
          "text": [
            "https://jobsinkent.com/search?q=Data&pl=1&r=10\n",
            "https://www.reed.co.uk/jobs?keywords=Data&location=Kent&proximity=10\n",
            "Would you like to save and download the results of your search? (yes/no) no\n"
          ]
        }
      ]
    },
    {
      "cell_type": "code",
      "source": [
        "#reed_url = \"https://www.reed.co.uk/jobs/data-jobs-in-ashford-kent?proximity=30\"\n",
        "#jobsinkent_url = \"https://jobsinkent.com/search?q=Data&pl=1\" #pl=1 -> Kent\n",
        "\n",
        "max_job_call = 2000 #reed has a limit of 2000 job search api calls per hour."
      ],
      "metadata": {
        "id": "a8Mq1V1OvvS2"
      },
      "execution_count": 51,
      "outputs": []
    },
    {
      "cell_type": "markdown",
      "source": [
        "General Functions that are used in both searches."
      ],
      "metadata": {
        "id": "j9izuNBqxuTU"
      }
    },
    {
      "cell_type": "code",
      "source": [
        "#returns the full HTML of a page.\n",
        "def get_html(url):\n",
        "    page = requests.get(url)\n",
        "    soup = BeautifulSoup(page.content, 'html.parser')\n",
        "    return soup\n",
        "\n",
        "#This cleans the dataframes when they have been created.\n",
        "def general_clean(df,site,filter_term):\n",
        "  df.drop_duplicates(inplace=True)\n",
        "\n",
        "  if filter_term != None:\n",
        "    df = df[df[\"job_title\"].str.contains(filter_term)]\n",
        "\n",
        "\n",
        "  df[\"salary\"].replace(np.nan, '', regex=False,inplace=True) #not all companies have listed a salary and so NaN is sometimes returned\n",
        "  df[\"company\"] = df[\"company\"].str.lstrip(\" \").str.rstrip(\" \") #some companies have excess whitespaces around their names\n",
        "\n",
        "  df[\"date_found\"] = datetime.date.today()\n",
        "  df[\"advertised_on\"] = site\n",
        "  return df"
      ],
      "metadata": {
        "id": "hPZ9tXTmxuHZ"
      },
      "execution_count": 61,
      "outputs": []
    },
    {
      "cell_type": "markdown",
      "source": [
        "#Reed Job Search\n",
        "---"
      ],
      "metadata": {
        "id": "twZFKrtmuBG-"
      }
    },
    {
      "cell_type": "markdown",
      "source": [
        "This function finds the job ID for all jobs displayed on each page url from reed.co.uk\n"
      ],
      "metadata": {
        "id": "Ze1w318xtMpj"
      }
    },
    {
      "cell_type": "code",
      "source": [
        "def reed_jobs_iterate(page_url):\n",
        "  site_html = get_html(page_url)\n",
        "  results = site_html.find(class_=\"col-sm-8 col-md-9 results-container\")\n",
        "\n",
        "  id_list = np.array([])\n",
        "  job_cards = results.find_all(class_=\"job-result-card\")\n",
        "\n",
        "  for job in job_cards: #finds the jobs, gets it's ID, returns the id\n",
        "      job_id = int(job[\"id\"].split(\"jobSection\")[1]) #jobSection48529572 ect...\n",
        "      \n",
        "      id_list = np.append(id_list,[job_id])\n",
        "  return id_list"
      ],
      "metadata": {
        "id": "3HhCS-c4rov7"
      },
      "execution_count": 54,
      "outputs": []
    },
    {
      "cell_type": "markdown",
      "source": [
        "This finds the total jobs found in the search"
      ],
      "metadata": {
        "id": "FcBpN7SV7sI3"
      }
    },
    {
      "cell_type": "code",
      "source": [
        "def find_reed_total_jobs(site_html,max_job_call):\n",
        "  max_page_requests = int(max_job_call/25) \n",
        "\n",
        "  ###\n",
        "  total_jobs_text = site_html.find(class_=\"col-sm-11 col-xs-12 page-title\").text # '\\n' '\\r' '\\n' x,xxx\\r\\n  Data Jobs near Ashford       '\\n'....\n",
        "  total_jobs_text = total_jobs_text.replace(\"\\n\",\"\").replace(\"\\r\",\"\").replace(\",\",\"\") #          xxxx         Data Jobs near Ashford       .       \n",
        "\n",
        "  total_jobs = int(total_jobs_text.split(\"Data\")[0].strip(\" \"))\n",
        "  total_pages = int(np.ceil(total_jobs/25))\n",
        "\n",
        "  #limits the requests to only 2000\n",
        "  if total_pages > max_page_requests:\n",
        "    total_pages = max_page_requests\n",
        "\n",
        "\n",
        "  return total_jobs, total_pages"
      ],
      "metadata": {
        "id": "rb1-9VOLuMXS"
      },
      "execution_count": 55,
      "outputs": []
    },
    {
      "cell_type": "markdown",
      "source": [
        "\n",
        "The function srapes website for all job id's that meet the search critiera.\n"
      ],
      "metadata": {
        "id": "55hjm4Hqtadz"
      }
    },
    {
      "cell_type": "code",
      "source": [
        "def reed_scrape(base_url,max_job_call):\n",
        "  soup = get_html(base_url)\n",
        "  total_id_list = np.array([],dtype=int)\n",
        "\n",
        "  #finds out how many more pages to scrape\n",
        "  total_jobs, total_pages = find_reed_total_jobs(soup,max_job_call)\n",
        "\n",
        "  print(\"total jobs found: \", total_jobs)\n",
        "  print(\"total pages: \", total_pages)\n",
        "  print(\"pages to search: \",total_pages)\n",
        "\n",
        "  for page_no in np.arange(1,total_pages+1): \n",
        "    page_url = base_url+\"&pageno=\"+str(page_no)\n",
        "    page_id_list = reed_jobs_iterate(page_url)\n",
        "    total_id_list = np.append(total_id_list,[page_id_list])\n",
        "\n",
        "    #user feedback\n",
        "    print(\"page \",page_no, \" processed\")\n",
        "  return total_id_list\n"
      ],
      "metadata": {
        "id": "Az2WHxc4taFE"
      },
      "execution_count": 56,
      "outputs": []
    },
    {
      "cell_type": "markdown",
      "source": [
        "This calls the reed API to return job information based on the jobID"
      ],
      "metadata": {
        "id": "vTIXRwtw7FDt"
      }
    },
    {
      "cell_type": "code",
      "source": [
        "def call_reed_api(id_list):\n",
        "  base_url = \"https://www.reed.co.uk/api/1.0/jobs/\"\n",
        "  api_url = \"\"\n",
        "  job_df = pd.DataFrame()\n",
        "\n",
        "  #user feedback\n",
        "  print(\"Retriving job information...\")\n",
        "\n",
        "  for job_id in id_list:\n",
        "    api_url = base_url+str(job_id)\n",
        "    post_request = requests.get(api_url, auth=(\"96a7ec49-549c-4529-b9d2-fa3059a437b3\",\"\"))\n",
        "    json_data = post_request.json()\n",
        "\n",
        "    new_row = pd.json_normalize(json_data)\n",
        "    job_df = job_df.append(new_row,ignore_index=True)\n",
        "  return job_df"
      ],
      "metadata": {
        "id": "XvS9gJzw3naG"
      },
      "execution_count": 57,
      "outputs": []
    },
    {
      "cell_type": "markdown",
      "source": [
        "Calls the scraping function and the api function in turn ~7-8mins to run"
      ],
      "metadata": {
        "id": "KMBzMmFP8FKj"
      }
    },
    {
      "cell_type": "code",
      "source": [
        "reed_id_list = reed_scrape(reed_url,max_job_call)\n",
        "reed_id_list = reed_id_list.astype(\"int\") #it really didnt want to save the array as an int\n",
        "\n",
        "full_reed_df = call_reed_api(reed_id_list)\n",
        "display(full_reed_df.info())"
      ],
      "metadata": {
        "id": "9LUfycOh7OMg"
      },
      "execution_count": null,
      "outputs": []
    },
    {
      "cell_type": "markdown",
      "source": [
        "Cleaning the Reed DF"
      ],
      "metadata": {
        "id": "q8H8F0IT-Z40"
      }
    },
    {
      "cell_type": "code",
      "source": [
        "def general_clean(df,site,filter_term):\n",
        "  df.drop_duplicates(inplace=True)\n",
        "  df[\"salary\"].replace(np.nan, '', regex=False,inplace=True) #not all companies have listed a salary and so NaN is sometimes returned\n",
        "  df[\"company\"] = df[\"company\"].str.lstrip(\" \").str.rstrip(\" \") #some companies have excess whitespaces around their names\n",
        "  df.dropna(inplace=True) #just incase the max of 2000 jobs is bypassed\n",
        "\n",
        "  if filter_term != None:\n",
        "    df = df[df[\"job_title\"].str.contains(filter_term)]\n",
        "\n",
        "  df[\"date_found\"] = datetime.date.today()\n",
        "  df[\"advertised_on\"] = site\n",
        "  return df"
      ],
      "metadata": {
        "id": "VSWIXqTjMDxv"
      },
      "execution_count": 82,
      "outputs": []
    },
    {
      "cell_type": "code",
      "source": [
        "def clean_reed(df_in): #this filters out the necessary rows and renames them so the cleaning function works.\n",
        "  df = df_in[[\"jobTitle\", \"employerName\", \"salary\", \"contractType\", \"locationName\",  \"jobUrl\"]]\n",
        "\n",
        "  df.rename(columns={\"jobTitle\":\"job_title\", \"employerName\": \"company\", \"contractType\":\"contract\", \"locationName\":\"location\",  \"jobUrl\":\"job_url\"}, inplace=True)\n",
        "  return df\n",
        "\n",
        "reed_df = clean_reed(full_reed_df)\n",
        "reed_df = general_clean(reed_df,\"https://www.reed.co.uk\",filter_term)\n",
        "display(reed_df.shape)\n",
        "display(reed_df.head(5))"
      ],
      "metadata": {
        "colab": {
          "base_uri": "https://localhost:8080/",
          "height": 224
        },
        "id": "_Sp0u-sv-YlY",
        "outputId": "bf606ad0-b3f9-473c-f4d9-e9e6b384dc82"
      },
      "execution_count": 84,
      "outputs": [
        {
          "output_type": "display_data",
          "data": {
            "text/plain": [
              "(1201, 8)"
            ]
          },
          "metadata": {}
        },
        {
          "output_type": "display_data",
          "data": {
            "text/plain": [
              "            job_title                           company  \\\n",
              "0      Data Architect                    The Rank Group   \n",
              "1      Data Architect                         Veolia UK   \n",
              "2       Data Inputter       Clemence Rogers Recruitment   \n",
              "3        Data Analyst  Morgan Sindall Property Services   \n",
              "5  Data Administrator      Braundton Consulting Limited   \n",
              "\n",
              "                                      salary   contract        location  \\\n",
              "0                                             Permanent          London   \n",
              "1  £65,000 - £84,600 per annum, inc benefits  Permanent  United Kingdom   \n",
              "2                          £20,000 per annum  Permanent       Belvedere   \n",
              "3  £35,000 - £40,000 per annum, inc benefits  Permanent        Dartford   \n",
              "5                          £22,194 per annum  Permanent          Sidcup   \n",
              "\n",
              "                                             job_url  date_found  \\\n",
              "0  https://www.reed.co.uk/jobs/data-architect/484...  2022-11-01   \n",
              "1  https://www.reed.co.uk/jobs/data-architect/486...  2022-11-01   \n",
              "2  https://www.reed.co.uk/jobs/data-inputter/4850...  2022-11-01   \n",
              "3  https://www.reed.co.uk/jobs/data-analyst/48211407  2022-11-01   \n",
              "5  https://www.reed.co.uk/jobs/data-administrator...  2022-11-01   \n",
              "\n",
              "            advertised_on  \n",
              "0  https://www.reed.co.uk  \n",
              "1  https://www.reed.co.uk  \n",
              "2  https://www.reed.co.uk  \n",
              "3  https://www.reed.co.uk  \n",
              "5  https://www.reed.co.uk  "
            ],
            "text/html": [
              "\n",
              "  <div id=\"df-f66d3056-44e7-41a6-8315-47a56bc3c189\">\n",
              "    <div class=\"colab-df-container\">\n",
              "      <div>\n",
              "<style scoped>\n",
              "    .dataframe tbody tr th:only-of-type {\n",
              "        vertical-align: middle;\n",
              "    }\n",
              "\n",
              "    .dataframe tbody tr th {\n",
              "        vertical-align: top;\n",
              "    }\n",
              "\n",
              "    .dataframe thead th {\n",
              "        text-align: right;\n",
              "    }\n",
              "</style>\n",
              "<table border=\"1\" class=\"dataframe\">\n",
              "  <thead>\n",
              "    <tr style=\"text-align: right;\">\n",
              "      <th></th>\n",
              "      <th>job_title</th>\n",
              "      <th>company</th>\n",
              "      <th>salary</th>\n",
              "      <th>contract</th>\n",
              "      <th>location</th>\n",
              "      <th>job_url</th>\n",
              "      <th>date_found</th>\n",
              "      <th>advertised_on</th>\n",
              "    </tr>\n",
              "  </thead>\n",
              "  <tbody>\n",
              "    <tr>\n",
              "      <th>0</th>\n",
              "      <td>Data Architect</td>\n",
              "      <td>The Rank Group</td>\n",
              "      <td></td>\n",
              "      <td>Permanent</td>\n",
              "      <td>London</td>\n",
              "      <td>https://www.reed.co.uk/jobs/data-architect/484...</td>\n",
              "      <td>2022-11-01</td>\n",
              "      <td>https://www.reed.co.uk</td>\n",
              "    </tr>\n",
              "    <tr>\n",
              "      <th>1</th>\n",
              "      <td>Data Architect</td>\n",
              "      <td>Veolia UK</td>\n",
              "      <td>£65,000 - £84,600 per annum, inc benefits</td>\n",
              "      <td>Permanent</td>\n",
              "      <td>United Kingdom</td>\n",
              "      <td>https://www.reed.co.uk/jobs/data-architect/486...</td>\n",
              "      <td>2022-11-01</td>\n",
              "      <td>https://www.reed.co.uk</td>\n",
              "    </tr>\n",
              "    <tr>\n",
              "      <th>2</th>\n",
              "      <td>Data Inputter</td>\n",
              "      <td>Clemence Rogers Recruitment</td>\n",
              "      <td>£20,000 per annum</td>\n",
              "      <td>Permanent</td>\n",
              "      <td>Belvedere</td>\n",
              "      <td>https://www.reed.co.uk/jobs/data-inputter/4850...</td>\n",
              "      <td>2022-11-01</td>\n",
              "      <td>https://www.reed.co.uk</td>\n",
              "    </tr>\n",
              "    <tr>\n",
              "      <th>3</th>\n",
              "      <td>Data Analyst</td>\n",
              "      <td>Morgan Sindall Property Services</td>\n",
              "      <td>£35,000 - £40,000 per annum, inc benefits</td>\n",
              "      <td>Permanent</td>\n",
              "      <td>Dartford</td>\n",
              "      <td>https://www.reed.co.uk/jobs/data-analyst/48211407</td>\n",
              "      <td>2022-11-01</td>\n",
              "      <td>https://www.reed.co.uk</td>\n",
              "    </tr>\n",
              "    <tr>\n",
              "      <th>5</th>\n",
              "      <td>Data Administrator</td>\n",
              "      <td>Braundton Consulting Limited</td>\n",
              "      <td>£22,194 per annum</td>\n",
              "      <td>Permanent</td>\n",
              "      <td>Sidcup</td>\n",
              "      <td>https://www.reed.co.uk/jobs/data-administrator...</td>\n",
              "      <td>2022-11-01</td>\n",
              "      <td>https://www.reed.co.uk</td>\n",
              "    </tr>\n",
              "  </tbody>\n",
              "</table>\n",
              "</div>\n",
              "      <button class=\"colab-df-convert\" onclick=\"convertToInteractive('df-f66d3056-44e7-41a6-8315-47a56bc3c189')\"\n",
              "              title=\"Convert this dataframe to an interactive table.\"\n",
              "              style=\"display:none;\">\n",
              "        \n",
              "  <svg xmlns=\"http://www.w3.org/2000/svg\" height=\"24px\"viewBox=\"0 0 24 24\"\n",
              "       width=\"24px\">\n",
              "    <path d=\"M0 0h24v24H0V0z\" fill=\"none\"/>\n",
              "    <path d=\"M18.56 5.44l.94 2.06.94-2.06 2.06-.94-2.06-.94-.94-2.06-.94 2.06-2.06.94zm-11 1L8.5 8.5l.94-2.06 2.06-.94-2.06-.94L8.5 2.5l-.94 2.06-2.06.94zm10 10l.94 2.06.94-2.06 2.06-.94-2.06-.94-.94-2.06-.94 2.06-2.06.94z\"/><path d=\"M17.41 7.96l-1.37-1.37c-.4-.4-.92-.59-1.43-.59-.52 0-1.04.2-1.43.59L10.3 9.45l-7.72 7.72c-.78.78-.78 2.05 0 2.83L4 21.41c.39.39.9.59 1.41.59.51 0 1.02-.2 1.41-.59l7.78-7.78 2.81-2.81c.8-.78.8-2.07 0-2.86zM5.41 20L4 18.59l7.72-7.72 1.47 1.35L5.41 20z\"/>\n",
              "  </svg>\n",
              "      </button>\n",
              "      \n",
              "  <style>\n",
              "    .colab-df-container {\n",
              "      display:flex;\n",
              "      flex-wrap:wrap;\n",
              "      gap: 12px;\n",
              "    }\n",
              "\n",
              "    .colab-df-convert {\n",
              "      background-color: #E8F0FE;\n",
              "      border: none;\n",
              "      border-radius: 50%;\n",
              "      cursor: pointer;\n",
              "      display: none;\n",
              "      fill: #1967D2;\n",
              "      height: 32px;\n",
              "      padding: 0 0 0 0;\n",
              "      width: 32px;\n",
              "    }\n",
              "\n",
              "    .colab-df-convert:hover {\n",
              "      background-color: #E2EBFA;\n",
              "      box-shadow: 0px 1px 2px rgba(60, 64, 67, 0.3), 0px 1px 3px 1px rgba(60, 64, 67, 0.15);\n",
              "      fill: #174EA6;\n",
              "    }\n",
              "\n",
              "    [theme=dark] .colab-df-convert {\n",
              "      background-color: #3B4455;\n",
              "      fill: #D2E3FC;\n",
              "    }\n",
              "\n",
              "    [theme=dark] .colab-df-convert:hover {\n",
              "      background-color: #434B5C;\n",
              "      box-shadow: 0px 1px 3px 1px rgba(0, 0, 0, 0.15);\n",
              "      filter: drop-shadow(0px 1px 2px rgba(0, 0, 0, 0.3));\n",
              "      fill: #FFFFFF;\n",
              "    }\n",
              "  </style>\n",
              "\n",
              "      <script>\n",
              "        const buttonEl =\n",
              "          document.querySelector('#df-f66d3056-44e7-41a6-8315-47a56bc3c189 button.colab-df-convert');\n",
              "        buttonEl.style.display =\n",
              "          google.colab.kernel.accessAllowed ? 'block' : 'none';\n",
              "\n",
              "        async function convertToInteractive(key) {\n",
              "          const element = document.querySelector('#df-f66d3056-44e7-41a6-8315-47a56bc3c189');\n",
              "          const dataTable =\n",
              "            await google.colab.kernel.invokeFunction('convertToInteractive',\n",
              "                                                     [key], {});\n",
              "          if (!dataTable) return;\n",
              "\n",
              "          const docLinkHtml = 'Like what you see? Visit the ' +\n",
              "            '<a target=\"_blank\" href=https://colab.research.google.com/notebooks/data_table.ipynb>data table notebook</a>'\n",
              "            + ' to learn more about interactive tables.';\n",
              "          element.innerHTML = '';\n",
              "          dataTable['output_type'] = 'display_data';\n",
              "          await google.colab.output.renderOutput(dataTable, element);\n",
              "          const docLink = document.createElement('div');\n",
              "          docLink.innerHTML = docLinkHtml;\n",
              "          element.appendChild(docLink);\n",
              "        }\n",
              "      </script>\n",
              "    </div>\n",
              "  </div>\n",
              "  "
            ]
          },
          "metadata": {}
        }
      ]
    },
    {
      "cell_type": "markdown",
      "source": [
        "#JobsInKent Job Search\n",
        "---\n"
      ],
      "metadata": {
        "id": "TS2GBSrFtbB6"
      }
    },
    {
      "cell_type": "markdown",
      "source": [
        "This function returns a DF containing all of the relevent jobs found on 1 page"
      ],
      "metadata": {
        "id": "REZ6sHSk9apg"
      }
    },
    {
      "cell_type": "code",
      "source": [
        "def jobsinkent_iterate(url,job_limit):\n",
        "  jobs_df = pd.DataFrame(data=[], columns = [\"job_title\", \"company\", \"salary\", \"contract\", \"location\",\"job_url\"])\n",
        "  site_html = get_html(url)\n",
        "  results = site_html.find(class_=\"mt-2 lg:mt-0\")\n",
        "\n",
        "  #this is finding an additional 20 jobs per page that are not visible on the site itself.\n",
        "  job_cards = results.find_all(class_=\"flex mb-2 border-black-900 rounded-md border-x-4 sm:rounded-lg\")\n",
        "\n",
        "\n",
        "  #[:job_limit] is required as non relevent jobs were being found in the site_html with the job_cards class after the 20~ jobs that were being show on the site.\n",
        "  # So I had to find how many jobs were being show in each page first and then limit the loop to only iterate up to that number of jobs.\n",
        "  for job in job_cards[:job_limit]:\n",
        "\n",
        "    job_title_url = job.find(\"a\", class_=\"text-blue-700 visited:text-grey-200 hover:underline\") \n",
        "    job_title = job_title_url.text\n",
        "    job_url = job_title_url[\"href\"]\n",
        "\n",
        "    company_name = job.find(class_=\"mt-0 mb-2 max-w-2xl text-sm text-black\").text \n",
        "\n",
        "    #This info was all on the fouth box class and needed to be seperated further for the relevent information to be extracted.\n",
        "    info_list = job.find_all(class_=\"col-span-12\") \n",
        "    salary = clean_bloat(info_list[0].text)\n",
        "    contract = clean_bloat(info_list[1].text)\n",
        "    location = clean_bloat(info_list[2].text)\n",
        "\n",
        "    new_row = {\"job_title\":job_title, \"company\":company_name, \"salary\":salary, \"contract\":contract, \"location\":location,\"job_url\":job_url}\n",
        "    jobs_df = jobs_df.append(new_row,ignore_index = True)\n",
        "  return jobs_df"
      ],
      "metadata": {
        "id": "9gfyVlh-r4TS"
      },
      "execution_count": 85,
      "outputs": []
    },
    {
      "cell_type": "code",
      "source": [
        "#removes '\\n' and spaces from from names.\n",
        "def clean_bloat(text):\n",
        "  strip1 = text.replace(\"\\n\",\"\").replace(\"\\xa0\",\"\")\n",
        "  strip2 = strip1.strip(\" \")\n",
        "  return strip2\n",
        "\n",
        "#extracts information about numbers of jobs \n",
        "def return_jobs_pages(input_str):\n",
        "  p_j = input_str.split(\"of\") #[showing 1 to yy] , [xx jobs]\n",
        "  jobs_per_page = int(p_j[0].split(\"to\")[1]) #[yy]\n",
        "  total_jobs = int(p_j[1].split(\"Jobs\")[0]) #[xx]\n",
        "  \n",
        "  total_pages = int(np.ceil(total_jobs/jobs_per_page))\n",
        "\n",
        "  return total_jobs, jobs_per_page, total_pages"
      ],
      "metadata": {
        "id": "sUWfIcbWI3SD"
      },
      "execution_count": 86,
      "outputs": []
    },
    {
      "cell_type": "markdown",
      "source": [
        "The main function that calls to find out how many pages are needed to search over and stores the results of each iteration call."
      ],
      "metadata": {
        "id": "SOPwBYdi-a6U"
      }
    },
    {
      "cell_type": "code",
      "source": [
        "def jobsinkent_scrape(base_url):\n",
        "  #initialse the DF that will be used\n",
        "  jobsinkent_df = pd.DataFrame(data=[], columns = [\"job_title\", \"company\", \"salary\", \"contract\", \"location\",\"job_url\"])\n",
        "\n",
        "  #returns ALL the html from the site\n",
        "  site_html = get_html(base_url)\n",
        "\n",
        "  banner = site_html.find(\"p\", class_=\"text-sm text-gray-700 leading-5\") #~6th child within the top banner.\n",
        "  showing = banner.text # 'Showing 1 to yy of xx Jobs'\n",
        "\n",
        "  total_jobs, jobs_per_page, total_pages = return_jobs_pages(showing)\n",
        "\n",
        "  for page_no in range(1,total_pages+1):\n",
        "    #this if statment is required due to the issues mentioned above about job limits. It sets the jobs_limit variable to however many jobs there are displayed (visibly) on the page.\n",
        "    if page_no == total_pages:\n",
        "      jobs_limit = total_jobs%jobs_per_page\n",
        "    else:\n",
        "      jobs_limit = jobs_per_page\n",
        "\n",
        "    page_url = base_url + \"&page=\" + str(page_no)\n",
        "    new_df = jobsinkent_iterate(page_url, jobs_limit)\n",
        "    jobsinkent_df = jobsinkent_df.append(new_df, ignore_index=True)\n",
        "  \n",
        "    #user feedback  \n",
        "    print(\"page \",page_no, \" processed\")\n",
        "\n",
        "  return jobsinkent_df\n",
        "  \n",
        "jobsinkent_df = jobsinkent_scrape(jobsinkent_url)\n",
        "display(jobsinkent_df.head(5))"
      ],
      "metadata": {
        "colab": {
          "base_uri": "https://localhost:8080/",
          "height": 258
        },
        "id": "Vsag8HN2JKKy",
        "outputId": "36a4fd5e-f179-4838-eddc-dd27988154be"
      },
      "execution_count": 87,
      "outputs": [
        {
          "output_type": "stream",
          "name": "stdout",
          "text": [
            "page  1  processed\n",
            "page  2  processed\n",
            "page  3  processed\n"
          ]
        },
        {
          "output_type": "display_data",
          "data": {
            "text/plain": [
              "                                 job_title                      company  \\\n",
              "0               Invoice Clerk / Data Entry                     Huntress   \n",
              "1                   Database Administrator  Pearson Whiffin Recruitment   \n",
              "2                      Senior Data Analyst    Clarion Housing Group Ltd   \n",
              "3  Data Analyst - Global Insurance Markets              MW Appointments   \n",
              "4                             Data Analyst  Pearson Whiffin Recruitment   \n",
              "\n",
              "                                              salary             contract  \\\n",
              "0  Up to £9.80 per hour + Holiday pay + Free parking  temporary,full-time   \n",
              "1                          £20000 - £23000 per annum  permanent,full-time   \n",
              "2                          £43264 - £59488 per annum  permanent,full-time   \n",
              "3                                         Negotiable  permanent,full-time   \n",
              "4                    £23000 - £28000 per annum + DOE  permanent,full-time   \n",
              "\n",
              "                         location                             job_url  \n",
              "0                  Dartford, Kent  https://jobsinkent.com/job/2047926  \n",
              "1             Sittingbourne, Kent  https://jobsinkent.com/job/2282433  \n",
              "2  Central London, Greater London  https://jobsinkent.com/job/2423530  \n",
              "3  City of London, Greater London  https://jobsinkent.com/job/2422053  \n",
              "4              West Malling, Kent  https://jobsinkent.com/job/2331144  "
            ],
            "text/html": [
              "\n",
              "  <div id=\"df-ed579923-8c2d-4eb9-b5a9-8240d54a9043\">\n",
              "    <div class=\"colab-df-container\">\n",
              "      <div>\n",
              "<style scoped>\n",
              "    .dataframe tbody tr th:only-of-type {\n",
              "        vertical-align: middle;\n",
              "    }\n",
              "\n",
              "    .dataframe tbody tr th {\n",
              "        vertical-align: top;\n",
              "    }\n",
              "\n",
              "    .dataframe thead th {\n",
              "        text-align: right;\n",
              "    }\n",
              "</style>\n",
              "<table border=\"1\" class=\"dataframe\">\n",
              "  <thead>\n",
              "    <tr style=\"text-align: right;\">\n",
              "      <th></th>\n",
              "      <th>job_title</th>\n",
              "      <th>company</th>\n",
              "      <th>salary</th>\n",
              "      <th>contract</th>\n",
              "      <th>location</th>\n",
              "      <th>job_url</th>\n",
              "    </tr>\n",
              "  </thead>\n",
              "  <tbody>\n",
              "    <tr>\n",
              "      <th>0</th>\n",
              "      <td>Invoice Clerk / Data Entry</td>\n",
              "      <td>Huntress</td>\n",
              "      <td>Up to £9.80 per hour + Holiday pay + Free parking</td>\n",
              "      <td>temporary,full-time</td>\n",
              "      <td>Dartford, Kent</td>\n",
              "      <td>https://jobsinkent.com/job/2047926</td>\n",
              "    </tr>\n",
              "    <tr>\n",
              "      <th>1</th>\n",
              "      <td>Database Administrator</td>\n",
              "      <td>Pearson Whiffin Recruitment</td>\n",
              "      <td>£20000 - £23000 per annum</td>\n",
              "      <td>permanent,full-time</td>\n",
              "      <td>Sittingbourne, Kent</td>\n",
              "      <td>https://jobsinkent.com/job/2282433</td>\n",
              "    </tr>\n",
              "    <tr>\n",
              "      <th>2</th>\n",
              "      <td>Senior Data Analyst</td>\n",
              "      <td>Clarion Housing Group Ltd</td>\n",
              "      <td>£43264 - £59488 per annum</td>\n",
              "      <td>permanent,full-time</td>\n",
              "      <td>Central London, Greater London</td>\n",
              "      <td>https://jobsinkent.com/job/2423530</td>\n",
              "    </tr>\n",
              "    <tr>\n",
              "      <th>3</th>\n",
              "      <td>Data Analyst - Global Insurance Markets</td>\n",
              "      <td>MW Appointments</td>\n",
              "      <td>Negotiable</td>\n",
              "      <td>permanent,full-time</td>\n",
              "      <td>City of London, Greater London</td>\n",
              "      <td>https://jobsinkent.com/job/2422053</td>\n",
              "    </tr>\n",
              "    <tr>\n",
              "      <th>4</th>\n",
              "      <td>Data Analyst</td>\n",
              "      <td>Pearson Whiffin Recruitment</td>\n",
              "      <td>£23000 - £28000 per annum + DOE</td>\n",
              "      <td>permanent,full-time</td>\n",
              "      <td>West Malling, Kent</td>\n",
              "      <td>https://jobsinkent.com/job/2331144</td>\n",
              "    </tr>\n",
              "  </tbody>\n",
              "</table>\n",
              "</div>\n",
              "      <button class=\"colab-df-convert\" onclick=\"convertToInteractive('df-ed579923-8c2d-4eb9-b5a9-8240d54a9043')\"\n",
              "              title=\"Convert this dataframe to an interactive table.\"\n",
              "              style=\"display:none;\">\n",
              "        \n",
              "  <svg xmlns=\"http://www.w3.org/2000/svg\" height=\"24px\"viewBox=\"0 0 24 24\"\n",
              "       width=\"24px\">\n",
              "    <path d=\"M0 0h24v24H0V0z\" fill=\"none\"/>\n",
              "    <path d=\"M18.56 5.44l.94 2.06.94-2.06 2.06-.94-2.06-.94-.94-2.06-.94 2.06-2.06.94zm-11 1L8.5 8.5l.94-2.06 2.06-.94-2.06-.94L8.5 2.5l-.94 2.06-2.06.94zm10 10l.94 2.06.94-2.06 2.06-.94-2.06-.94-.94-2.06-.94 2.06-2.06.94z\"/><path d=\"M17.41 7.96l-1.37-1.37c-.4-.4-.92-.59-1.43-.59-.52 0-1.04.2-1.43.59L10.3 9.45l-7.72 7.72c-.78.78-.78 2.05 0 2.83L4 21.41c.39.39.9.59 1.41.59.51 0 1.02-.2 1.41-.59l7.78-7.78 2.81-2.81c.8-.78.8-2.07 0-2.86zM5.41 20L4 18.59l7.72-7.72 1.47 1.35L5.41 20z\"/>\n",
              "  </svg>\n",
              "      </button>\n",
              "      \n",
              "  <style>\n",
              "    .colab-df-container {\n",
              "      display:flex;\n",
              "      flex-wrap:wrap;\n",
              "      gap: 12px;\n",
              "    }\n",
              "\n",
              "    .colab-df-convert {\n",
              "      background-color: #E8F0FE;\n",
              "      border: none;\n",
              "      border-radius: 50%;\n",
              "      cursor: pointer;\n",
              "      display: none;\n",
              "      fill: #1967D2;\n",
              "      height: 32px;\n",
              "      padding: 0 0 0 0;\n",
              "      width: 32px;\n",
              "    }\n",
              "\n",
              "    .colab-df-convert:hover {\n",
              "      background-color: #E2EBFA;\n",
              "      box-shadow: 0px 1px 2px rgba(60, 64, 67, 0.3), 0px 1px 3px 1px rgba(60, 64, 67, 0.15);\n",
              "      fill: #174EA6;\n",
              "    }\n",
              "\n",
              "    [theme=dark] .colab-df-convert {\n",
              "      background-color: #3B4455;\n",
              "      fill: #D2E3FC;\n",
              "    }\n",
              "\n",
              "    [theme=dark] .colab-df-convert:hover {\n",
              "      background-color: #434B5C;\n",
              "      box-shadow: 0px 1px 3px 1px rgba(0, 0, 0, 0.15);\n",
              "      filter: drop-shadow(0px 1px 2px rgba(0, 0, 0, 0.3));\n",
              "      fill: #FFFFFF;\n",
              "    }\n",
              "  </style>\n",
              "\n",
              "      <script>\n",
              "        const buttonEl =\n",
              "          document.querySelector('#df-ed579923-8c2d-4eb9-b5a9-8240d54a9043 button.colab-df-convert');\n",
              "        buttonEl.style.display =\n",
              "          google.colab.kernel.accessAllowed ? 'block' : 'none';\n",
              "\n",
              "        async function convertToInteractive(key) {\n",
              "          const element = document.querySelector('#df-ed579923-8c2d-4eb9-b5a9-8240d54a9043');\n",
              "          const dataTable =\n",
              "            await google.colab.kernel.invokeFunction('convertToInteractive',\n",
              "                                                     [key], {});\n",
              "          if (!dataTable) return;\n",
              "\n",
              "          const docLinkHtml = 'Like what you see? Visit the ' +\n",
              "            '<a target=\"_blank\" href=https://colab.research.google.com/notebooks/data_table.ipynb>data table notebook</a>'\n",
              "            + ' to learn more about interactive tables.';\n",
              "          element.innerHTML = '';\n",
              "          dataTable['output_type'] = 'display_data';\n",
              "          await google.colab.output.renderOutput(dataTable, element);\n",
              "          const docLink = document.createElement('div');\n",
              "          docLink.innerHTML = docLinkHtml;\n",
              "          element.appendChild(docLink);\n",
              "        }\n",
              "      </script>\n",
              "    </div>\n",
              "  </div>\n",
              "  "
            ]
          },
          "metadata": {}
        }
      ]
    },
    {
      "cell_type": "markdown",
      "source": [
        "Cleans the jobsinkent_df to be used later."
      ],
      "metadata": {
        "id": "c47hzOfRJku6"
      }
    },
    {
      "cell_type": "code",
      "source": [
        "jobsinkent_df = general_clean(jobsinkent_df,\"jobsinkent.com\",filter_term)"
      ],
      "metadata": {
        "id": "4QbSbRcSJlEV"
      },
      "execution_count": 89,
      "outputs": []
    },
    {
      "cell_type": "markdown",
      "source": [
        "#Combining both results\n",
        "---\n"
      ],
      "metadata": {
        "id": "kW11z72pKmed"
      }
    },
    {
      "cell_type": "markdown",
      "source": [
        "Combines the two DF's from JobsInKent"
      ],
      "metadata": {
        "id": "47bVltbM1Kqs"
      }
    },
    {
      "cell_type": "code",
      "source": [
        "data_jobs_df = pd.DataFrame()\n",
        "\n",
        "data_jobs_df = data_jobs_df.append([jobsinkent_df,reed_df],ignore_index=True)\n",
        "display(data_jobs_df)"
      ],
      "metadata": {
        "colab": {
          "base_uri": "https://localhost:8080/",
          "height": 641
        },
        "id": "A1jAk3srKp42",
        "outputId": "4585b923-055d-4f11-a3d2-bfb237cd62dc"
      },
      "execution_count": 90,
      "outputs": [
        {
          "output_type": "display_data",
          "data": {
            "text/plain": [
              "                                              job_title  \\\n",
              "0                            Invoice Clerk / Data Entry   \n",
              "1                                Database Administrator   \n",
              "2                                   Senior Data Analyst   \n",
              "3               Data Analyst - Global Insurance Markets   \n",
              "4                                          Data Analyst   \n",
              "...                                                 ...   \n",
              "1246  Freelance Account Director  (CRM-Data Marketin...   \n",
              "1247  Senior E-Trading Platform Engineer - Python/Da...   \n",
              "1248  Business Development Manager (Tech & Data) - L...   \n",
              "1249  Solutions Architect - AWS, Azure, GCP, DevOps,...   \n",
              "1250                   Temporary Database Administrator   \n",
              "\n",
              "                             company  \\\n",
              "0                           Huntress   \n",
              "1        Pearson Whiffin Recruitment   \n",
              "2          Clarion Housing Group Ltd   \n",
              "3                    MW Appointments   \n",
              "4        Pearson Whiffin Recruitment   \n",
              "...                              ...   \n",
              "1246                Bodhi Resourcing   \n",
              "1247                     Harvey Nash   \n",
              "1248      Leighton Taylor Consulting   \n",
              "1249  Opus Recruitment Solutions Ltd   \n",
              "1250          Julie Rose Recruitment   \n",
              "\n",
              "                                                 salary             contract  \\\n",
              "0     Up to £9.80 per hour + Holiday pay + Free parking  temporary,full-time   \n",
              "1                             £20000 - £23000 per annum  permanent,full-time   \n",
              "2                             £43264 - £59488 per annum  permanent,full-time   \n",
              "3                                            Negotiable  permanent,full-time   \n",
              "4                       £23000 - £28000 per annum + DOE  permanent,full-time   \n",
              "...                                                 ...                  ...   \n",
              "1246                          £250.00 - £300.00 per day            Permanent   \n",
              "1247                          £850.00 - £950.00 per day             Contract   \n",
              "1248                        £56,000 - £65,000 per annum            Permanent   \n",
              "1249                       £80,000 - £100,000 per annum            Permanent   \n",
              "1250                           £11.00 - £13.00 per hour            Temporary   \n",
              "\n",
              "                            location  \\\n",
              "0                     Dartford, Kent   \n",
              "1                Sittingbourne, Kent   \n",
              "2     Central London, Greater London   \n",
              "3     City of London, Greater London   \n",
              "4                 West Malling, Kent   \n",
              "...                              ...   \n",
              "1246                          London   \n",
              "1247                          London   \n",
              "1248                          London   \n",
              "1249                          London   \n",
              "1250                       Sevenoaks   \n",
              "\n",
              "                                                job_url  date_found  \\\n",
              "0                    https://jobsinkent.com/job/2047926  2022-11-01   \n",
              "1                    https://jobsinkent.com/job/2282433  2022-11-01   \n",
              "2                    https://jobsinkent.com/job/2423530  2022-11-01   \n",
              "3                    https://jobsinkent.com/job/2422053  2022-11-01   \n",
              "4                    https://jobsinkent.com/job/2331144  2022-11-01   \n",
              "...                                                 ...         ...   \n",
              "1246  https://www.reed.co.uk/jobs/freelance-account-...  2022-11-01   \n",
              "1247  https://www.reed.co.uk/jobs/senior-e-trading-p...  2022-11-01   \n",
              "1248  https://www.reed.co.uk/jobs/business-developme...  2022-11-01   \n",
              "1249  https://www.reed.co.uk/jobs/solutions-architec...  2022-11-01   \n",
              "1250  https://www.reed.co.uk/jobs/temporary-database...  2022-11-01   \n",
              "\n",
              "               advertised_on  \n",
              "0             jobsinkent.com  \n",
              "1             jobsinkent.com  \n",
              "2             jobsinkent.com  \n",
              "3             jobsinkent.com  \n",
              "4             jobsinkent.com  \n",
              "...                      ...  \n",
              "1246  https://www.reed.co.uk  \n",
              "1247  https://www.reed.co.uk  \n",
              "1248  https://www.reed.co.uk  \n",
              "1249  https://www.reed.co.uk  \n",
              "1250  https://www.reed.co.uk  \n",
              "\n",
              "[1251 rows x 8 columns]"
            ],
            "text/html": [
              "\n",
              "  <div id=\"df-bc4886b4-6726-4e1d-baba-152900594243\">\n",
              "    <div class=\"colab-df-container\">\n",
              "      <div>\n",
              "<style scoped>\n",
              "    .dataframe tbody tr th:only-of-type {\n",
              "        vertical-align: middle;\n",
              "    }\n",
              "\n",
              "    .dataframe tbody tr th {\n",
              "        vertical-align: top;\n",
              "    }\n",
              "\n",
              "    .dataframe thead th {\n",
              "        text-align: right;\n",
              "    }\n",
              "</style>\n",
              "<table border=\"1\" class=\"dataframe\">\n",
              "  <thead>\n",
              "    <tr style=\"text-align: right;\">\n",
              "      <th></th>\n",
              "      <th>job_title</th>\n",
              "      <th>company</th>\n",
              "      <th>salary</th>\n",
              "      <th>contract</th>\n",
              "      <th>location</th>\n",
              "      <th>job_url</th>\n",
              "      <th>date_found</th>\n",
              "      <th>advertised_on</th>\n",
              "    </tr>\n",
              "  </thead>\n",
              "  <tbody>\n",
              "    <tr>\n",
              "      <th>0</th>\n",
              "      <td>Invoice Clerk / Data Entry</td>\n",
              "      <td>Huntress</td>\n",
              "      <td>Up to £9.80 per hour + Holiday pay + Free parking</td>\n",
              "      <td>temporary,full-time</td>\n",
              "      <td>Dartford, Kent</td>\n",
              "      <td>https://jobsinkent.com/job/2047926</td>\n",
              "      <td>2022-11-01</td>\n",
              "      <td>jobsinkent.com</td>\n",
              "    </tr>\n",
              "    <tr>\n",
              "      <th>1</th>\n",
              "      <td>Database Administrator</td>\n",
              "      <td>Pearson Whiffin Recruitment</td>\n",
              "      <td>£20000 - £23000 per annum</td>\n",
              "      <td>permanent,full-time</td>\n",
              "      <td>Sittingbourne, Kent</td>\n",
              "      <td>https://jobsinkent.com/job/2282433</td>\n",
              "      <td>2022-11-01</td>\n",
              "      <td>jobsinkent.com</td>\n",
              "    </tr>\n",
              "    <tr>\n",
              "      <th>2</th>\n",
              "      <td>Senior Data Analyst</td>\n",
              "      <td>Clarion Housing Group Ltd</td>\n",
              "      <td>£43264 - £59488 per annum</td>\n",
              "      <td>permanent,full-time</td>\n",
              "      <td>Central London, Greater London</td>\n",
              "      <td>https://jobsinkent.com/job/2423530</td>\n",
              "      <td>2022-11-01</td>\n",
              "      <td>jobsinkent.com</td>\n",
              "    </tr>\n",
              "    <tr>\n",
              "      <th>3</th>\n",
              "      <td>Data Analyst - Global Insurance Markets</td>\n",
              "      <td>MW Appointments</td>\n",
              "      <td>Negotiable</td>\n",
              "      <td>permanent,full-time</td>\n",
              "      <td>City of London, Greater London</td>\n",
              "      <td>https://jobsinkent.com/job/2422053</td>\n",
              "      <td>2022-11-01</td>\n",
              "      <td>jobsinkent.com</td>\n",
              "    </tr>\n",
              "    <tr>\n",
              "      <th>4</th>\n",
              "      <td>Data Analyst</td>\n",
              "      <td>Pearson Whiffin Recruitment</td>\n",
              "      <td>£23000 - £28000 per annum + DOE</td>\n",
              "      <td>permanent,full-time</td>\n",
              "      <td>West Malling, Kent</td>\n",
              "      <td>https://jobsinkent.com/job/2331144</td>\n",
              "      <td>2022-11-01</td>\n",
              "      <td>jobsinkent.com</td>\n",
              "    </tr>\n",
              "    <tr>\n",
              "      <th>...</th>\n",
              "      <td>...</td>\n",
              "      <td>...</td>\n",
              "      <td>...</td>\n",
              "      <td>...</td>\n",
              "      <td>...</td>\n",
              "      <td>...</td>\n",
              "      <td>...</td>\n",
              "      <td>...</td>\n",
              "    </tr>\n",
              "    <tr>\n",
              "      <th>1246</th>\n",
              "      <td>Freelance Account Director  (CRM-Data Marketin...</td>\n",
              "      <td>Bodhi Resourcing</td>\n",
              "      <td>£250.00 - £300.00 per day</td>\n",
              "      <td>Permanent</td>\n",
              "      <td>London</td>\n",
              "      <td>https://www.reed.co.uk/jobs/freelance-account-...</td>\n",
              "      <td>2022-11-01</td>\n",
              "      <td>https://www.reed.co.uk</td>\n",
              "    </tr>\n",
              "    <tr>\n",
              "      <th>1247</th>\n",
              "      <td>Senior E-Trading Platform Engineer - Python/Da...</td>\n",
              "      <td>Harvey Nash</td>\n",
              "      <td>£850.00 - £950.00 per day</td>\n",
              "      <td>Contract</td>\n",
              "      <td>London</td>\n",
              "      <td>https://www.reed.co.uk/jobs/senior-e-trading-p...</td>\n",
              "      <td>2022-11-01</td>\n",
              "      <td>https://www.reed.co.uk</td>\n",
              "    </tr>\n",
              "    <tr>\n",
              "      <th>1248</th>\n",
              "      <td>Business Development Manager (Tech &amp; Data) - L...</td>\n",
              "      <td>Leighton Taylor Consulting</td>\n",
              "      <td>£56,000 - £65,000 per annum</td>\n",
              "      <td>Permanent</td>\n",
              "      <td>London</td>\n",
              "      <td>https://www.reed.co.uk/jobs/business-developme...</td>\n",
              "      <td>2022-11-01</td>\n",
              "      <td>https://www.reed.co.uk</td>\n",
              "    </tr>\n",
              "    <tr>\n",
              "      <th>1249</th>\n",
              "      <td>Solutions Architect - AWS, Azure, GCP, DevOps,...</td>\n",
              "      <td>Opus Recruitment Solutions Ltd</td>\n",
              "      <td>£80,000 - £100,000 per annum</td>\n",
              "      <td>Permanent</td>\n",
              "      <td>London</td>\n",
              "      <td>https://www.reed.co.uk/jobs/solutions-architec...</td>\n",
              "      <td>2022-11-01</td>\n",
              "      <td>https://www.reed.co.uk</td>\n",
              "    </tr>\n",
              "    <tr>\n",
              "      <th>1250</th>\n",
              "      <td>Temporary Database Administrator</td>\n",
              "      <td>Julie Rose Recruitment</td>\n",
              "      <td>£11.00 - £13.00 per hour</td>\n",
              "      <td>Temporary</td>\n",
              "      <td>Sevenoaks</td>\n",
              "      <td>https://www.reed.co.uk/jobs/temporary-database...</td>\n",
              "      <td>2022-11-01</td>\n",
              "      <td>https://www.reed.co.uk</td>\n",
              "    </tr>\n",
              "  </tbody>\n",
              "</table>\n",
              "<p>1251 rows × 8 columns</p>\n",
              "</div>\n",
              "      <button class=\"colab-df-convert\" onclick=\"convertToInteractive('df-bc4886b4-6726-4e1d-baba-152900594243')\"\n",
              "              title=\"Convert this dataframe to an interactive table.\"\n",
              "              style=\"display:none;\">\n",
              "        \n",
              "  <svg xmlns=\"http://www.w3.org/2000/svg\" height=\"24px\"viewBox=\"0 0 24 24\"\n",
              "       width=\"24px\">\n",
              "    <path d=\"M0 0h24v24H0V0z\" fill=\"none\"/>\n",
              "    <path d=\"M18.56 5.44l.94 2.06.94-2.06 2.06-.94-2.06-.94-.94-2.06-.94 2.06-2.06.94zm-11 1L8.5 8.5l.94-2.06 2.06-.94-2.06-.94L8.5 2.5l-.94 2.06-2.06.94zm10 10l.94 2.06.94-2.06 2.06-.94-2.06-.94-.94-2.06-.94 2.06-2.06.94z\"/><path d=\"M17.41 7.96l-1.37-1.37c-.4-.4-.92-.59-1.43-.59-.52 0-1.04.2-1.43.59L10.3 9.45l-7.72 7.72c-.78.78-.78 2.05 0 2.83L4 21.41c.39.39.9.59 1.41.59.51 0 1.02-.2 1.41-.59l7.78-7.78 2.81-2.81c.8-.78.8-2.07 0-2.86zM5.41 20L4 18.59l7.72-7.72 1.47 1.35L5.41 20z\"/>\n",
              "  </svg>\n",
              "      </button>\n",
              "      \n",
              "  <style>\n",
              "    .colab-df-container {\n",
              "      display:flex;\n",
              "      flex-wrap:wrap;\n",
              "      gap: 12px;\n",
              "    }\n",
              "\n",
              "    .colab-df-convert {\n",
              "      background-color: #E8F0FE;\n",
              "      border: none;\n",
              "      border-radius: 50%;\n",
              "      cursor: pointer;\n",
              "      display: none;\n",
              "      fill: #1967D2;\n",
              "      height: 32px;\n",
              "      padding: 0 0 0 0;\n",
              "      width: 32px;\n",
              "    }\n",
              "\n",
              "    .colab-df-convert:hover {\n",
              "      background-color: #E2EBFA;\n",
              "      box-shadow: 0px 1px 2px rgba(60, 64, 67, 0.3), 0px 1px 3px 1px rgba(60, 64, 67, 0.15);\n",
              "      fill: #174EA6;\n",
              "    }\n",
              "\n",
              "    [theme=dark] .colab-df-convert {\n",
              "      background-color: #3B4455;\n",
              "      fill: #D2E3FC;\n",
              "    }\n",
              "\n",
              "    [theme=dark] .colab-df-convert:hover {\n",
              "      background-color: #434B5C;\n",
              "      box-shadow: 0px 1px 3px 1px rgba(0, 0, 0, 0.15);\n",
              "      filter: drop-shadow(0px 1px 2px rgba(0, 0, 0, 0.3));\n",
              "      fill: #FFFFFF;\n",
              "    }\n",
              "  </style>\n",
              "\n",
              "      <script>\n",
              "        const buttonEl =\n",
              "          document.querySelector('#df-bc4886b4-6726-4e1d-baba-152900594243 button.colab-df-convert');\n",
              "        buttonEl.style.display =\n",
              "          google.colab.kernel.accessAllowed ? 'block' : 'none';\n",
              "\n",
              "        async function convertToInteractive(key) {\n",
              "          const element = document.querySelector('#df-bc4886b4-6726-4e1d-baba-152900594243');\n",
              "          const dataTable =\n",
              "            await google.colab.kernel.invokeFunction('convertToInteractive',\n",
              "                                                     [key], {});\n",
              "          if (!dataTable) return;\n",
              "\n",
              "          const docLinkHtml = 'Like what you see? Visit the ' +\n",
              "            '<a target=\"_blank\" href=https://colab.research.google.com/notebooks/data_table.ipynb>data table notebook</a>'\n",
              "            + ' to learn more about interactive tables.';\n",
              "          element.innerHTML = '';\n",
              "          dataTable['output_type'] = 'display_data';\n",
              "          await google.colab.output.renderOutput(dataTable, element);\n",
              "          const docLink = document.createElement('div');\n",
              "          docLink.innerHTML = docLinkHtml;\n",
              "          element.appendChild(docLink);\n",
              "        }\n",
              "      </script>\n",
              "    </div>\n",
              "  </div>\n",
              "  "
            ]
          },
          "metadata": {}
        }
      ]
    },
    {
      "cell_type": "markdown",
      "source": [
        "This returns a **unique** list of recruiters and compaies who are advertiseing data roles"
      ],
      "metadata": {
        "id": "A_Ke9HwHMJ0C"
      }
    },
    {
      "cell_type": "code",
      "source": [
        "def find_company_lists():\n",
        "  data_jobs_employer_names = data_jobs_df.drop_duplicates(subset = \"company\") #data_jobs_df[\"company\"].unique()\n",
        "\n",
        "  #seperating out all recruitment companies from the list\n",
        "  companies_df = data_jobs_employer_names.drop( data_jobs_employer_names[ data_jobs_employer_names[\"company\"].str.contains(\"Recruit\")==True].index)\n",
        "\n",
        "  #This requires going through each company and deciding if they are a recruitment agency or not if they dont have 'Recruit' in their name and adding them to the list.\n",
        "  additional_recruiter_list = [\"Reed\",\"OnetoOne Personnel\",\"Huntress\",\"MW Appointments\",\"P3 Search & Selection\",\"Manpower - Ashford\",\"Morgan McKinley\",\"Brook Street\",\"McGregor Boyall\",\"SAGA\",\"Office Angels\",\"REED\",\n",
        "                            \"Commercial Services Interim & Executive Search\",\"Harnham\",\"Connect2Staff\",\"Senitor Associates\",\"Zorba Consulting Limited\",\"GerrardWhite\",\"Lorien\",\"Morgan Law\", \"Academics\",\"eFinancialCareers\",\n",
        "                            \"Commercial Services HR\", \"OBJECTIVE HR LTD\" ]\n",
        "  it_specialits = [\"Senitor Associates\",\"Zorba Consulting Limited\",\"GerrardWhite\",\"Lorien\",\"eFinancialCareers\"]\n",
        "\n",
        "  companies_df = companies_df.drop( companies_df[companies_df[\"company\"].isin(additional_recruiter_list) == True ].index)\n",
        "  companies_list = companies_df[\"company\"]\n",
        "\n",
        "  recruiters_df1 = data_jobs_employer_names.drop( data_jobs_employer_names[ data_jobs_employer_names[\"company\"].str.contains(\"Recruit\")==False].index) #drop 'Recruit' is not in name\n",
        "  recruiters_df2 = data_jobs_employer_names.drop( data_jobs_employer_names[data_jobs_employer_names[\"company\"].isin(additional_recruiter_list) == False ].index) #drop if company is not in 'additional_drop_list'\n",
        "\n",
        "  recruiters_df = recruiters_df1.append(recruiters_df2,ignore_index=True) #combine the two sets of lists\n",
        "  recruiters_list = recruiters_df[\"company\"]\n",
        "\n",
        "  return companies_list, recruiters_list\n",
        "\n",
        "companies_list, recruiters_list = find_company_lists()"
      ],
      "metadata": {
        "id": "BFpCe9WMMKEy"
      },
      "execution_count": 91,
      "outputs": []
    },
    {
      "cell_type": "code",
      "source": [
        "display(companies_list)"
      ],
      "metadata": {
        "colab": {
          "base_uri": "https://localhost:8080/",
          "height": 225
        },
        "id": "OYRHyX7YlFiK",
        "outputId": "198f7a2c-2046-46f3-ec75-29049b329731"
      },
      "execution_count": 92,
      "outputs": [
        {
          "output_type": "display_data",
          "data": {
            "text/plain": [
              "2             Clarion Housing Group Ltd\n",
              "7                       PW Construction\n",
              "12      Commercial Services Trading Ltd\n",
              "50                       The Rank Group\n",
              "51                            Veolia UK\n",
              "                     ...               \n",
              "1235          Skillfinder International\n",
              "1236                   Bodhi Resourcing\n",
              "1239                          VMA Group\n",
              "1241                               SS&C\n",
              "1248         Leighton Taylor Consulting\n",
              "Name: company, Length: 255, dtype: object"
            ]
          },
          "metadata": {}
        }
      ]
    },
    {
      "cell_type": "markdown",
      "source": [
        "This takes the lists of unique compaies and recruiters and returns a DataFrame with **all** the roles they have advertised."
      ],
      "metadata": {
        "id": "NFXbvgXzWkoN"
      }
    },
    {
      "cell_type": "code",
      "source": [
        "def find_company_df():\n",
        "  company_df = data_jobs_df.drop( data_jobs_df[data_jobs_df[\"company\"].isin(recruiters_list) == True ].index) #drop if company is a recruiter\n",
        "  recruiters_df = data_jobs_df.drop( data_jobs_df[data_jobs_df[\"company\"].isin(companies_list) == True ].index) #drop if company is not a recruiter\n",
        "\n",
        "  #For readability.\n",
        "  company_df.reset_index(drop=True, inplace = True)\n",
        "  recruiters_df.reset_index(drop=True, inplace = True)\n",
        "\n",
        "  return company_df, recruiters_df\n",
        "\n",
        "company_df, recruiters_df = find_company_df()\n",
        "  "
      ],
      "metadata": {
        "id": "QlYMcg9iNht-"
      },
      "execution_count": 93,
      "outputs": []
    },
    {
      "cell_type": "markdown",
      "source": [
        "To download and save the DataFrames, uncomment save() and download() and run the cell"
      ],
      "metadata": {
        "id": "TT9h2KnWU7kJ"
      }
    },
    {
      "cell_type": "code",
      "source": [
        "#saveing files names of search based on current date.\n",
        "date_today = datetime.date.today()\n",
        "recruiters_fn = str(date_today)+\"_recruitment_company_df.csv\"\n",
        "company_fn = str(date_today)+\"_data_employeer_df.csv\"\n",
        "\n",
        "#creats a .csv file in colab (cloud?) NB: This does not save the .csv files to you PC, you need to download them first.\n",
        "def save():\n",
        "  recruiters_df.to_csv(recruiters_fn)\n",
        "  company_df.to_csv(company_fn)\n",
        "\n",
        "#downloads files to pc\n",
        "def download():\n",
        "  files.download(recruiters_fn)\n",
        "  files.download(company_fn)"
      ],
      "metadata": {
        "id": "_4JzYHo4PXAu"
      },
      "execution_count": 94,
      "outputs": []
    },
    {
      "cell_type": "markdown",
      "source": [
        "###Uncomment to save and download, commented by default."
      ],
      "metadata": {
        "id": "DRsunvMr2cbr"
      }
    },
    {
      "cell_type": "code",
      "source": [
        "if save_state == True:\n",
        "  save()\n",
        "  download()\n",
        "  print(\"Saved and Printed\")\n",
        "else:\n",
        "  print(\"You did not save the DF\")"
      ],
      "metadata": {
        "id": "QhCI_tWI2cRG",
        "colab": {
          "base_uri": "https://localhost:8080/"
        },
        "outputId": "d232a29d-c711-41ab-f402-ba839e6338a6"
      },
      "execution_count": 96,
      "outputs": [
        {
          "output_type": "stream",
          "name": "stdout",
          "text": [
            "You did not save the DF\n"
          ]
        }
      ]
    }
  ]
}