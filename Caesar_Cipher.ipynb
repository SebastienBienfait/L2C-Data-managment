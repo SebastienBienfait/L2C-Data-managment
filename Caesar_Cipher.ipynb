{
  "nbformat": 4,
  "nbformat_minor": 0,
  "metadata": {
    "colab": {
      "name": "Copy of Caesar Cipher.ipynb",
      "provenance": [],
      "collapsed_sections": [],
      "include_colab_link": true
    },
    "kernelspec": {
      "name": "python3",
      "display_name": "Python 3"
    },
    "language_info": {
      "name": "python"
    }
  },
  "cells": [
    {
      "cell_type": "markdown",
      "metadata": {
        "id": "view-in-github",
        "colab_type": "text"
      },
      "source": [
        "<a href=\"https://colab.research.google.com/github/SebastienBienfait/L2C-Data-managment/blob/main/Caesar_Cipher.ipynb\" target=\"_parent\"><img src=\"https://colab.research.google.com/assets/colab-badge.svg\" alt=\"Open In Colab\"/></a>"
      ]
    },
    {
      "cell_type": "markdown",
      "source": [
        "###__What is a Ceasar Cipher?__\n",
        "\n",
        "The Caesar cipher is an example of ancient cryptography that was used by Julius Caesar so he could send secret messages (hence the name).  A key is used (which is an integer) to shift or encrypt the message a character at a time by moving it on the number of places defined by the key.  \n",
        "\n",
        "In this example, the key is 3:\n",
        "\n",
        "```\n",
        "a becomes d\n",
        "b becomes e\n",
        "c becomes f\n",
        "``` \n",
        "###__Unicode Characters__\n",
        "\n",
        "On modern computer systems there are thousands of possible characters. Each character has a number from 0 to the number of possible characters, which is the corresponding Unicode character.  Unicode is an international standard.\n",
        "\n",
        "For example, the letter A is represented by the number 65.\n",
        "\n",
        "The unicode character is used when a mathmatical calculation is to be performed on a character. The character would be converted into Unicode first, the mathmatical operation performed, and the new Unicode value passed back to Python as a character.\n",
        "\n",
        "###__Ord() Function__\n",
        "\n",
        "The Python ord() function takes one character, and converts it into a number:\n",
        "\n",
        "```\n",
        "def convert_to_unicode():\n",
        "  string = 'a'\n",
        "  unicode_num = ord(string)\n",
        "  print(unicode_num)\n",
        "convert_to_unicode()\n",
        "```\n",
        "In this example, the number 97 would be displayed as that is the Unicode equivalent of a.\n",
        "\n",
        "If the value in string was 'A', the number returned would be 95 as that is the value of a capital A.\n",
        "\n",
        "###__Chr() Function__\n",
        "\n",
        "The Python chr() function takes a Unicode number, and converts it back into a keyboard character:\n",
        "\n",
        "```\n",
        "def convert_unicode_to_char():\n",
        "  unicode_num = 97\n",
        "  new_char = chr(97)\n",
        "  print(new_char)\n",
        "convert_unicode_to_char()\n",
        "```\n",
        "\n",
        "\n",
        "\n"
      ],
      "metadata": {
        "id": "GYMFv4DjiAcw"
      }
    },
    {
      "cell_type": "code",
      "execution_count": null,
      "metadata": {
        "id": "OwAzYs5hh9br"
      },
      "outputs": [],
      "source": [
        "# Get a message and cipher key from the user and create an encrypted message  \n",
        "key = 0\n",
        "print(\"Type in a message\")\n",
        "print(\"and then put a number betweeen 1 and 12 for your key\")\n",
        "#Gather data from the user\n",
        "message = input(\"enter your message \")\n",
        "key = int(input(\"enter your key\"))\n",
        "if key >= 13:\n",
        "  print(\"That number is too high please select a number between 1 and 12\")\n",
        "else:\n",
        "  print(\"Now we can start encrypting your word!\")\n",
        "#code for the cypher\n",
        "finalword = \"\"\n",
        "for letter in message:\n",
        "  code = ord(letter)\n",
        "  if letter != ' ':\n",
        "    finishcode = code + key\n",
        "    if finishcode >= 122:\n",
        "      finishcode -= 26\n",
        "    finalword = finalword + (chr(finishcode))\n",
        "  #to deal with spaces\n",
        "  else:\n",
        "   finalword = finalword + letter \n",
        "#final coded word\n",
        "print(finalword)\n"
      ]
    },
    {
      "cell_type": "markdown",
      "source": [
        "###Code a Caesar Cipher\n",
        "\n",
        "Create a function called __encrypt_message__ and write the code:\n",
        "\n",
        "* that asks the user to enter the original message\n",
        "* that asks the user to enter the encryption key in the range of 1-12\n",
        "* that ignores spaces\n"
      ],
      "metadata": {
        "id": "aU_xuNqVg1JW"
      }
    },
    {
      "cell_type": "code",
      "source": [
        "def convert_to_unicode(string): #string variable will only take in single word inputs (no spaces)\n",
        "  return_string_list = []\n",
        "  for letter in range(len(string)):\n",
        "    unicode_num = ord(string[letter])\n",
        "    return_string_list.append(unicode_num)\n",
        "  return return_string_list\n",
        "#print(convert_to_unicode(\"az\"))\n",
        "\n",
        "def convert_to_char(unicode_num): #unicode_num will be a list of unicode numbers that will need to be recovereted into letters\n",
        "  new_word_list = []\n",
        "  new_word = \"\"\n",
        "  for i in unicode_num:\n",
        "    new_letter = chr(i)\n",
        "    new_word += new_letter\n",
        "  return new_word\n",
        "#print(convert_to_char([90]))\n",
        "\n",
        "test_string = \"don cheese\"\n",
        "test_string.split()\n",
        "\n",
        "def caesar_cipher():\n",
        "  input_string = input(\"input your text to be cypherd here (in lowercase): \")\n",
        "  input_cypher = -1\n",
        "  while input_cypher < 0 or input_cypher >12:\n",
        "    input_cypher = int(input(\"input your cypher here (1-12): \"))\n",
        "  input_string_list = input_string.split()\n",
        "\n",
        "  text_as_unicode = []\n",
        "  for word in input_string_list:\n",
        "    word_as_unicode = convert_to_unicode(word)\n",
        "    text_as_unicode.append(word_as_unicode)\n",
        "\n",
        "\n",
        "  #############\n",
        "  #performing cypher\n",
        "  #############\n",
        "\n",
        "  for i in range(len(text_as_unicode)):\n",
        "    for j in range(len(text_as_unicode[i])):\n",
        "      text_as_unicode[i][j] += input_cypher\n",
        "      if text_as_unicode[i][j] >122:\n",
        "        text_as_unicode[i][j] -= 26\n",
        "\n",
        "  cyphered_text = \"\"\n",
        "\n",
        "  #print(text_as_unicode)\n",
        "  for word in text_as_unicode:\n",
        "    #print(word)\n",
        "    cyphered_word = convert_to_char(word)\n",
        "    cyphered_text += cyphered_word + \" \"\n",
        "\n",
        "  #for i in cyphered_text_list:\n",
        "\n",
        "\n",
        "\n",
        "  return print(cyphered_text)\n",
        "\n",
        "caesar_cipher()"
      ],
      "metadata": {
        "id": "vwJ1uuxhhfhI",
        "colab": {
          "base_uri": "https://localhost:8080/"
        },
        "outputId": "fed5f42b-ab3c-44ca-e9d7-2e2a1009bc76"
      },
      "execution_count": 54,
      "outputs": [
        {
          "output_type": "stream",
          "name": "stdout",
          "text": [
            "input your text to be cypherd here (in lowercase): another test stament\n",
            "input your cypher here (1-12): 12\n",
            "mzaftqd fqef efmyqzf \n"
          ]
        }
      ]
    }
  ]
}
